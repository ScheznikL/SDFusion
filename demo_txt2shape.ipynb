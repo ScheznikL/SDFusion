{
  "cells": [
    {
      "cell_type": "markdown",
      "metadata": {
        "id": "a46PIolBovog"
      },
      "source": [
        "# SDFusion: Text-guided Generation (txt2shape)\n",
        "\n",
        "### TODO: add sample results or teaser images"
      ]
    },
    {
      "cell_type": "code",
      "source": [
        "!git clone https://github.com/ScheznikL/SDFusion.git\n",
        "%cd SDFusion\n",
        "!ls"
      ],
      "metadata": {
        "colab": {
          "base_uri": "https://localhost:8080/"
        },
        "id": "YML3ilOsqZZO",
        "outputId": "52c240fc-f4ea-4f06-cbb5-59fbbca80427"
      },
      "execution_count": null,
      "outputs": [
        {
          "output_type": "stream",
          "name": "stdout",
          "text": [
            "Cloning into 'SDFusion'...\n",
            "remote: Enumerating objects: 1979, done.\u001b[K\n",
            "remote: Counting objects: 100% (120/120), done.\u001b[K\n",
            "remote: Compressing objects: 100% (78/78), done.\u001b[K\n",
            "remote: Total 1979 (delta 54), reused 81 (delta 34), pack-reused 1859 (from 1)\u001b[K\n",
            "Receiving objects: 100% (1979/1979), 35.93 MiB | 16.85 MiB/s, done.\n",
            "Resolving deltas: 100% (815/815), done.\n",
            "Updating files: 100% (2464/2464), done.\n",
            "/content/SDFusion\n",
            "configs\t\t    demo_img2shape.ipynb\t  external   options\t   train.py\n",
            "dataset_info_files  demo_mm2shape.ipynb\t\t  launchers  preprocess    utils\n",
            "datasets\t    demo_txt2shape.ipynb\t  LICENSE    README.md\n",
            "demo_data\t    demo_uncond_shape_comp.ipynb  models     setup_env.sh\n"
          ]
        }
      ]
    },
    {
      "cell_type": "code",
      "execution_count": null,
      "metadata": {
        "id": "ngTOHKKoovoj"
      },
      "outputs": [],
      "source": [
        "# first set up which gpu to use\n",
        "import os\n",
        "gpu_ids = 0\n",
        "os.environ[\"CUDA_VISIBLE_DEVICES\"] = f\"{gpu_ids}\""
      ]
    },
    {
      "cell_type": "code",
      "source": [
        "#exit()\n",
        "#How to run a Python script in a '.py' file from a Google Colab notebook?\n",
        "from models.base_model import create_model"
      ],
      "metadata": {
        "id": "RH49NE8R1det"
      },
      "execution_count": null,
      "outputs": []
    },
    {
      "cell_type": "code",
      "source": [
        "!pip install h5py joblib trimesh scipy PyMCubes\n",
        "#pip install --upgrade PyMCubes"
      ],
      "metadata": {
        "colab": {
          "base_uri": "https://localhost:8080/"
        },
        "id": "Whf2UAAO4Ic7",
        "outputId": "d0741f87-3d72-4d39-834b-efeea92550b0"
      },
      "execution_count": null,
      "outputs": [
        {
          "output_type": "stream",
          "name": "stdout",
          "text": [
            "Requirement already satisfied: h5py in /usr/local/lib/python3.10/dist-packages (3.12.1)\n",
            "Requirement already satisfied: joblib in /usr/local/lib/python3.10/dist-packages (1.4.2)\n",
            "Collecting trimesh\n",
            "  Downloading trimesh-4.5.3-py3-none-any.whl.metadata (18 kB)\n",
            "Requirement already satisfied: scipy in /usr/local/lib/python3.10/dist-packages (1.13.1)\n",
            "Requirement already satisfied: numpy>=1.19.3 in /usr/local/lib/python3.10/dist-packages (from h5py) (1.26.4)\n",
            "Downloading trimesh-4.5.3-py3-none-any.whl (704 kB)\n",
            "\u001b[2K   \u001b[90m━━━━━━━━━━━━━━━━━━━━━━━━━━━━━━━━━━━━━━━━\u001b[0m \u001b[32m704.8/704.8 kB\u001b[0m \u001b[31m13.5 MB/s\u001b[0m eta \u001b[36m0:00:00\u001b[0m\n",
            "\u001b[?25hInstalling collected packages: trimesh\n",
            "Successfully installed trimesh-4.5.3\n"
          ]
        }
      ]
    },
    {
      "cell_type": "code",
      "source": [
        "import os\n",
        "import sys\n",
        "import torch\n",
        "need_pytorch3d=False\n",
        "try:\n",
        "    import pytorch3d\n",
        "except ModuleNotFoundError:\n",
        "    need_pytorch3d=True\n",
        "if need_pytorch3d:\n",
        "    if torch.__version__.startswith(\"2.1.\") and sys.platform.startswith(\"linux\"):\n",
        "        # We try to install PyTorch3D via a released wheel.\n",
        "        pyt_version_str=torch.__version__.split(\"+\")[0].replace(\".\", \"\")\n",
        "        version_str=\"\".join([\n",
        "            f\"py3{sys.version_info.minor}_cu\",\n",
        "            torch.version.cuda.replace(\".\",\"\"),\n",
        "            f\"_pyt{pyt_version_str}\"\n",
        "        ])\n",
        "        !pip install fvcore iopath\n",
        "        !pip install --no-index --no-cache-dir pytorch3d -f https://dl.fbaipublicfiles.com/pytorch3d/packaging/wheels/{version_str}/download.html\n",
        "    else:\n",
        "        # We try to install PyTorch3D from source.\n",
        "        !pip install 'git+https://github.com/facebookresearch/pytorch3d.git@stable'"
      ],
      "metadata": {
        "colab": {
          "base_uri": "https://localhost:8080/"
        },
        "id": "RiMDwTPe5ajn",
        "outputId": "06f0240d-ec9e-4390-ad0b-94a5d302dcde"
      },
      "execution_count": null,
      "outputs": [
        {
          "output_type": "stream",
          "name": "stdout",
          "text": [
            "Collecting git+https://github.com/facebookresearch/pytorch3d.git@stable\n",
            "  Cloning https://github.com/facebookresearch/pytorch3d.git (to revision stable) to /tmp/pip-req-build-qso0hpec\n",
            "  Running command git clone --filter=blob:none --quiet https://github.com/facebookresearch/pytorch3d.git /tmp/pip-req-build-qso0hpec\n",
            "  Running command git checkout -q 75ebeeaea0908c5527e7b1e305fbc7681382db47\n",
            "  Resolved https://github.com/facebookresearch/pytorch3d.git to commit 75ebeeaea0908c5527e7b1e305fbc7681382db47\n",
            "  Preparing metadata (setup.py) ... \u001b[?25l\u001b[?25hdone\n",
            "Collecting iopath (from pytorch3d==0.7.8)\n",
            "  Downloading iopath-0.1.10.tar.gz (42 kB)\n",
            "\u001b[2K     \u001b[90m━━━━━━━━━━━━━━━━━━━━━━━━━━━━━━━━━━━━━━━━\u001b[0m \u001b[32m42.2/42.2 kB\u001b[0m \u001b[31m3.0 MB/s\u001b[0m eta \u001b[36m0:00:00\u001b[0m\n",
            "\u001b[?25h  Preparing metadata (setup.py) ... \u001b[?25l\u001b[?25hdone\n",
            "Requirement already satisfied: tqdm in /usr/local/lib/python3.10/dist-packages (from iopath->pytorch3d==0.7.8) (4.67.1)\n",
            "Requirement already satisfied: typing_extensions in /usr/local/lib/python3.10/dist-packages (from iopath->pytorch3d==0.7.8) (4.12.2)\n",
            "Collecting portalocker (from iopath->pytorch3d==0.7.8)\n",
            "  Downloading portalocker-3.1.1-py3-none-any.whl.metadata (8.6 kB)\n",
            "Downloading portalocker-3.1.1-py3-none-any.whl (19 kB)\n",
            "Building wheels for collected packages: pytorch3d, iopath\n",
            "  Building wheel for pytorch3d (setup.py) ... \u001b[?25l\u001b[?25hdone\n",
            "  Created wheel for pytorch3d: filename=pytorch3d-0.7.8-cp310-cp310-linux_x86_64.whl size=59599692 sha256=f4afb6d61ec1de81de44dd730ca5a4fd020653263898aceb98e5c9a4ad4d1402\n",
            "  Stored in directory: /tmp/pip-ephem-wheel-cache-38v17raa/wheels/39/5f/20/2d3b6f3a35a60bdc0ba3c19da94340db9596637d1d1222473d\n",
            "  Building wheel for iopath (setup.py) ... \u001b[?25l\u001b[?25hdone\n",
            "  Created wheel for iopath: filename=iopath-0.1.10-py3-none-any.whl size=31528 sha256=bf5d44cc1c48d1022d2cb3cf9d6e86aaad89d68e6204868effea84282a92dd13\n",
            "  Stored in directory: /root/.cache/pip/wheels/9a/a3/b6/ac0fcd1b4ed5cfeb3db92e6a0e476cfd48ed0df92b91080c1d\n",
            "Successfully built pytorch3d iopath\n",
            "Installing collected packages: portalocker, iopath, pytorch3d\n",
            "Successfully installed iopath-0.1.10 portalocker-3.1.1 pytorch3d-0.7.8\n"
          ]
        }
      ]
    },
    {
      "cell_type": "code",
      "execution_count": null,
      "metadata": {
        "id": "H4rc3dvRovok"
      },
      "outputs": [],
      "source": [
        "# import libraries\n",
        "import numpy as np\n",
        "from IPython.display import Image as ipy_image\n",
        "from IPython.display import display\n",
        "from termcolor import colored, cprint\n",
        "\n",
        "import torch\n",
        "import torch.backends.cudnn as cudnn\n",
        "cudnn.benchmark = True\n",
        "import torchvision.utils as vutils\n",
        "\n",
        "from models.base_model import create_model\n",
        "from utils.util_3d import render_sdf, render_mesh, sdf_to_mesh, save_mesh_as_gif\n",
        "\n",
        "%load_ext autoreload\n",
        "%autoreload 2"
      ]
    },
    {
      "cell_type": "markdown",
      "source": [
        "# New section"
      ],
      "metadata": {
        "id": "hiAWSzGrym7E"
      }
    },
    {
      "cell_type": "code",
      "source": [
        "!pip install omegaconf"
      ],
      "metadata": {
        "colab": {
          "base_uri": "https://localhost:8080/",
          "height": 411
        },
        "id": "nnCrwizmJOFc",
        "outputId": "9097a738-bf73-4815-e81f-a361b2c583a3"
      },
      "execution_count": null,
      "outputs": [
        {
          "output_type": "stream",
          "name": "stdout",
          "text": [
            "Collecting omegaconf\n",
            "  Downloading omegaconf-2.3.0-py3-none-any.whl.metadata (3.9 kB)\n",
            "Collecting antlr4-python3-runtime==4.9.* (from omegaconf)\n",
            "  Downloading antlr4-python3-runtime-4.9.3.tar.gz (117 kB)\n",
            "\u001b[2K     \u001b[90m━━━━━━━━━━━━━━━━━━━━━━━━━━━━━━━━━━━━━━━━\u001b[0m \u001b[32m117.0/117.0 kB\u001b[0m \u001b[31m4.8 MB/s\u001b[0m eta \u001b[36m0:00:00\u001b[0m\n",
            "\u001b[?25h  Preparing metadata (setup.py) ... \u001b[?25l\u001b[?25hdone\n",
            "Requirement already satisfied: PyYAML>=5.1.0 in /usr/local/lib/python3.10/dist-packages (from omegaconf) (6.0.2)\n",
            "Downloading omegaconf-2.3.0-py3-none-any.whl (79 kB)\n",
            "\u001b[2K   \u001b[90m━━━━━━━━━━━━━━━━━━━━━━━━━━━━━━━━━━━━━━━━\u001b[0m \u001b[32m79.5/79.5 kB\u001b[0m \u001b[31m6.5 MB/s\u001b[0m eta \u001b[36m0:00:00\u001b[0m\n",
            "\u001b[?25hBuilding wheels for collected packages: antlr4-python3-runtime\n",
            "  Building wheel for antlr4-python3-runtime (setup.py) ... \u001b[?25l\u001b[?25hdone\n",
            "  Created wheel for antlr4-python3-runtime: filename=antlr4_python3_runtime-4.9.3-py3-none-any.whl size=144555 sha256=52b25fc8b661a705b0ff2330eaad3003637de85eecd6e725c040b676fa3130c0\n",
            "  Stored in directory: /root/.cache/pip/wheels/12/93/dd/1f6a127edc45659556564c5730f6d4e300888f4bca2d4c5a88\n",
            "Successfully built antlr4-python3-runtime\n",
            "Installing collected packages: antlr4-python3-runtime, omegaconf\n",
            "Successfully installed antlr4-python3-runtime-4.9.3 omegaconf-2.3.0\n"
          ]
        },
        {
          "output_type": "display_data",
          "data": {
            "application/vnd.colab-display-data+json": {
              "pip_warning": {
                "packages": [
                  "pydevd_plugins"
                ]
              },
              "id": "4ee647fcfbe2470db53e8ffe47ee0708"
            }
          },
          "metadata": {}
        }
      ]
    },
    {
      "cell_type": "code",
      "execution_count": null,
      "metadata": {
        "colab": {
          "base_uri": "https://localhost:8080/"
        },
        "id": "Q5F5K37covom",
        "outputId": "76c53666-d609-4ec0-ea61-044f94c4a986"
      },
      "outputs": [
        {
          "output_type": "stream",
          "name": "stdout",
          "text": [
            "[*] SDFusionText2ShapeOption initialized.\n"
          ]
        }
      ],
      "source": [
        "# options for the model. please check `utils/demo_util.py` for more details\n",
        "from utils.demo_util import SDFusionText2ShapeOpt\n",
        "\n",
        "seed = 2023\n",
        "opt = SDFusionText2ShapeOpt(gpu_ids=gpu_ids, seed=seed)\n",
        "device = opt.device"
      ]
    },
    {
      "cell_type": "code",
      "source": [
        "!mkdir saved_ckpt"
      ],
      "metadata": {
        "id": "FO-FyCz4J6mO"
      },
      "execution_count": null,
      "outputs": []
    },
    {
      "cell_type": "code",
      "source": [
        "# SDFusion: text-guided shape generation (txt2shape)\n",
        "!wget https://uofi.box.com/shared/static/vyqs6aex3rwbgxweyl3qh21c8p6vu33f.pth -O saved_ckpt/sdfusion-txt2shape.pth\n",
        "# VQVAE's checkpoint\n",
        "!wget https://uofi.box.com/shared/static/zdb9pm9wmxaupzclc7m8gzluj20ja0b6.pth -O saved_ckpt/vqvae-snet-all.pth"
      ],
      "metadata": {
        "colab": {
          "base_uri": "https://localhost:8080/"
        },
        "id": "RB_TIaXOJw7S",
        "outputId": "fe8fc5fb-673f-4c22-cbca-fe0a7a418dbb"
      },
      "execution_count": null,
      "outputs": [
        {
          "output_type": "stream",
          "name": "stdout",
          "text": [
            "--2025-01-06 01:40:00--  https://uofi.box.com/shared/static/vyqs6aex3rwbgxweyl3qh21c8p6vu33f.pth\n",
            "Resolving uofi.box.com (uofi.box.com)... 74.112.186.157\n",
            "Connecting to uofi.box.com (uofi.box.com)|74.112.186.157|:443... connected.\n",
            "HTTP request sent, awaiting response... 301 Moved Permanently\n",
            "Location: /public/static/vyqs6aex3rwbgxweyl3qh21c8p6vu33f.pth [following]\n",
            "--2025-01-06 01:40:00--  https://uofi.box.com/public/static/vyqs6aex3rwbgxweyl3qh21c8p6vu33f.pth\n",
            "Reusing existing connection to uofi.box.com:443.\n",
            "HTTP request sent, awaiting response... 301 Moved Permanently\n",
            "Location: https://uofi.app.box.com/public/static/vyqs6aex3rwbgxweyl3qh21c8p6vu33f.pth [following]\n",
            "--2025-01-06 01:40:00--  https://uofi.app.box.com/public/static/vyqs6aex3rwbgxweyl3qh21c8p6vu33f.pth\n",
            "Resolving uofi.app.box.com (uofi.app.box.com)... 74.112.186.157\n",
            "Connecting to uofi.app.box.com (uofi.app.box.com)|74.112.186.157|:443... connected.\n",
            "HTTP request sent, awaiting response... 302 Found\n",
            "Location: https://public.boxcloud.com/d/1/b1!w1MFSRZ4Y1D2D27DjjwdEByXAwlcJnn5TOhkxdRgBxsL1HlVwdNIN88QqSO-wl8-tdBA19AT9EE1B5djVRZ95k0CKVwvpHOSbdGs4Dr37yRbnJ6k0LOeoMk47ge6LMF3HCF3oK94cS0ipeuY0SCaW-ZeTn6OUZQ30ENMJ4R8JUHXMfJKOWClbpUZ1ANQRCT5Va41tkotdbKbryMN_lSEO_Bhdgh5AjJiZT3rGTB4bOTjAtM0xxGkwnOzszBw0XeyTfR2uEYIq1ILKjcTdWoy0e6DGkr6ZXlQRSKM4sUV_bZ2DAFuKHq_zjJfaslsixaF8hNcVej3teAfJwAHpLar93Ettc-GqbE92FPVeNjiWgnEoVVV0mz53AjjKxWSqSCcEPCykzjyteKZCv3BwnJyNuSt-Yy3fXGYUsPbe0z0DZ-16m4TqeO0MmoJUo5Hg-QTtbHFgyxXQTPHnqPl0T9wMJ6fE18efNn4Yv-2JteRQm-3VEQ2UtP3sZ5lvtbKFP4bjovMva40rXzO-Inirlc1slsP_qss61TvYxAPNfhzoMlUnGcEh24PgxzBIvSHy6n_CjYRfbXsi3dUXtle5Ci4RlCJ4XQfKWKKPqrQNbBz1O5j7M7OcoNgLCqFUVAlsDDHmWY5etny5CimtjSwKUeuGuo7tXGG9BL70qK8BfGIqC8Q9bXLU3ngql-0x6nHCvTX3pmE1gXqt2px9Js50jszDt47f0pH4RCa9CDFLjQExp643zriKmxiPODokeoBg6ytARjPN5IRebzXNnLtMf_vu-ujl49zLshx1rz_0plpGcZHXyqXRTbRvzBq57AwFqZHe_gsM1u0hDc33DnwibmQ3FPboVH29tb2Y2EvAExpHj_s34vzmpxZyrPulmPAKo83svk-722AmAqtK8sr4iPtlhF85r2pnbLJ1LhUfGxI30Dntl18R4nzgjlsL86Z5ztOtIhEYEW0hEBhLlLqKpFZ1VUVOZbQhuXjKq49wlBzNXe1tYux-LTDYLURG3fFZOGDtud6Wo6vzGzpvwEAUPgxTR3S-1JOUPhZRKarrvMFU_gf5gln6VRQRiE4vbwbxo_OfMBG2D1VIQhsP0TN-g_W8MjvE2E5eOrPKqhmZ_2H2puTYakrb0fX5DljkBhUhltrwNlbhGcAYy_kIvWeL4ki37_8jnWHGbPCMQcFFbZbP6t2ahm3WhAX-0UHKq9eG0N_EEm1aIKQ_cfUmvHR3Bwyk282OGUUlJQnXGGk24UXCByz6x8RlefVEp0OICsQ0GTrKUSp46MzVnxWw4gYkQiQhWh6Rtws4VXH2ohQ_fwsPRTPaQC66ENy5OUVFguso3fc3C5tOqjCHNLPAm5GlcYYSTFL7xmUEl2o3fxB4FedNPmW0WWZMlgGIfvPMBWl5aNk9OG3hBlQ9plKdy_THKwtWjHR9VsiFRbBDK27AfUULa7MHuTYFL3mcyho0n9Em3J735PepuRgRA2ASCvoJ9VoTqhTlp9r5ds4Iaz-enqI-eCRxmM9VILj2rA0sW1_I-gevcaE/download [following]\n",
            "--2025-01-06 01:40:02--  https://public.boxcloud.com/d/1/b1!w1MFSRZ4Y1D2D27DjjwdEByXAwlcJnn5TOhkxdRgBxsL1HlVwdNIN88QqSO-wl8-tdBA19AT9EE1B5djVRZ95k0CKVwvpHOSbdGs4Dr37yRbnJ6k0LOeoMk47ge6LMF3HCF3oK94cS0ipeuY0SCaW-ZeTn6OUZQ30ENMJ4R8JUHXMfJKOWClbpUZ1ANQRCT5Va41tkotdbKbryMN_lSEO_Bhdgh5AjJiZT3rGTB4bOTjAtM0xxGkwnOzszBw0XeyTfR2uEYIq1ILKjcTdWoy0e6DGkr6ZXlQRSKM4sUV_bZ2DAFuKHq_zjJfaslsixaF8hNcVej3teAfJwAHpLar93Ettc-GqbE92FPVeNjiWgnEoVVV0mz53AjjKxWSqSCcEPCykzjyteKZCv3BwnJyNuSt-Yy3fXGYUsPbe0z0DZ-16m4TqeO0MmoJUo5Hg-QTtbHFgyxXQTPHnqPl0T9wMJ6fE18efNn4Yv-2JteRQm-3VEQ2UtP3sZ5lvtbKFP4bjovMva40rXzO-Inirlc1slsP_qss61TvYxAPNfhzoMlUnGcEh24PgxzBIvSHy6n_CjYRfbXsi3dUXtle5Ci4RlCJ4XQfKWKKPqrQNbBz1O5j7M7OcoNgLCqFUVAlsDDHmWY5etny5CimtjSwKUeuGuo7tXGG9BL70qK8BfGIqC8Q9bXLU3ngql-0x6nHCvTX3pmE1gXqt2px9Js50jszDt47f0pH4RCa9CDFLjQExp643zriKmxiPODokeoBg6ytARjPN5IRebzXNnLtMf_vu-ujl49zLshx1rz_0plpGcZHXyqXRTbRvzBq57AwFqZHe_gsM1u0hDc33DnwibmQ3FPboVH29tb2Y2EvAExpHj_s34vzmpxZyrPulmPAKo83svk-722AmAqtK8sr4iPtlhF85r2pnbLJ1LhUfGxI30Dntl18R4nzgjlsL86Z5ztOtIhEYEW0hEBhLlLqKpFZ1VUVOZbQhuXjKq49wlBzNXe1tYux-LTDYLURG3fFZOGDtud6Wo6vzGzpvwEAUPgxTR3S-1JOUPhZRKarrvMFU_gf5gln6VRQRiE4vbwbxo_OfMBG2D1VIQhsP0TN-g_W8MjvE2E5eOrPKqhmZ_2H2puTYakrb0fX5DljkBhUhltrwNlbhGcAYy_kIvWeL4ki37_8jnWHGbPCMQcFFbZbP6t2ahm3WhAX-0UHKq9eG0N_EEm1aIKQ_cfUmvHR3Bwyk282OGUUlJQnXGGk24UXCByz6x8RlefVEp0OICsQ0GTrKUSp46MzVnxWw4gYkQiQhWh6Rtws4VXH2ohQ_fwsPRTPaQC66ENy5OUVFguso3fc3C5tOqjCHNLPAm5GlcYYSTFL7xmUEl2o3fxB4FedNPmW0WWZMlgGIfvPMBWl5aNk9OG3hBlQ9plKdy_THKwtWjHR9VsiFRbBDK27AfUULa7MHuTYFL3mcyho0n9Em3J735PepuRgRA2ASCvoJ9VoTqhTlp9r5ds4Iaz-enqI-eCRxmM9VILj2rA0sW1_I-gevcaE/download\n",
            "Resolving public.boxcloud.com (public.boxcloud.com)... 74.112.186.165, 2620:117:bff0:69::\n",
            "Connecting to public.boxcloud.com (public.boxcloud.com)|74.112.186.165|:443... connected.\n",
            "HTTP request sent, awaiting response... 200 OK\n",
            "Length: 4087970878 (3.8G) [application/octet-stream]\n",
            "Saving to: ‘saved_ckpt/sdfusion-txt2shape.pth’\n",
            "\n",
            "saved_ckpt/sdfusion 100%[===================>]   3.81G  89.8MB/s    in 47s     \n",
            "\n",
            "2025-01-06 01:40:49 (82.5 MB/s) - ‘saved_ckpt/sdfusion-txt2shape.pth’ saved [4087970878/4087970878]\n",
            "\n"
          ]
        }
      ]
    },
    {
      "cell_type": "code",
      "execution_count": null,
      "metadata": {
        "colab": {
          "base_uri": "https://localhost:8080/",
          "height": 408,
          "referenced_widgets": [
            "51e801a27c5945788d01e7b202bac532",
            "840b6b4d6e9f412cb26437b2762d9614",
            "703c79223edd47418264eeca9d8937db",
            "206673d131d34d25ac9e649d47815300",
            "b5dba488bd6b45bda195d2e9942d0c67",
            "be8f463c3ce34ee7a70775843b16dc71",
            "2b257b59f822405485e4479c02b75778",
            "70ef2231757148dc8bc028977f6ef311",
            "4ddc280e3baa4f3a8fea629260bb719a",
            "22dca5f14634435b9a81faf54a568614",
            "cc94fb9f726b4f9a8224a12e07b71703",
            "4c6f65ce882a473fa05c86335dce4cd9",
            "16b8d693f8764e4981c6380acb1f4417",
            "6c55924f6f624a7f8355be87653f403a",
            "14a0966368b74beab7ddf5baf476a227",
            "455031a8cb154c71bc21c9d4030ccc5d",
            "92373bbec570484b841e8a98b4342c4f",
            "7b8ec93e74d940b591b4481ab0ebb892",
            "f039d6cfeae44fd6b167017a9b0e97d9",
            "e85dd385f1514ba9adc5d95c0e4cdea9",
            "ec2bd99caa5b460392384711134d3a01",
            "822335727ef141ea991802ea4b9b9e78",
            "2b7f7d879f95488c96cc5902eb5ae564",
            "69be4e52f4cd4b9ba67fd259e96a2456",
            "3d874615f711437181cfda094e444d3d",
            "276c635f646641669f7f5614b9bdfb25",
            "ca2fcba54dd04ea6bb96093af7043388",
            "56817b4aa9ef49fd942473b5dee38998",
            "5b2a99ee8be34eba9ade8f75fd44664a",
            "378d26786b9b4769a6b5be039e58a40c",
            "2bdad5527e254fe3b60b97c35861d1aa",
            "02c6a2726b0a4795a2c41450a6b10951",
            "4dd15c69963444c5b431c8867bfc6bff",
            "8e440f2689db49cd951e42cccfad0afb",
            "97a17516c7cf445fa3556ba142b9a9a3",
            "b003008ca14d4ff2b0b5f34a1642475f",
            "04ed441c85fd4b869245c3faaae50115",
            "8910317b52d0463e9c0e8c04b1c85012",
            "adbd76dd82454710b57f19dcc5dfe16b",
            "5cf840033590468592371dbff5047b87",
            "034cf82dfdde481693d26bb10750d115",
            "11168e4270b141eb904d8ce8a48be217",
            "e2cd38d2f9fa47ec8e16956c65ba123a",
            "20cb7e33e6484efbaba786145cbeac32"
          ]
        },
        "id": "YE1vp0Owovon",
        "outputId": "07b824e9-08c0-4898-d102-6f412d8e0afe"
      },
      "outputs": [
        {
          "output_type": "stream",
          "name": "stdout",
          "text": [
            "Working with z of shape (1, 3, 16, 16, 16) = 12288 dimensions.\n",
            "[*] VQVAE: weight successfully load from: saved_ckpt/vqvae-snet-all.pth\n"
          ]
        },
        {
          "output_type": "stream",
          "name": "stderr",
          "text": [
            "/usr/local/lib/python3.10/dist-packages/huggingface_hub/utils/_auth.py:94: UserWarning: \n",
            "The secret `HF_TOKEN` does not exist in your Colab secrets.\n",
            "To authenticate with the Hugging Face Hub, create a token in your settings tab (https://huggingface.co/settings/tokens), set it as secret in your Google Colab and restart your session.\n",
            "You will be able to reuse this secret in all of your notebooks.\n",
            "Please note that authentication is recommended but still optional to access public models or datasets.\n",
            "  warnings.warn(\n"
          ]
        },
        {
          "output_type": "display_data",
          "data": {
            "text/plain": [
              "tokenizer_config.json:   0%|          | 0.00/48.0 [00:00<?, ?B/s]"
            ],
            "application/vnd.jupyter.widget-view+json": {
              "version_major": 2,
              "version_minor": 0,
              "model_id": "51e801a27c5945788d01e7b202bac532"
            }
          },
          "metadata": {}
        },
        {
          "output_type": "display_data",
          "data": {
            "text/plain": [
              "vocab.txt:   0%|          | 0.00/232k [00:00<?, ?B/s]"
            ],
            "application/vnd.jupyter.widget-view+json": {
              "version_major": 2,
              "version_minor": 0,
              "model_id": "4c6f65ce882a473fa05c86335dce4cd9"
            }
          },
          "metadata": {}
        },
        {
          "output_type": "display_data",
          "data": {
            "text/plain": [
              "tokenizer.json:   0%|          | 0.00/466k [00:00<?, ?B/s]"
            ],
            "application/vnd.jupyter.widget-view+json": {
              "version_major": 2,
              "version_minor": 0,
              "model_id": "2b7f7d879f95488c96cc5902eb5ae564"
            }
          },
          "metadata": {}
        },
        {
          "output_type": "display_data",
          "data": {
            "text/plain": [
              "config.json:   0%|          | 0.00/570 [00:00<?, ?B/s]"
            ],
            "application/vnd.jupyter.widget-view+json": {
              "version_major": 2,
              "version_minor": 0,
              "model_id": "8e440f2689db49cd951e42cccfad0afb"
            }
          },
          "metadata": {}
        },
        {
          "output_type": "stream",
          "name": "stderr",
          "text": [
            "/content/SDFusion/models/sdfusion_txt2shape_model.py:567: FutureWarning: You are using `torch.load` with `weights_only=False` (the current default value), which uses the default pickle module implicitly. It is possible to construct malicious pickle data which will execute arbitrary code during unpickling (See https://github.com/pytorch/pytorch/blob/main/SECURITY.md#untrusted-models for more details). In a future release, the default value for `weights_only` will be flipped to `True`. This limits the functions that could be executed during unpickling. Arbitrary objects will no longer be allowed to be loaded via this mode unless they are explicitly allowlisted by the user via `torch.serialization.add_safe_globals`. We recommend you start setting `weights_only=True` for any use case where you don't have full control of the loaded file. Please open an issue on GitHub for any issues related to this experimental feature.\n",
            "  state_dict = torch.load(ckpt, map_location=map_fn)\n"
          ]
        },
        {
          "output_type": "stream",
          "name": "stdout",
          "text": [
            "[*] weight successfully load from: saved_ckpt/sdfusion-txt2shape.pth\n",
            "[*] setting ddim_steps=100\n",
            "[*] Model has been created: SDFusion-Text2Shape-Model\n",
            "[*] \"SDFusion-Text2Shape-Model\" loaded.\n"
          ]
        }
      ],
      "source": [
        "# initialize SDFusion model\n",
        "ckpt_path = 'saved_ckpt/sdfusion-txt2shape.pth'\n",
        "opt.init_model_args(ckpt_path=ckpt_path)\n",
        "\n",
        "SDFusion = create_model(opt)\n",
        "cprint(f'[*] \"{SDFusion.name()}\" loaded.', 'cyan')"
      ]
    },
    {
      "cell_type": "markdown",
      "metadata": {
        "id": "IeqFgJDoovon"
      },
      "source": [
        "## SDFusion: text-guided generation (txt2shape)"
      ]
    },
    {
      "cell_type": "code",
      "execution_count": null,
      "metadata": {
        "colab": {
          "base_uri": "https://localhost:8080/",
          "height": 122
        },
        "id": "tGnRcZk0ovon",
        "outputId": "05bc2618-b4b1-413d-dcaf-847644251e4a"
      },
      "outputs": [
        {
          "output_type": "stream",
          "name": "stdout",
          "text": [
            "Data shape for DDIM sampling is (1, 3, 16, 16, 16), eta 0.0\n",
            "Running DDIM Sampling with 100 timesteps\n"
          ]
        },
        {
          "output_type": "stream",
          "name": "stderr",
          "text": [
            "DDIM Sampler: 100%|██████████| 100/100 [00:59<00:00,  1.69it/s]\n"
          ]
        },
        {
          "output_type": "execute_result",
          "data": {
            "text/plain": [
              "'# Save meshes to .obj and/or .ply\\nfor i, mesh in enumerate(mesh_gen):\\n    verts, faces = mesh.verts_packed(), mesh.faces_packed()\\n    # Save to .obj format\\n    obj_path = f\"{out_dir}/shape_{i}_{input_txt.replace(\\' \\', \\'_\\')}.obj\"\\n    save_obj(obj_path, verts, faces)\\n    print(f\"Saved OBJ to {obj_path}\")'"
            ],
            "application/vnd.google.colaboratory.intrinsic+json": {
              "type": "string"
            }
          },
          "metadata": {},
          "execution_count": 14
        }
      ],
      "source": [
        "\n",
        "# txt2shape\n",
        "out_dir = 'demo_results'\n",
        "if not os.path.exists(out_dir): os.makedirs(out_dir)\n",
        "\n",
        "# change the input text here to generate different chairs/tables!\n",
        "input_txt_old = \"A round red color chair with four legs 0.5 meters in length each\"\n",
        "input_txt = \"Generate a chair with four legs of 0.53 meters in length, a round seat cushion with a radius of 1/2 of leg length, and a slat back with gaps of 0.11 meters.\"\n",
        "\n",
        "ngen = 1 # number of generated shapes\n",
        "ddim_steps = 100\n",
        "ddim_eta = 0.\n",
        "uc_scale = 3.\n",
        "# Log start time\n",
        "start_time = datetime.now()\n",
        "print(f\"{start_time}: Starting txt2shape generation\")\n",
        "\n",
        "sdf_gen = SDFusion.txt2shape(input_txt=input_txt, ngen=ngen, ddim_steps=ddim_steps, ddim_eta=ddim_eta, uc_scale=uc_scale)\n",
        "\n",
        "# Log after sdf_to_mesh generation\n",
        "end_time = datetime.now()\n",
        "print(f\"{end_time}: Completed sdf_to_mesh\")\n",
        "\n",
        "mesh_gen = sdf_to_mesh(sdf_gen)\n",
        "\n",
        "'''# Save meshes to .obj and/or .ply\n",
        "for i, mesh in enumerate(mesh_gen):\n",
        "    verts, faces = mesh.verts_packed(), mesh.faces_packed()\n",
        "    # Save to .obj format\n",
        "    obj_path = f\"{out_dir}/shape_{i}_{input_txt.replace(' ', '_')}.obj\"\n",
        "    save_obj(obj_path, verts, faces)\n",
        "    print(f\"Saved OBJ to {obj_path}\")'''\n",
        "\n",
        "# vis as gif\n",
        "#gen_name = f'{out_dir}/txt2shape-{input_txt}.gif'\n",
        "#save_mesh_as_gif(SDFusion.renderer, mesh_gen, nrow=3, out_name=gen_name)\n",
        "\n",
        "#print(f'Input: \"{input_txt}\"')\n",
        "#for name in [gen_name]:\n",
        "#    display(ipy_image(name))"
      ]
    },
    {
      "cell_type": "code",
      "source": [
        "#@title save Mesh\n",
        "#from pytorch3d.io import save_mesh\n",
        "from pathlib import Path\n",
        "from pytorch3d.io import IO\n",
        "\n",
        "for i, mesh in enumerate(mesh_gen):\n",
        "  #mesh.textures.faces_verts_textures_packed()\n",
        "\n",
        "    mesh_path = Path(out_dir) / f\"NEWshape_{i}_{input_txt.replace(' ', '_')}.ply\"\n",
        "    IO().save_mesh(mesh, mesh_path,include_textures=True) #binary=False, colors_as_uint8=True\n",
        "\n",
        "# Directory for saving meshes\n",
        "#out_dir = 'demo_results'\n",
        "#Path(out_dir).mkdir(parents=True, exist_ok=True)\n",
        "\n",
        "# Iterate through generated meshes and save each one\n",
        "'''for i, mesh in enumerate(mesh_gen):\n",
        "    # Ensure the mesh has only one element\n",
        "    #mesh = mesh.extend(1)  # Create a single-element Meshes object\n",
        "\n",
        "    # Define the output path\n",
        "\n",
        "\n",
        "    # Save the mesh with textures included\n",
        "    save_mesh(mesh, mesh_path, binary=True, include_textures=True)\n",
        "    print(f\"Saved mesh to {mesh_path}\")'''"
      ],
      "metadata": {
        "colab": {
          "base_uri": "https://localhost:8080/",
          "height": 70
        },
        "id": "LelV0_kc6dvB",
        "outputId": "5ba9642e-4fdb-4f0d-dd74-44b82b5be29d"
      },
      "execution_count": null,
      "outputs": [
        {
          "output_type": "execute_result",
          "data": {
            "text/plain": [
              "'for i, mesh in enumerate(mesh_gen):\\n    # Ensure the mesh has only one element\\n    #mesh = mesh.extend(1)  # Create a single-element Meshes object\\n\\n    # Define the output path\\n    \\n\\n    # Save the mesh with textures included\\n    save_mesh(mesh, mesh_path, binary=True, include_textures=True)\\n    print(f\"Saved mesh to {mesh_path}\")'"
            ],
            "application/vnd.google.colaboratory.intrinsic+json": {
              "type": "string"
            }
          },
          "metadata": {},
          "execution_count": 29
        }
      ]
    },
    {
      "cell_type": "code",
      "source": [
        "import os\n",
        "import torch\n",
        "import matplotlib.pyplot as plt\n",
        "'''\n",
        "# Util function for loading meshes\n",
        "from pytorch3d.io import load_objs_as_meshes, load_obj\n",
        "\n",
        "# Data structures and functions for rendering\n",
        "from pytorch3d.structures import Meshes\n",
        "from pytorch3d.vis.plotly_vis import AxisArgs, plot_batch_individually, plot_scene\n",
        "from pytorch3d.vis.texture_vis import texturesuv_image_matplotlib\n",
        "from pytorch3d.renderer import (\n",
        "    look_at_view_transform,\n",
        "    FoVPerspectiveCameras,\n",
        "    PointLights,\n",
        "    DirectionalLights,\n",
        "    Materials,\n",
        "    RasterizationSettings,\n",
        "    MeshRenderer,\n",
        "    MeshRasterizer,\n",
        "    SoftPhongShader,\n",
        "    TexturesUV,\n",
        "    TexturesVertex\n",
        ")\n",
        "'''\n"
      ],
      "metadata": {
        "colab": {
          "base_uri": "https://localhost:8080/",
          "height": 105
        },
        "id": "463EMJah__kC",
        "outputId": "3ef0216a-2bea-498b-bae4-8e974af1a664"
      },
      "execution_count": null,
      "outputs": [
        {
          "output_type": "execute_result",
          "data": {
            "text/plain": [
              "'\\n# Util function for loading meshes\\nfrom pytorch3d.io import load_objs_as_meshes, load_obj\\n\\n# Data structures and functions for rendering\\nfrom pytorch3d.structures import Meshes\\nfrom pytorch3d.vis.plotly_vis import AxisArgs, plot_batch_individually, plot_scene\\nfrom pytorch3d.vis.texture_vis import texturesuv_image_matplotlib\\nfrom pytorch3d.renderer import (\\n    look_at_view_transform,\\n    FoVPerspectiveCameras, \\n    PointLights, \\n    DirectionalLights, \\n    Materials, \\n    RasterizationSettings, \\n    MeshRenderer, \\n    MeshRasterizer,  \\n    SoftPhongShader,\\n    TexturesUV,\\n    TexturesVertex\\n)\\n'"
            ],
            "application/vnd.google.colaboratory.intrinsic+json": {
              "type": "string"
            }
          },
          "metadata": {},
          "execution_count": 16
        }
      ]
    },
    {
      "cell_type": "code",
      "source": [
        "'''!wget https://raw.githubusercontent.com/facebookresearch/pytorch3d/main/docs/tutorials/utils/plot_image_grid.py\n",
        "from plot_image_grid import image_grid'''"
      ],
      "metadata": {
        "colab": {
          "base_uri": "https://localhost:8080/"
        },
        "id": "dqvQf26v_1lF",
        "outputId": "657fa8ea-427b-4964-d76b-766b47d54876"
      },
      "execution_count": null,
      "outputs": [
        {
          "output_type": "stream",
          "name": "stdout",
          "text": [
            "--2025-01-06 00:25:21--  https://raw.githubusercontent.com/facebookresearch/pytorch3d/main/docs/tutorials/utils/plot_image_grid.py\n",
            "Resolving raw.githubusercontent.com (raw.githubusercontent.com)... 185.199.108.133, 185.199.109.133, 185.199.110.133, ...\n",
            "Connecting to raw.githubusercontent.com (raw.githubusercontent.com)|185.199.108.133|:443... connected.\n",
            "HTTP request sent, awaiting response... 200 OK\n",
            "Length: 1608 (1.6K) [text/plain]\n",
            "Saving to: ‘plot_image_grid.py’\n",
            "\n",
            "plot_image_grid.py  100%[===================>]   1.57K  --.-KB/s    in 0s      \n",
            "\n",
            "2025-01-06 00:25:21 (29.3 MB/s) - ‘plot_image_grid.py’ saved [1608/1608]\n",
            "\n"
          ]
        }
      ]
    },
    {
      "cell_type": "code",
      "source": [
        "'''from pytorch3d.io import save_ply\n",
        "\n",
        "verts = mesh_gen.verts_packed()\n",
        "faces = mesh_gen.faces_packed()\n",
        "verts_rgb = mesh_gen.textures.verts_features_packed()\n",
        "\n",
        "# Save to PLY\n",
        "ply_path = Path(out_dir) / \"textured_mesh.ply\"\n",
        "save_ply(ply_path, verts, faces)\n",
        "print(f\"Saved PLY with vertex colors to {ply_path}\")'''"
      ],
      "metadata": {
        "colab": {
          "base_uri": "https://localhost:8080/",
          "height": 211
        },
        "id": "avmsiubDCwi1",
        "outputId": "e2a95a6e-a3c0-4a76-85da-700060ec5063"
      },
      "execution_count": null,
      "outputs": [
        {
          "output_type": "error",
          "ename": "NameError",
          "evalue": "name 'Path' is not defined",
          "traceback": [
            "\u001b[0;31m---------------------------------------------------------------------------\u001b[0m",
            "\u001b[0;31mNameError\u001b[0m                                 Traceback (most recent call last)",
            "\u001b[0;32m<ipython-input-17-b642a432e0e7>\u001b[0m in \u001b[0;36m<cell line: 8>\u001b[0;34m()\u001b[0m\n\u001b[1;32m      6\u001b[0m \u001b[0;34m\u001b[0m\u001b[0m\n\u001b[1;32m      7\u001b[0m \u001b[0;31m# Save to PLY\u001b[0m\u001b[0;34m\u001b[0m\u001b[0;34m\u001b[0m\u001b[0m\n\u001b[0;32m----> 8\u001b[0;31m \u001b[0mply_path\u001b[0m \u001b[0;34m=\u001b[0m \u001b[0mPath\u001b[0m\u001b[0;34m(\u001b[0m\u001b[0mout_dir\u001b[0m\u001b[0;34m)\u001b[0m \u001b[0;34m/\u001b[0m \u001b[0;34m\"textured_mesh.ply\"\u001b[0m\u001b[0;34m\u001b[0m\u001b[0;34m\u001b[0m\u001b[0m\n\u001b[0m\u001b[1;32m      9\u001b[0m \u001b[0msave_ply\u001b[0m\u001b[0;34m(\u001b[0m\u001b[0mply_path\u001b[0m\u001b[0;34m,\u001b[0m \u001b[0mverts\u001b[0m\u001b[0;34m,\u001b[0m \u001b[0mfaces\u001b[0m\u001b[0;34m)\u001b[0m\u001b[0;34m\u001b[0m\u001b[0;34m\u001b[0m\u001b[0m\n\u001b[1;32m     10\u001b[0m \u001b[0mprint\u001b[0m\u001b[0;34m(\u001b[0m\u001b[0;34mf\"Saved PLY with vertex colors to {ply_path}\"\u001b[0m\u001b[0;34m)\u001b[0m\u001b[0;34m\u001b[0m\u001b[0;34m\u001b[0m\u001b[0m\n",
            "\u001b[0;31mNameError\u001b[0m: name 'Path' is not defined"
          ]
        }
      ]
    },
    {
      "cell_type": "markdown",
      "source": [
        "## display render"
      ],
      "metadata": {
        "id": "sy1HD1-5HZdr"
      }
    },
    {
      "cell_type": "code",
      "source": [
        "#images = SDFusion.renderer(mesh)\n",
        "#mesh.textures.faces_verts_textures_packed()\n",
        "from pytorch3d.renderer import PointLights\n",
        "\n",
        "lights = PointLights(device=device, location=[[0.0, 0.0, -3.0]])\n",
        "lights.location = torch.tensor([0.2, 0.0, 0.0], device=device)[None]\n",
        "\n",
        "for i, mesh in enumerate(mesh_gen):\n",
        "    texture_image = mesh.textures.verts_features_padded().squeeze().cpu().numpy()\n",
        "    img_comb = SDFusion.renderer(mesh, lights=lights)\n",
        "    print(f\"TEXTURES ---- {mesh.textures}---\")\n",
        "    #img_comb = render_mesh(SDFusion.renderer, mesh, norm=False)\n",
        "    plt.figure(figsize=(10, 10))\n",
        "    plt.imshow(img_comb[0, ..., :3].cpu().numpy())\n",
        "   # plt.imshow(img_comb.cpu().numpy())\n",
        "    plt.axis(\"off\")"
      ],
      "metadata": {
        "colab": {
          "base_uri": "https://localhost:8080/",
          "height": 824
        },
        "id": "MsWhUHpQ_sVd",
        "outputId": "8b357055-f20b-4254-8436-a5d449ac80a7"
      },
      "execution_count": null,
      "outputs": [
        {
          "output_type": "stream",
          "name": "stdout",
          "text": [
            "TEXTURES ---- <pytorch3d.renderer.mesh.textures.TexturesVertex object at 0x7a033c7674f0>---\n"
          ]
        },
        {
          "output_type": "display_data",
          "data": {
            "text/plain": [
              "<Figure size 1000x1000 with 1 Axes>"
            ],
            "image/png": "[encoded data removed]"
          },
          "metadata": {}
        }
      ]
    },
    {
      "cell_type": "code",
      "source": [
        "'''for i, mesh in enumerate(mesh_gen):\n",
        "  plt.figure(figsize=(7,7))\n",
        "  texture_image=mesh.textures.verts_features_padded()\n",
        "  plt.imshow(texture_image.squeeze().cpu().numpy())\n",
        "  plt.axis(\"off\");'''\n",
        "for i, mesh in enumerate(mesh_gen):\n",
        "    plt.figure(figsize=(7, 7))\n",
        "\n",
        "    # Get vertex features (e.g., RGB values)\n",
        "    texture_image = mesh.textures.verts_features_padded()  # Shape: (1, N, 3)\n",
        "\n",
        "    # Check the shape of the texture\n",
        "    print(f\"Texture shape: {texture_image.shape}\")\n",
        "\n",
        "    # Visualize the texture as an array (flattening may be needed)\n",
        "    texture_image_np = texture_image.squeeze().cpu().numpy()  # Shape: (N, 3)\n",
        "    plt.imshow(texture_image_np, aspect='auto')  # Display as a continuous line\n",
        "    plt.axis(\"off\")"
      ],
      "metadata": {
        "id": "Yqh-o5PDX-uS",
        "outputId": "938d414c-6dcf-4de6-b4f9-51632f54f0fe",
        "colab": {
          "base_uri": "https://localhost:8080/",
          "height": 593
        }
      },
      "execution_count": null,
      "outputs": [
        {
          "output_type": "stream",
          "name": "stdout",
          "text": [
            "Texture shape: torch.Size([1, 8086, 3])\n"
          ]
        },
        {
          "output_type": "display_data",
          "data": {
            "text/plain": [
              "<Figure size 700x700 with 1 Axes>"
            ],
            "image/png": "[encoded data removed]"
          },
          "metadata": {}
        }
      ]
    },
    {
      "cell_type": "code",
      "source": [
        "import trimesh\n",
        "import numpy as np\n",
        "\n",
        "# Extract vertex positions, faces, and vertex colors\n",
        "verts = mesh.verts_packed().cpu().numpy()  # (N, 3)\n",
        "faces = mesh.faces_packed().cpu().numpy()  # (F, 3)\n",
        "verts_rgb = mesh.textures.verts_features_packed().cpu().numpy()  # (N, 3)\n",
        "\n",
        "# Create a Trimesh object with vertex colors\n",
        "trimesh_mesh = trimesh.Trimesh(vertices=verts, faces=faces, vertex_colors=verts_rgb)#vertex_colors=(verts_rgb * 255).astype(np.uint8)\n",
        "\n",
        "# Save to .ply\n",
        "ply_path = Path(out_dir) / f\"newshape_{i}_{input_txt.replace(' ', '_')}.ply\"\n",
        "trimesh_mesh.export(ply_path)\n",
        "print(f\"Saved mesh with vertex colors to {ply_path}\")\n"
      ],
      "metadata": {
        "id": "H47SNXyvaArx",
        "outputId": "b79351be-c1a7-4ba9-be06-a4a8cf6f6459",
        "colab": {
          "base_uri": "https://localhost:8080/"
        }
      },
      "execution_count": null,
      "outputs": [
        {
          "output_type": "stream",
          "name": "stdout",
          "text": [
            "Saved mesh with vertex colors to demo_results/newshape_0_A_round_red_color_chair_with_four_legs_0.5_meters_in_length_each.ply\n"
          ]
        }
      ]
    },
    {
      "cell_type": "code",
      "source": [
        "from pytorch3d.io import save_obj, save_ply\n",
        "\n",
        " # Assuming each mesh has a `textures` attribute with a Textures object\n",
        "for i, mesh in enumerate(mesh_gen):\n",
        "    verts, faces = mesh.verts_packed(), mesh.faces_packed()\n",
        "\n",
        "    # Save geometry and textures to .obj format\n",
        "    if hasattr(mesh, 'textures') and mesh.textures is not None:\n",
        "        vertex_colors = mesh.textures.verts_features_packed()  # Extract vertex colors\n",
        "\n",
        "        # Save to .obj without UVs but with vertex colors\n",
        "        obj_path = f\"{out_dir}/shape_{i}_{input_txt.replace(' ', '_')}_textured.obj\"\n",
        "        save_obj(obj_path, verts, faces)  # OBJ doesn't natively support vertex colors\n",
        "        print(f\"Saved OBJ to {obj_path} (vertex colors not directly supported in OBJ)\")\n",
        "\n",
        "        # Save to .ply with vertex colors\n",
        "        ply_path = f\"{out_dir}/shape_{i}_{input_txt.replace(' ', '_')}_textured.ply\"\n",
        "        save_ply(ply_path, verts, faces, verts_rgb=vertex_colors)\n",
        "        print(f\"Saved PLY to {ply_path} (with vertex colors)\")\n",
        "\n",
        "    else:\n",
        "        # Save without textures\n",
        "        obj_path = f\"{out_dir}/shape_{i}_{input_txt.replace(' ', '_')}.obj\"\n",
        "        save_obj(obj_path, verts, faces)\n",
        "        print(f\"Saved OBJ (no textures) to {obj_path}\")\n"
      ],
      "metadata": {
        "colab": {
          "base_uri": "https://localhost:8080/",
          "height": 248
        },
        "id": "hrStyMmu3zUU",
        "outputId": "63f33869-29b8-49bb-dfeb-fcc3db5b8a0f"
      },
      "execution_count": null,
      "outputs": [
        {
          "output_type": "stream",
          "name": "stdout",
          "text": [
            "Saved OBJ to demo_results/shape_0_A_round_red_color_chair_with_four_legs_0.5_meters_in_length_each_textured.obj (vertex colors not directly supported in OBJ)\n"
          ]
        },
        {
          "output_type": "error",
          "ename": "TypeError",
          "evalue": "save_ply() got an unexpected keyword argument 'verts_rgb'",
          "traceback": [
            "\u001b[0;31m---------------------------------------------------------------------------\u001b[0m",
            "\u001b[0;31mTypeError\u001b[0m                                 Traceback (most recent call last)",
            "\u001b[0;32m<ipython-input-21-8adbce2a43ba>\u001b[0m in \u001b[0;36m<cell line: 4>\u001b[0;34m()\u001b[0m\n\u001b[1;32m     16\u001b[0m         \u001b[0;31m# Save to .ply with vertex colors\u001b[0m\u001b[0;34m\u001b[0m\u001b[0;34m\u001b[0m\u001b[0m\n\u001b[1;32m     17\u001b[0m         \u001b[0mply_path\u001b[0m \u001b[0;34m=\u001b[0m \u001b[0;34mf\"{out_dir}/shape_{i}_{input_txt.replace(' ', '_')}_textured.ply\"\u001b[0m\u001b[0;34m\u001b[0m\u001b[0;34m\u001b[0m\u001b[0m\n\u001b[0;32m---> 18\u001b[0;31m         \u001b[0msave_ply\u001b[0m\u001b[0;34m(\u001b[0m\u001b[0mply_path\u001b[0m\u001b[0;34m,\u001b[0m \u001b[0mverts\u001b[0m\u001b[0;34m,\u001b[0m \u001b[0mfaces\u001b[0m\u001b[0;34m,\u001b[0m \u001b[0mverts_rgb\u001b[0m\u001b[0;34m=\u001b[0m\u001b[0mvertex_colors\u001b[0m\u001b[0;34m)\u001b[0m\u001b[0;34m\u001b[0m\u001b[0;34m\u001b[0m\u001b[0m\n\u001b[0m\u001b[1;32m     19\u001b[0m         \u001b[0mprint\u001b[0m\u001b[0;34m(\u001b[0m\u001b[0;34mf\"Saved PLY to {ply_path} (with vertex colors)\"\u001b[0m\u001b[0;34m)\u001b[0m\u001b[0;34m\u001b[0m\u001b[0;34m\u001b[0m\u001b[0m\n\u001b[1;32m     20\u001b[0m \u001b[0;34m\u001b[0m\u001b[0m\n",
            "\u001b[0;31mTypeError\u001b[0m: save_ply() got an unexpected keyword argument 'verts_rgb'"
          ]
        }
      ]
    },
    {
      "cell_type": "code",
      "execution_count": null,
      "metadata": {
        "id": "J1ZQCHmXovoo"
      },
      "outputs": [],
      "source": []
    }
  ],
  "metadata": {
    "kernelspec": {
      "display_name": "Python 3",
      "name": "python3"
    },
    "language_info": {
      "codemirror_mode": {
        "name": "ipython",
        "version": 3
      },
      "file_extension": ".py",
      "mimetype": "text/x-python",
      "name": "python",
      "nbconvert_exporter": "python",
      "pygments_lexer": "ipython3",
      "version": "3.8.11"
    },
    "vscode": {
      "interpreter": {
        "hash": "c9bb85e944c303a90ba1b7f3901817f7bc3ecb5f736863b2299a6fa67a7b3c89"
      }
    },
    "colab": {
      "provenance": [],
      "gpuType": "T4",
      "toc_visible": true
    },
    "accelerator": "GPU",
    "widgets": {
      "application/vnd.jupyter.widget-state+json": {
        "51e801a27c5945788d01e7b202bac532": {
          "model_module": "@jupyter-widgets/controls",
          "model_name": "HBoxModel",
          "model_module_version": "1.5.0",
          "state": {
            "_dom_classes": [],
            "_model_module": "@jupyter-widgets/controls",
            "_model_module_version": "1.5.0",
            "_model_name": "HBoxModel",
            "_view_count": null,
            "_view_module": "@jupyter-widgets/controls",
            "_view_module_version": "1.5.0",
            "_view_name": "HBoxView",
            "box_style": "",
            "children": [
              "IPY_MODEL_840b6b4d6e9f412cb26437b2762d9614",
              "IPY_MODEL_703c79223edd47418264eeca9d8937db",
              "IPY_MODEL_206673d131d34d25ac9e649d47815300"
            ],
            "layout": "IPY_MODEL_b5dba488bd6b45bda195d2e9942d0c67"
          }
        },
        "840b6b4d6e9f412cb26437b2762d9614": {
          "model_module": "@jupyter-widgets/controls",
          "model_name": "HTMLModel",
          "model_module_version": "1.5.0",
          "state": {
            "_dom_classes": [],
            "_model_module": "@jupyter-widgets/controls",
            "_model_module_version": "1.5.0",
            "_model_name": "HTMLModel",
            "_view_count": null,
            "_view_module": "@jupyter-widgets/controls",
            "_view_module_version": "1.5.0",
            "_view_name": "HTMLView",
            "description": "",
            "description_tooltip": null,
            "layout": "IPY_MODEL_be8f463c3ce34ee7a70775843b16dc71",
            "placeholder": "​",
            "style": "IPY_MODEL_2b257b59f822405485e4479c02b75778",
            "value": "tokenizer_config.json: 100%"
          }
        },
        "703c79223edd47418264eeca9d8937db": {
          "model_module": "@jupyter-widgets/controls",
          "model_name": "FloatProgressModel",
          "model_module_version": "1.5.0",
          "state": {
            "_dom_classes": [],
            "_model_module": "@jupyter-widgets/controls",
            "_model_module_version": "1.5.0",
            "_model_name": "FloatProgressModel",
            "_view_count": null,
            "_view_module": "@jupyter-widgets/controls",
            "_view_module_version": "1.5.0",
            "_view_name": "ProgressView",
            "bar_style": "success",
            "description": "",
            "description_tooltip": null,
            "layout": "IPY_MODEL_70ef2231757148dc8bc028977f6ef311",
            "max": 48,
            "min": 0,
            "orientation": "horizontal",
            "style": "IPY_MODEL_4ddc280e3baa4f3a8fea629260bb719a",
            "value": 48
          }
        },
        "206673d131d34d25ac9e649d47815300": {
          "model_module": "@jupyter-widgets/controls",
          "model_name": "HTMLModel",
          "model_module_version": "1.5.0",
          "state": {
            "_dom_classes": [],
            "_model_module": "@jupyter-widgets/controls",
            "_model_module_version": "1.5.0",
            "_model_name": "HTMLModel",
            "_view_count": null,
            "_view_module": "@jupyter-widgets/controls",
            "_view_module_version": "1.5.0",
            "_view_name": "HTMLView",
            "description": "",
            "description_tooltip": null,
            "layout": "IPY_MODEL_22dca5f14634435b9a81faf54a568614",
            "placeholder": "​",
            "style": "IPY_MODEL_cc94fb9f726b4f9a8224a12e07b71703",
            "value": " 48.0/48.0 [00:00&lt;00:00, 2.78kB/s]"
          }
        },
        "b5dba488bd6b45bda195d2e9942d0c67": {
          "model_module": "@jupyter-widgets/base",
          "model_name": "LayoutModel",
          "model_module_version": "1.2.0",
          "state": {
            "_model_module": "@jupyter-widgets/base",
            "_model_module_version": "1.2.0",
            "_model_name": "LayoutModel",
            "_view_count": null,
            "_view_module": "@jupyter-widgets/base",
            "_view_module_version": "1.2.0",
            "_view_name": "LayoutView",
            "align_content": null,
            "align_items": null,
            "align_self": null,
            "border": null,
            "bottom": null,
            "display": null,
            "flex": null,
            "flex_flow": null,
            "grid_area": null,
            "grid_auto_columns": null,
            "grid_auto_flow": null,
            "grid_auto_rows": null,
            "grid_column": null,
            "grid_gap": null,
            "grid_row": null,
            "grid_template_areas": null,
            "grid_template_columns": null,
            "grid_template_rows": null,
            "height": null,
            "justify_content": null,
            "justify_items": null,
            "left": null,
            "margin": null,
            "max_height": null,
            "max_width": null,
            "min_height": null,
            "min_width": null,
            "object_fit": null,
            "object_position": null,
            "order": null,
            "overflow": null,
            "overflow_x": null,
            "overflow_y": null,
            "padding": null,
            "right": null,
            "top": null,
            "visibility": null,
            "width": null
          }
        },
        "be8f463c3ce34ee7a70775843b16dc71": {
          "model_module": "@jupyter-widgets/base",
          "model_name": "LayoutModel",
          "model_module_version": "1.2.0",
          "state": {
            "_model_module": "@jupyter-widgets/base",
            "_model_module_version": "1.2.0",
            "_model_name": "LayoutModel",
            "_view_count": null,
            "_view_module": "@jupyter-widgets/base",
            "_view_module_version": "1.2.0",
            "_view_name": "LayoutView",
            "align_content": null,
            "align_items": null,
            "align_self": null,
            "border": null,
            "bottom": null,
            "display": null,
            "flex": null,
            "flex_flow": null,
            "grid_area": null,
            "grid_auto_columns": null,
            "grid_auto_flow": null,
            "grid_auto_rows": null,
            "grid_column": null,
            "grid_gap": null,
            "grid_row": null,
            "grid_template_areas": null,
            "grid_template_columns": null,
            "grid_template_rows": null,
            "height": null,
            "justify_content": null,
            "justify_items": null,
            "left": null,
            "margin": null,
            "max_height": null,
            "max_width": null,
            "min_height": null,
            "min_width": null,
            "object_fit": null,
            "object_position": null,
            "order": null,
            "overflow": null,
            "overflow_x": null,
            "overflow_y": null,
            "padding": null,
            "right": null,
            "top": null,
            "visibility": null,
            "width": null
          }
        },
        "2b257b59f822405485e4479c02b75778": {
          "model_module": "@jupyter-widgets/controls",
          "model_name": "DescriptionStyleModel",
          "model_module_version": "1.5.0",
          "state": {
            "_model_module": "@jupyter-widgets/controls",
            "_model_module_version": "1.5.0",
            "_model_name": "DescriptionStyleModel",
            "_view_count": null,
            "_view_module": "@jupyter-widgets/base",
            "_view_module_version": "1.2.0",
            "_view_name": "StyleView",
            "description_width": ""
          }
        },
        "70ef2231757148dc8bc028977f6ef311": {
          "model_module": "@jupyter-widgets/base",
          "model_name": "LayoutModel",
          "model_module_version": "1.2.0",
          "state": {
            "_model_module": "@jupyter-widgets/base",
            "_model_module_version": "1.2.0",
            "_model_name": "LayoutModel",
            "_view_count": null,
            "_view_module": "@jupyter-widgets/base",
            "_view_module_version": "1.2.0",
            "_view_name": "LayoutView",
            "align_content": null,
            "align_items": null,
            "align_self": null,
            "border": null,
            "bottom": null,
            "display": null,
            "flex": null,
            "flex_flow": null,
            "grid_area": null,
            "grid_auto_columns": null,
            "grid_auto_flow": null,
            "grid_auto_rows": null,
            "grid_column": null,
            "grid_gap": null,
            "grid_row": null,
            "grid_template_areas": null,
            "grid_template_columns": null,
            "grid_template_rows": null,
            "height": null,
            "justify_content": null,
            "justify_items": null,
            "left": null,
            "margin": null,
            "max_height": null,
            "max_width": null,
            "min_height": null,
            "min_width": null,
            "object_fit": null,
            "object_position": null,
            "order": null,
            "overflow": null,
            "overflow_x": null,
            "overflow_y": null,
            "padding": null,
            "right": null,
            "top": null,
            "visibility": null,
            "width": null
          }
        },
        "4ddc280e3baa4f3a8fea629260bb719a": {
          "model_module": "@jupyter-widgets/controls",
          "model_name": "ProgressStyleModel",
          "model_module_version": "1.5.0",
          "state": {
            "_model_module": "@jupyter-widgets/controls",
            "_model_module_version": "1.5.0",
            "_model_name": "ProgressStyleModel",
            "_view_count": null,
            "_view_module": "@jupyter-widgets/base",
            "_view_module_version": "1.2.0",
            "_view_name": "StyleView",
            "bar_color": null,
            "description_width": ""
          }
        },
        "22dca5f14634435b9a81faf54a568614": {
          "model_module": "@jupyter-widgets/base",
          "model_name": "LayoutModel",
          "model_module_version": "1.2.0",
          "state": {
            "_model_module": "@jupyter-widgets/base",
            "_model_module_version": "1.2.0",
            "_model_name": "LayoutModel",
            "_view_count": null,
            "_view_module": "@jupyter-widgets/base",
            "_view_module_version": "1.2.0",
            "_view_name": "LayoutView",
            "align_content": null,
            "align_items": null,
            "align_self": null,
            "border": null,
            "bottom": null,
            "display": null,
            "flex": null,
            "flex_flow": null,
            "grid_area": null,
            "grid_auto_columns": null,
            "grid_auto_flow": null,
            "grid_auto_rows": null,
            "grid_column": null,
            "grid_gap": null,
            "grid_row": null,
            "grid_template_areas": null,
            "grid_template_columns": null,
            "grid_template_rows": null,
            "height": null,
            "justify_content": null,
            "justify_items": null,
            "left": null,
            "margin": null,
            "max_height": null,
            "max_width": null,
            "min_height": null,
            "min_width": null,
            "object_fit": null,
            "object_position": null,
            "order": null,
            "overflow": null,
            "overflow_x": null,
            "overflow_y": null,
            "padding": null,
            "right": null,
            "top": null,
            "visibility": null,
            "width": null
          }
        },
        "cc94fb9f726b4f9a8224a12e07b71703": {
          "model_module": "@jupyter-widgets/controls",
          "model_name": "DescriptionStyleModel",
          "model_module_version": "1.5.0",
          "state": {
            "_model_module": "@jupyter-widgets/controls",
            "_model_module_version": "1.5.0",
            "_model_name": "DescriptionStyleModel",
            "_view_count": null,
            "_view_module": "@jupyter-widgets/base",
            "_view_module_version": "1.2.0",
            "_view_name": "StyleView",
            "description_width": ""
          }
        },
        "4c6f65ce882a473fa05c86335dce4cd9": {
          "model_module": "@jupyter-widgets/controls",
          "model_name": "HBoxModel",
          "model_module_version": "1.5.0",
          "state": {
            "_dom_classes": [],
            "_model_module": "@jupyter-widgets/controls",
            "_model_module_version": "1.5.0",
            "_model_name": "HBoxModel",
            "_view_count": null,
            "_view_module": "@jupyter-widgets/controls",
            "_view_module_version": "1.5.0",
            "_view_name": "HBoxView",
            "box_style": "",
            "children": [
              "IPY_MODEL_16b8d693f8764e4981c6380acb1f4417",
              "IPY_MODEL_6c55924f6f624a7f8355be87653f403a",
              "IPY_MODEL_14a0966368b74beab7ddf5baf476a227"
            ],
            "layout": "IPY_MODEL_455031a8cb154c71bc21c9d4030ccc5d"
          }
        },
        "16b8d693f8764e4981c6380acb1f4417": {
          "model_module": "@jupyter-widgets/controls",
          "model_name": "HTMLModel",
          "model_module_version": "1.5.0",
          "state": {
            "_dom_classes": [],
            "_model_module": "@jupyter-widgets/controls",
            "_model_module_version": "1.5.0",
            "_model_name": "HTMLModel",
            "_view_count": null,
            "_view_module": "@jupyter-widgets/controls",
            "_view_module_version": "1.5.0",
            "_view_name": "HTMLView",
            "description": "",
            "description_tooltip": null,
            "layout": "IPY_MODEL_92373bbec570484b841e8a98b4342c4f",
            "placeholder": "​",
            "style": "IPY_MODEL_7b8ec93e74d940b591b4481ab0ebb892",
            "value": "vocab.txt: 100%"
          }
        },
        "6c55924f6f624a7f8355be87653f403a": {
          "model_module": "@jupyter-widgets/controls",
          "model_name": "FloatProgressModel",
          "model_module_version": "1.5.0",
          "state": {
            "_dom_classes": [],
            "_model_module": "@jupyter-widgets/controls",
            "_model_module_version": "1.5.0",
            "_model_name": "FloatProgressModel",
            "_view_count": null,
            "_view_module": "@jupyter-widgets/controls",
            "_view_module_version": "1.5.0",
            "_view_name": "ProgressView",
            "bar_style": "success",
            "description": "",
            "description_tooltip": null,
            "layout": "IPY_MODEL_f039d6cfeae44fd6b167017a9b0e97d9",
            "max": 231508,
            "min": 0,
            "orientation": "horizontal",
            "style": "IPY_MODEL_e85dd385f1514ba9adc5d95c0e4cdea9",
            "value": 231508
          }
        },
        "14a0966368b74beab7ddf5baf476a227": {
          "model_module": "@jupyter-widgets/controls",
          "model_name": "HTMLModel",
          "model_module_version": "1.5.0",
          "state": {
            "_dom_classes": [],
            "_model_module": "@jupyter-widgets/controls",
            "_model_module_version": "1.5.0",
            "_model_name": "HTMLModel",
            "_view_count": null,
            "_view_module": "@jupyter-widgets/controls",
            "_view_module_version": "1.5.0",
            "_view_name": "HTMLView",
            "description": "",
            "description_tooltip": null,
            "layout": "IPY_MODEL_ec2bd99caa5b460392384711134d3a01",
            "placeholder": "​",
            "style": "IPY_MODEL_822335727ef141ea991802ea4b9b9e78",
            "value": " 232k/232k [00:00&lt;00:00, 3.00MB/s]"
          }
        },
        "455031a8cb154c71bc21c9d4030ccc5d": {
          "model_module": "@jupyter-widgets/base",
          "model_name": "LayoutModel",
          "model_module_version": "1.2.0",
          "state": {
            "_model_module": "@jupyter-widgets/base",
            "_model_module_version": "1.2.0",
            "_model_name": "LayoutModel",
            "_view_count": null,
            "_view_module": "@jupyter-widgets/base",
            "_view_module_version": "1.2.0",
            "_view_name": "LayoutView",
            "align_content": null,
            "align_items": null,
            "align_self": null,
            "border": null,
            "bottom": null,
            "display": null,
            "flex": null,
            "flex_flow": null,
            "grid_area": null,
            "grid_auto_columns": null,
            "grid_auto_flow": null,
            "grid_auto_rows": null,
            "grid_column": null,
            "grid_gap": null,
            "grid_row": null,
            "grid_template_areas": null,
            "grid_template_columns": null,
            "grid_template_rows": null,
            "height": null,
            "justify_content": null,
            "justify_items": null,
            "left": null,
            "margin": null,
            "max_height": null,
            "max_width": null,
            "min_height": null,
            "min_width": null,
            "object_fit": null,
            "object_position": null,
            "order": null,
            "overflow": null,
            "overflow_x": null,
            "overflow_y": null,
            "padding": null,
            "right": null,
            "top": null,
            "visibility": null,
            "width": null
          }
        },
        "92373bbec570484b841e8a98b4342c4f": {
          "model_module": "@jupyter-widgets/base",
          "model_name": "LayoutModel",
          "model_module_version": "1.2.0",
          "state": {
            "_model_module": "@jupyter-widgets/base",
            "_model_module_version": "1.2.0",
            "_model_name": "LayoutModel",
            "_view_count": null,
            "_view_module": "@jupyter-widgets/base",
            "_view_module_version": "1.2.0",
            "_view_name": "LayoutView",
            "align_content": null,
            "align_items": null,
            "align_self": null,
            "border": null,
            "bottom": null,
            "display": null,
            "flex": null,
            "flex_flow": null,
            "grid_area": null,
            "grid_auto_columns": null,
            "grid_auto_flow": null,
            "grid_auto_rows": null,
            "grid_column": null,
            "grid_gap": null,
            "grid_row": null,
            "grid_template_areas": null,
            "grid_template_columns": null,
            "grid_template_rows": null,
            "height": null,
            "justify_content": null,
            "justify_items": null,
            "left": null,
            "margin": null,
            "max_height": null,
            "max_width": null,
            "min_height": null,
            "min_width": null,
            "object_fit": null,
            "object_position": null,
            "order": null,
            "overflow": null,
            "overflow_x": null,
            "overflow_y": null,
            "padding": null,
            "right": null,
            "top": null,
            "visibility": null,
            "width": null
          }
        },
        "7b8ec93e74d940b591b4481ab0ebb892": {
          "model_module": "@jupyter-widgets/controls",
          "model_name": "DescriptionStyleModel",
          "model_module_version": "1.5.0",
          "state": {
            "_model_module": "@jupyter-widgets/controls",
            "_model_module_version": "1.5.0",
            "_model_name": "DescriptionStyleModel",
            "_view_count": null,
            "_view_module": "@jupyter-widgets/base",
            "_view_module_version": "1.2.0",
            "_view_name": "StyleView",
            "description_width": ""
          }
        },
        "f039d6cfeae44fd6b167017a9b0e97d9": {
          "model_module": "@jupyter-widgets/base",
          "model_name": "LayoutModel",
          "model_module_version": "1.2.0",
          "state": {
            "_model_module": "@jupyter-widgets/base",
            "_model_module_version": "1.2.0",
            "_model_name": "LayoutModel",
            "_view_count": null,
            "_view_module": "@jupyter-widgets/base",
            "_view_module_version": "1.2.0",
            "_view_name": "LayoutView",
            "align_content": null,
            "align_items": null,
            "align_self": null,
            "border": null,
            "bottom": null,
            "display": null,
            "flex": null,
            "flex_flow": null,
            "grid_area": null,
            "grid_auto_columns": null,
            "grid_auto_flow": null,
            "grid_auto_rows": null,
            "grid_column": null,
            "grid_gap": null,
            "grid_row": null,
            "grid_template_areas": null,
            "grid_template_columns": null,
            "grid_template_rows": null,
            "height": null,
            "justify_content": null,
            "justify_items": null,
            "left": null,
            "margin": null,
            "max_height": null,
            "max_width": null,
            "min_height": null,
            "min_width": null,
            "object_fit": null,
            "object_position": null,
            "order": null,
            "overflow": null,
            "overflow_x": null,
            "overflow_y": null,
            "padding": null,
            "right": null,
            "top": null,
            "visibility": null,
            "width": null
          }
        },
        "e85dd385f1514ba9adc5d95c0e4cdea9": {
          "model_module": "@jupyter-widgets/controls",
          "model_name": "ProgressStyleModel",
          "model_module_version": "1.5.0",
          "state": {
            "_model_module": "@jupyter-widgets/controls",
            "_model_module_version": "1.5.0",
            "_model_name": "ProgressStyleModel",
            "_view_count": null,
            "_view_module": "@jupyter-widgets/base",
            "_view_module_version": "1.2.0",
            "_view_name": "StyleView",
            "bar_color": null,
            "description_width": ""
          }
        },
        "ec2bd99caa5b460392384711134d3a01": {
          "model_module": "@jupyter-widgets/base",
          "model_name": "LayoutModel",
          "model_module_version": "1.2.0",
          "state": {
            "_model_module": "@jupyter-widgets/base",
            "_model_module_version": "1.2.0",
            "_model_name": "LayoutModel",
            "_view_count": null,
            "_view_module": "@jupyter-widgets/base",
            "_view_module_version": "1.2.0",
            "_view_name": "LayoutView",
            "align_content": null,
            "align_items": null,
            "align_self": null,
            "border": null,
            "bottom": null,
            "display": null,
            "flex": null,
            "flex_flow": null,
            "grid_area": null,
            "grid_auto_columns": null,
            "grid_auto_flow": null,
            "grid_auto_rows": null,
            "grid_column": null,
            "grid_gap": null,
            "grid_row": null,
            "grid_template_areas": null,
            "grid_template_columns": null,
            "grid_template_rows": null,
            "height": null,
            "justify_content": null,
            "justify_items": null,
            "left": null,
            "margin": null,
            "max_height": null,
            "max_width": null,
            "min_height": null,
            "min_width": null,
            "object_fit": null,
            "object_position": null,
            "order": null,
            "overflow": null,
            "overflow_x": null,
            "overflow_y": null,
            "padding": null,
            "right": null,
            "top": null,
            "visibility": null,
            "width": null
          }
        },
        "822335727ef141ea991802ea4b9b9e78": {
          "model_module": "@jupyter-widgets/controls",
          "model_name": "DescriptionStyleModel",
          "model_module_version": "1.5.0",
          "state": {
            "_model_module": "@jupyter-widgets/controls",
            "_model_module_version": "1.5.0",
            "_model_name": "DescriptionStyleModel",
            "_view_count": null,
            "_view_module": "@jupyter-widgets/base",
            "_view_module_version": "1.2.0",
            "_view_name": "StyleView",
            "description_width": ""
          }
        },
        "2b7f7d879f95488c96cc5902eb5ae564": {
          "model_module": "@jupyter-widgets/controls",
          "model_name": "HBoxModel",
          "model_module_version": "1.5.0",
          "state": {
            "_dom_classes": [],
            "_model_module": "@jupyter-widgets/controls",
            "_model_module_version": "1.5.0",
            "_model_name": "HBoxModel",
            "_view_count": null,
            "_view_module": "@jupyter-widgets/controls",
            "_view_module_version": "1.5.0",
            "_view_name": "HBoxView",
            "box_style": "",
            "children": [
              "IPY_MODEL_69be4e52f4cd4b9ba67fd259e96a2456",
              "IPY_MODEL_3d874615f711437181cfda094e444d3d",
              "IPY_MODEL_276c635f646641669f7f5614b9bdfb25"
            ],
            "layout": "IPY_MODEL_ca2fcba54dd04ea6bb96093af7043388"
          }
        },
        "69be4e52f4cd4b9ba67fd259e96a2456": {
          "model_module": "@jupyter-widgets/controls",
          "model_name": "HTMLModel",
          "model_module_version": "1.5.0",
          "state": {
            "_dom_classes": [],
            "_model_module": "@jupyter-widgets/controls",
            "_model_module_version": "1.5.0",
            "_model_name": "HTMLModel",
            "_view_count": null,
            "_view_module": "@jupyter-widgets/controls",
            "_view_module_version": "1.5.0",
            "_view_name": "HTMLView",
            "description": "",
            "description_tooltip": null,
            "layout": "IPY_MODEL_56817b4aa9ef49fd942473b5dee38998",
            "placeholder": "​",
            "style": "IPY_MODEL_5b2a99ee8be34eba9ade8f75fd44664a",
            "value": "tokenizer.json: 100%"
          }
        },
        "3d874615f711437181cfda094e444d3d": {
          "model_module": "@jupyter-widgets/controls",
          "model_name": "FloatProgressModel",
          "model_module_version": "1.5.0",
          "state": {
            "_dom_classes": [],
            "_model_module": "@jupyter-widgets/controls",
            "_model_module_version": "1.5.0",
            "_model_name": "FloatProgressModel",
            "_view_count": null,
            "_view_module": "@jupyter-widgets/controls",
            "_view_module_version": "1.5.0",
            "_view_name": "ProgressView",
            "bar_style": "success",
            "description": "",
            "description_tooltip": null,
            "layout": "IPY_MODEL_378d26786b9b4769a6b5be039e58a40c",
            "max": 466062,
            "min": 0,
            "orientation": "horizontal",
            "style": "IPY_MODEL_2bdad5527e254fe3b60b97c35861d1aa",
            "value": 466062
          }
        },
        "276c635f646641669f7f5614b9bdfb25": {
          "model_module": "@jupyter-widgets/controls",
          "model_name": "HTMLModel",
          "model_module_version": "1.5.0",
          "state": {
            "_dom_classes": [],
            "_model_module": "@jupyter-widgets/controls",
            "_model_module_version": "1.5.0",
            "_model_name": "HTMLModel",
            "_view_count": null,
            "_view_module": "@jupyter-widgets/controls",
            "_view_module_version": "1.5.0",
            "_view_name": "HTMLView",
            "description": "",
            "description_tooltip": null,
            "layout": "IPY_MODEL_02c6a2726b0a4795a2c41450a6b10951",
            "placeholder": "​",
            "style": "IPY_MODEL_4dd15c69963444c5b431c8867bfc6bff",
            "value": " 466k/466k [00:00&lt;00:00, 6.36MB/s]"
          }
        },
        "ca2fcba54dd04ea6bb96093af7043388": {
          "model_module": "@jupyter-widgets/base",
          "model_name": "LayoutModel",
          "model_module_version": "1.2.0",
          "state": {
            "_model_module": "@jupyter-widgets/base",
            "_model_module_version": "1.2.0",
            "_model_name": "LayoutModel",
            "_view_count": null,
            "_view_module": "@jupyter-widgets/base",
            "_view_module_version": "1.2.0",
            "_view_name": "LayoutView",
            "align_content": null,
            "align_items": null,
            "align_self": null,
            "border": null,
            "bottom": null,
            "display": null,
            "flex": null,
            "flex_flow": null,
            "grid_area": null,
            "grid_auto_columns": null,
            "grid_auto_flow": null,
            "grid_auto_rows": null,
            "grid_column": null,
            "grid_gap": null,
            "grid_row": null,
            "grid_template_areas": null,
            "grid_template_columns": null,
            "grid_template_rows": null,
            "height": null,
            "justify_content": null,
            "justify_items": null,
            "left": null,
            "margin": null,
            "max_height": null,
            "max_width": null,
            "min_height": null,
            "min_width": null,
            "object_fit": null,
            "object_position": null,
            "order": null,
            "overflow": null,
            "overflow_x": null,
            "overflow_y": null,
            "padding": null,
            "right": null,
            "top": null,
            "visibility": null,
            "width": null
          }
        },
        "56817b4aa9ef49fd942473b5dee38998": {
          "model_module": "@jupyter-widgets/base",
          "model_name": "LayoutModel",
          "model_module_version": "1.2.0",
          "state": {
            "_model_module": "@jupyter-widgets/base",
            "_model_module_version": "1.2.0",
            "_model_name": "LayoutModel",
            "_view_count": null,
            "_view_module": "@jupyter-widgets/base",
            "_view_module_version": "1.2.0",
            "_view_name": "LayoutView",
            "align_content": null,
            "align_items": null,
            "align_self": null,
            "border": null,
            "bottom": null,
            "display": null,
            "flex": null,
            "flex_flow": null,
            "grid_area": null,
            "grid_auto_columns": null,
            "grid_auto_flow": null,
            "grid_auto_rows": null,
            "grid_column": null,
            "grid_gap": null,
            "grid_row": null,
            "grid_template_areas": null,
            "grid_template_columns": null,
            "grid_template_rows": null,
            "height": null,
            "justify_content": null,
            "justify_items": null,
            "left": null,
            "margin": null,
            "max_height": null,
            "max_width": null,
            "min_height": null,
            "min_width": null,
            "object_fit": null,
            "object_position": null,
            "order": null,
            "overflow": null,
            "overflow_x": null,
            "overflow_y": null,
            "padding": null,
            "right": null,
            "top": null,
            "visibility": null,
            "width": null
          }
        },
        "5b2a99ee8be34eba9ade8f75fd44664a": {
          "model_module": "@jupyter-widgets/controls",
          "model_name": "DescriptionStyleModel",
          "model_module_version": "1.5.0",
          "state": {
            "_model_module": "@jupyter-widgets/controls",
            "_model_module_version": "1.5.0",
            "_model_name": "DescriptionStyleModel",
            "_view_count": null,
            "_view_module": "@jupyter-widgets/base",
            "_view_module_version": "1.2.0",
            "_view_name": "StyleView",
            "description_width": ""
          }
        },
        "378d26786b9b4769a6b5be039e58a40c": {
          "model_module": "@jupyter-widgets/base",
          "model_name": "LayoutModel",
          "model_module_version": "1.2.0",
          "state": {
            "_model_module": "@jupyter-widgets/base",
            "_model_module_version": "1.2.0",
            "_model_name": "LayoutModel",
            "_view_count": null,
            "_view_module": "@jupyter-widgets/base",
            "_view_module_version": "1.2.0",
            "_view_name": "LayoutView",
            "align_content": null,
            "align_items": null,
            "align_self": null,
            "border": null,
            "bottom": null,
            "display": null,
            "flex": null,
            "flex_flow": null,
            "grid_area": null,
            "grid_auto_columns": null,
            "grid_auto_flow": null,
            "grid_auto_rows": null,
            "grid_column": null,
            "grid_gap": null,
            "grid_row": null,
            "grid_template_areas": null,
            "grid_template_columns": null,
            "grid_template_rows": null,
            "height": null,
            "justify_content": null,
            "justify_items": null,
            "left": null,
            "margin": null,
            "max_height": null,
            "max_width": null,
            "min_height": null,
            "min_width": null,
            "object_fit": null,
            "object_position": null,
            "order": null,
            "overflow": null,
            "overflow_x": null,
            "overflow_y": null,
            "padding": null,
            "right": null,
            "top": null,
            "visibility": null,
            "width": null
          }
        },
        "2bdad5527e254fe3b60b97c35861d1aa": {
          "model_module": "@jupyter-widgets/controls",
          "model_name": "ProgressStyleModel",
          "model_module_version": "1.5.0",
          "state": {
            "_model_module": "@jupyter-widgets/controls",
            "_model_module_version": "1.5.0",
            "_model_name": "ProgressStyleModel",
            "_view_count": null,
            "_view_module": "@jupyter-widgets/base",
            "_view_module_version": "1.2.0",
            "_view_name": "StyleView",
            "bar_color": null,
            "description_width": ""
          }
        },
        "02c6a2726b0a4795a2c41450a6b10951": {
          "model_module": "@jupyter-widgets/base",
          "model_name": "LayoutModel",
          "model_module_version": "1.2.0",
          "state": {
            "_model_module": "@jupyter-widgets/base",
            "_model_module_version": "1.2.0",
            "_model_name": "LayoutModel",
            "_view_count": null,
            "_view_module": "@jupyter-widgets/base",
            "_view_module_version": "1.2.0",
            "_view_name": "LayoutView",
            "align_content": null,
            "align_items": null,
            "align_self": null,
            "border": null,
            "bottom": null,
            "display": null,
            "flex": null,
            "flex_flow": null,
            "grid_area": null,
            "grid_auto_columns": null,
            "grid_auto_flow": null,
            "grid_auto_rows": null,
            "grid_column": null,
            "grid_gap": null,
            "grid_row": null,
            "grid_template_areas": null,
            "grid_template_columns": null,
            "grid_template_rows": null,
            "height": null,
            "justify_content": null,
            "justify_items": null,
            "left": null,
            "margin": null,
            "max_height": null,
            "max_width": null,
            "min_height": null,
            "min_width": null,
            "object_fit": null,
            "object_position": null,
            "order": null,
            "overflow": null,
            "overflow_x": null,
            "overflow_y": null,
            "padding": null,
            "right": null,
            "top": null,
            "visibility": null,
            "width": null
          }
        },
        "4dd15c69963444c5b431c8867bfc6bff": {
          "model_module": "@jupyter-widgets/controls",
          "model_name": "DescriptionStyleModel",
          "model_module_version": "1.5.0",
          "state": {
            "_model_module": "@jupyter-widgets/controls",
            "_model_module_version": "1.5.0",
            "_model_name": "DescriptionStyleModel",
            "_view_count": null,
            "_view_module": "@jupyter-widgets/base",
            "_view_module_version": "1.2.0",
            "_view_name": "StyleView",
            "description_width": ""
          }
        },
        "8e440f2689db49cd951e42cccfad0afb": {
          "model_module": "@jupyter-widgets/controls",
          "model_name": "HBoxModel",
          "model_module_version": "1.5.0",
          "state": {
            "_dom_classes": [],
            "_model_module": "@jupyter-widgets/controls",
            "_model_module_version": "1.5.0",
            "_model_name": "HBoxModel",
            "_view_count": null,
            "_view_module": "@jupyter-widgets/controls",
            "_view_module_version": "1.5.0",
            "_view_name": "HBoxView",
            "box_style": "",
            "children": [
              "IPY_MODEL_97a17516c7cf445fa3556ba142b9a9a3",
              "IPY_MODEL_b003008ca14d4ff2b0b5f34a1642475f",
              "IPY_MODEL_04ed441c85fd4b869245c3faaae50115"
            ],
            "layout": "IPY_MODEL_8910317b52d0463e9c0e8c04b1c85012"
          }
        },
        "97a17516c7cf445fa3556ba142b9a9a3": {
          "model_module": "@jupyter-widgets/controls",
          "model_name": "HTMLModel",
          "model_module_version": "1.5.0",
          "state": {
            "_dom_classes": [],
            "_model_module": "@jupyter-widgets/controls",
            "_model_module_version": "1.5.0",
            "_model_name": "HTMLModel",
            "_view_count": null,
            "_view_module": "@jupyter-widgets/controls",
            "_view_module_version": "1.5.0",
            "_view_name": "HTMLView",
            "description": "",
            "description_tooltip": null,
            "layout": "IPY_MODEL_adbd76dd82454710b57f19dcc5dfe16b",
            "placeholder": "​",
            "style": "IPY_MODEL_5cf840033590468592371dbff5047b87",
            "value": "config.json: 100%"
          }
        },
        "b003008ca14d4ff2b0b5f34a1642475f": {
          "model_module": "@jupyter-widgets/controls",
          "model_name": "FloatProgressModel",
          "model_module_version": "1.5.0",
          "state": {
            "_dom_classes": [],
            "_model_module": "@jupyter-widgets/controls",
            "_model_module_version": "1.5.0",
            "_model_name": "FloatProgressModel",
            "_view_count": null,
            "_view_module": "@jupyter-widgets/controls",
            "_view_module_version": "1.5.0",
            "_view_name": "ProgressView",
            "bar_style": "success",
            "description": "",
            "description_tooltip": null,
            "layout": "IPY_MODEL_034cf82dfdde481693d26bb10750d115",
            "max": 570,
            "min": 0,
            "orientation": "horizontal",
            "style": "IPY_MODEL_11168e4270b141eb904d8ce8a48be217",
            "value": 570
          }
        },
        "04ed441c85fd4b869245c3faaae50115": {
          "model_module": "@jupyter-widgets/controls",
          "model_name": "HTMLModel",
          "model_module_version": "1.5.0",
          "state": {
            "_dom_classes": [],
            "_model_module": "@jupyter-widgets/controls",
            "_model_module_version": "1.5.0",
            "_model_name": "HTMLModel",
            "_view_count": null,
            "_view_module": "@jupyter-widgets/controls",
            "_view_module_version": "1.5.0",
            "_view_name": "HTMLView",
            "description": "",
            "description_tooltip": null,
            "layout": "IPY_MODEL_e2cd38d2f9fa47ec8e16956c65ba123a",
            "placeholder": "​",
            "style": "IPY_MODEL_20cb7e33e6484efbaba786145cbeac32",
            "value": " 570/570 [00:00&lt;00:00, 27.5kB/s]"
          }
        },
        "8910317b52d0463e9c0e8c04b1c85012": {
          "model_module": "@jupyter-widgets/base",
          "model_name": "LayoutModel",
          "model_module_version": "1.2.0",
          "state": {
            "_model_module": "@jupyter-widgets/base",
            "_model_module_version": "1.2.0",
            "_model_name": "LayoutModel",
            "_view_count": null,
            "_view_module": "@jupyter-widgets/base",
            "_view_module_version": "1.2.0",
            "_view_name": "LayoutView",
            "align_content": null,
            "align_items": null,
            "align_self": null,
            "border": null,
            "bottom": null,
            "display": null,
            "flex": null,
            "flex_flow": null,
            "grid_area": null,
            "grid_auto_columns": null,
            "grid_auto_flow": null,
            "grid_auto_rows": null,
            "grid_column": null,
            "grid_gap": null,
            "grid_row": null,
            "grid_template_areas": null,
            "grid_template_columns": null,
            "grid_template_rows": null,
            "height": null,
            "justify_content": null,
            "justify_items": null,
            "left": null,
            "margin": null,
            "max_height": null,
            "max_width": null,
            "min_height": null,
            "min_width": null,
            "object_fit": null,
            "object_position": null,
            "order": null,
            "overflow": null,
            "overflow_x": null,
            "overflow_y": null,
            "padding": null,
            "right": null,
            "top": null,
            "visibility": null,
            "width": null
          }
        },
        "adbd76dd82454710b57f19dcc5dfe16b": {
          "model_module": "@jupyter-widgets/base",
          "model_name": "LayoutModel",
          "model_module_version": "1.2.0",
          "state": {
            "_model_module": "@jupyter-widgets/base",
            "_model_module_version": "1.2.0",
            "_model_name": "LayoutModel",
            "_view_count": null,
            "_view_module": "@jupyter-widgets/base",
            "_view_module_version": "1.2.0",
            "_view_name": "LayoutView",
            "align_content": null,
            "align_items": null,
            "align_self": null,
            "border": null,
            "bottom": null,
            "display": null,
            "flex": null,
            "flex_flow": null,
            "grid_area": null,
            "grid_auto_columns": null,
            "grid_auto_flow": null,
            "grid_auto_rows": null,
            "grid_column": null,
            "grid_gap": null,
            "grid_row": null,
            "grid_template_areas": null,
            "grid_template_columns": null,
            "grid_template_rows": null,
            "height": null,
            "justify_content": null,
            "justify_items": null,
            "left": null,
            "margin": null,
            "max_height": null,
            "max_width": null,
            "min_height": null,
            "min_width": null,
            "object_fit": null,
            "object_position": null,
            "order": null,
            "overflow": null,
            "overflow_x": null,
            "overflow_y": null,
            "padding": null,
            "right": null,
            "top": null,
            "visibility": null,
            "width": null
          }
        },
        "5cf840033590468592371dbff5047b87": {
          "model_module": "@jupyter-widgets/controls",
          "model_name": "DescriptionStyleModel",
          "model_module_version": "1.5.0",
          "state": {
            "_model_module": "@jupyter-widgets/controls",
            "_model_module_version": "1.5.0",
            "_model_name": "DescriptionStyleModel",
            "_view_count": null,
            "_view_module": "@jupyter-widgets/base",
            "_view_module_version": "1.2.0",
            "_view_name": "StyleView",
            "description_width": ""
          }
        },
        "034cf82dfdde481693d26bb10750d115": {
          "model_module": "@jupyter-widgets/base",
          "model_name": "LayoutModel",
          "model_module_version": "1.2.0",
          "state": {
            "_model_module": "@jupyter-widgets/base",
            "_model_module_version": "1.2.0",
            "_model_name": "LayoutModel",
            "_view_count": null,
            "_view_module": "@jupyter-widgets/base",
            "_view_module_version": "1.2.0",
            "_view_name": "LayoutView",
            "align_content": null,
            "align_items": null,
            "align_self": null,
            "border": null,
            "bottom": null,
            "display": null,
            "flex": null,
            "flex_flow": null,
            "grid_area": null,
            "grid_auto_columns": null,
            "grid_auto_flow": null,
            "grid_auto_rows": null,
            "grid_column": null,
            "grid_gap": null,
            "grid_row": null,
            "grid_template_areas": null,
            "grid_template_columns": null,
            "grid_template_rows": null,
            "height": null,
            "justify_content": null,
            "justify_items": null,
            "left": null,
            "margin": null,
            "max_height": null,
            "max_width": null,
            "min_height": null,
            "min_width": null,
            "object_fit": null,
            "object_position": null,
            "order": null,
            "overflow": null,
            "overflow_x": null,
            "overflow_y": null,
            "padding": null,
            "right": null,
            "top": null,
            "visibility": null,
            "width": null
          }
        },
        "11168e4270b141eb904d8ce8a48be217": {
          "model_module": "@jupyter-widgets/controls",
          "model_name": "ProgressStyleModel",
          "model_module_version": "1.5.0",
          "state": {
            "_model_module": "@jupyter-widgets/controls",
            "_model_module_version": "1.5.0",
            "_model_name": "ProgressStyleModel",
            "_view_count": null,
            "_view_module": "@jupyter-widgets/base",
            "_view_module_version": "1.2.0",
            "_view_name": "StyleView",
            "bar_color": null,
            "description_width": ""
          }
        },
        "e2cd38d2f9fa47ec8e16956c65ba123a": {
          "model_module": "@jupyter-widgets/base",
          "model_name": "LayoutModel",
          "model_module_version": "1.2.0",
          "state": {
            "_model_module": "@jupyter-widgets/base",
            "_model_module_version": "1.2.0",
            "_model_name": "LayoutModel",
            "_view_count": null,
            "_view_module": "@jupyter-widgets/base",
            "_view_module_version": "1.2.0",
            "_view_name": "LayoutView",
            "align_content": null,
            "align_items": null,
            "align_self": null,
            "border": null,
            "bottom": null,
            "display": null,
            "flex": null,
            "flex_flow": null,
            "grid_area": null,
            "grid_auto_columns": null,
            "grid_auto_flow": null,
            "grid_auto_rows": null,
            "grid_column": null,
            "grid_gap": null,
            "grid_row": null,
            "grid_template_areas": null,
            "grid_template_columns": null,
            "grid_template_rows": null,
            "height": null,
            "justify_content": null,
            "justify_items": null,
            "left": null,
            "margin": null,
            "max_height": null,
            "max_width": null,
            "min_height": null,
            "min_width": null,
            "object_fit": null,
            "object_position": null,
            "order": null,
            "overflow": null,
            "overflow_x": null,
            "overflow_y": null,
            "padding": null,
            "right": null,
            "top": null,
            "visibility": null,
            "width": null
          }
        },
        "20cb7e33e6484efbaba786145cbeac32": {
          "model_module": "@jupyter-widgets/controls",
          "model_name": "DescriptionStyleModel",
          "model_module_version": "1.5.0",
          "state": {
            "_model_module": "@jupyter-widgets/controls",
            "_model_module_version": "1.5.0",
            "_model_name": "DescriptionStyleModel",
            "_view_count": null,
            "_view_module": "@jupyter-widgets/base",
            "_view_module_version": "1.2.0",
            "_view_name": "StyleView",
            "description_width": ""
          }
        }
      }
    }
  },
  "nbformat": 4,
  "nbformat_minor": 0
}