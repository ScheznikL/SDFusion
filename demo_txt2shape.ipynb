{
  "cells": [
    {
      "cell_type": "markdown",
      "metadata": {
        "id": "a46PIolBovog"
      },
      "source": [
        "# SDFusion: Text-guided Generation (txt2shape)\n",
        "\n",
        "### TODO: add sample results or teaser images"
      ]
    },
    {
      "cell_type": "code",
      "source": [
        "!git clone https://github.com/ScheznikL/SDFusion.git\n",
        "%cd SDFusion\n",
        "!ls"
      ],
      "metadata": {
        "colab": {
          "base_uri": "https://localhost:8080/"
        },
        "id": "YML3ilOsqZZO",
        "outputId": "a04d129c-b5a0-4d4c-b190-14465b8004cc"
      },
      "execution_count": 1,
      "outputs": [
        {
          "output_type": "stream",
          "name": "stdout",
          "text": [
            "Cloning into 'SDFusion'...\n",
            "remote: Enumerating objects: 1976, done.\u001b[K\n",
            "remote: Counting objects: 100% (117/117), done.\u001b[K\n",
            "remote: Compressing objects: 100% (75/75), done.\u001b[K\n",
            "remote: Total 1976 (delta 52), reused 81 (delta 34), pack-reused 1859 (from 1)\u001b[K\n",
            "Receiving objects: 100% (1976/1976), 35.93 MiB | 13.69 MiB/s, done.\n",
            "Resolving deltas: 100% (813/813), done.\n",
            "/content/SDFusion\n",
            "configs\t\t    demo_img2shape.ipynb\t  external   options\t   train.py\n",
            "dataset_info_files  demo_mm2shape.ipynb\t\t  launchers  preprocess    utils\n",
            "datasets\t    demo_txt2shape.ipynb\t  LICENSE    README.md\n",
            "demo_data\t    demo_uncond_shape_comp.ipynb  models     setup_env.sh\n"
          ]
        }
      ]
    },
    {
      "cell_type": "code",
      "execution_count": 2,
      "metadata": {
        "id": "ngTOHKKoovoj"
      },
      "outputs": [],
      "source": [
        "# first set up which gpu to use\n",
        "import os\n",
        "gpu_ids = 0\n",
        "os.environ[\"CUDA_VISIBLE_DEVICES\"] = f\"{gpu_ids}\""
      ]
    },
    {
      "cell_type": "code",
      "source": [
        "#exit()\n",
        "#How to run a Python script in a '.py' file from a Google Colab notebook?\n",
        "from models.base_model import create_model"
      ],
      "metadata": {
        "id": "RH49NE8R1det"
      },
      "execution_count": 3,
      "outputs": []
    },
    {
      "cell_type": "code",
      "source": [
        "!pip install h5py joblib trimesh scipy"
      ],
      "metadata": {
        "colab": {
          "base_uri": "https://localhost:8080/"
        },
        "id": "Whf2UAAO4Ic7",
        "outputId": "9a7fedf8-de6e-4c0b-9f69-0460df8c6f1e"
      },
      "execution_count": 4,
      "outputs": [
        {
          "output_type": "stream",
          "name": "stdout",
          "text": [
            "Requirement already satisfied: h5py in /usr/local/lib/python3.10/dist-packages (3.12.1)\n",
            "Requirement already satisfied: joblib in /usr/local/lib/python3.10/dist-packages (1.4.2)\n",
            "Collecting trimesh\n",
            "  Downloading trimesh-4.5.3-py3-none-any.whl.metadata (18 kB)\n",
            "Requirement already satisfied: scipy in /usr/local/lib/python3.10/dist-packages (1.13.1)\n",
            "Requirement already satisfied: numpy>=1.19.3 in /usr/local/lib/python3.10/dist-packages (from h5py) (1.26.4)\n",
            "Downloading trimesh-4.5.3-py3-none-any.whl (704 kB)\n",
            "\u001b[2K   \u001b[90m━━━━━━━━━━━━━━━━━━━━━━━━━━━━━━━━━━━━━━━━\u001b[0m \u001b[32m704.8/704.8 kB\u001b[0m \u001b[31m15.7 MB/s\u001b[0m eta \u001b[36m0:00:00\u001b[0m\n",
            "\u001b[?25hInstalling collected packages: trimesh\n",
            "Successfully installed trimesh-4.5.3\n"
          ]
        }
      ]
    },
    {
      "cell_type": "code",
      "source": [
        "!pip install --upgrade PyMCubes"
      ],
      "metadata": {
        "colab": {
          "base_uri": "https://localhost:8080/"
        },
        "id": "j0qYG2nG3hWF",
        "outputId": "a7a6db85-1d88-4900-b315-4af20b3444d4"
      },
      "execution_count": 5,
      "outputs": [
        {
          "output_type": "stream",
          "name": "stdout",
          "text": [
            "Collecting PyMCubes\n",
            "  Downloading PyMCubes-0.1.6-cp310-cp310-manylinux_2_17_x86_64.manylinux2014_x86_64.whl.metadata (868 bytes)\n",
            "Requirement already satisfied: numpy>=1.21 in /usr/local/lib/python3.10/dist-packages (from PyMCubes) (1.26.4)\n",
            "Requirement already satisfied: scipy>=1.0.0 in /usr/local/lib/python3.10/dist-packages (from PyMCubes) (1.13.1)\n",
            "Downloading PyMCubes-0.1.6-cp310-cp310-manylinux_2_17_x86_64.manylinux2014_x86_64.whl (318 kB)\n",
            "\u001b[?25l   \u001b[90m━━━━━━━━━━━━━━━━━━━━━━━━━━━━━━━━━━━━━━━━\u001b[0m \u001b[32m0.0/318.4 kB\u001b[0m \u001b[31m?\u001b[0m eta \u001b[36m-:--:--\u001b[0m\r\u001b[2K   \u001b[91m━━━━━━━━━━━━━━━━━━━━━━━━━━━━━━━━━━━━━━━\u001b[0m\u001b[91m╸\u001b[0m \u001b[32m317.4/318.4 kB\u001b[0m \u001b[31m10.9 MB/s\u001b[0m eta \u001b[36m0:00:01\u001b[0m\r\u001b[2K   \u001b[90m━━━━━━━━━━━━━━━━━━━━━━━━━━━━━━━━━━━━━━━━\u001b[0m \u001b[32m318.4/318.4 kB\u001b[0m \u001b[31m7.2 MB/s\u001b[0m eta \u001b[36m0:00:00\u001b[0m\n",
            "\u001b[?25hInstalling collected packages: PyMCubes\n",
            "Successfully installed PyMCubes-0.1.6\n"
          ]
        }
      ]
    },
    {
      "cell_type": "code",
      "source": [
        "import os\n",
        "import sys\n",
        "import torch\n",
        "need_pytorch3d=False\n",
        "try:\n",
        "    import pytorch3d\n",
        "except ModuleNotFoundError:\n",
        "    need_pytorch3d=True\n",
        "if need_pytorch3d:\n",
        "    if torch.__version__.startswith(\"2.1.\") and sys.platform.startswith(\"linux\"):\n",
        "        # We try to install PyTorch3D via a released wheel.\n",
        "        pyt_version_str=torch.__version__.split(\"+\")[0].replace(\".\", \"\")\n",
        "        version_str=\"\".join([\n",
        "            f\"py3{sys.version_info.minor}_cu\",\n",
        "            torch.version.cuda.replace(\".\",\"\"),\n",
        "            f\"_pyt{pyt_version_str}\"\n",
        "        ])\n",
        "        !pip install fvcore iopath\n",
        "        !pip install --no-index --no-cache-dir pytorch3d -f https://dl.fbaipublicfiles.com/pytorch3d/packaging/wheels/{version_str}/download.html\n",
        "    else:\n",
        "        # We try to install PyTorch3D from source.\n",
        "        !pip install 'git+https://github.com/facebookresearch/pytorch3d.git@stable'"
      ],
      "metadata": {
        "colab": {
          "base_uri": "https://localhost:8080/"
        },
        "id": "RiMDwTPe5ajn",
        "outputId": "a87dbafd-8543-4773-feb7-7362b040a259"
      },
      "execution_count": null,
      "outputs": [
        {
          "output_type": "stream",
          "name": "stdout",
          "text": [
            "Collecting git+https://github.com/facebookresearch/pytorch3d.git@stable\n",
            "  Cloning https://github.com/facebookresearch/pytorch3d.git (to revision stable) to /tmp/pip-req-build-2kavpzc4\n",
            "  Running command git clone --filter=blob:none --quiet https://github.com/facebookresearch/pytorch3d.git /tmp/pip-req-build-2kavpzc4\n",
            "  Running command git checkout -q 75ebeeaea0908c5527e7b1e305fbc7681382db47\n",
            "  Resolved https://github.com/facebookresearch/pytorch3d.git to commit 75ebeeaea0908c5527e7b1e305fbc7681382db47\n",
            "  Preparing metadata (setup.py) ... \u001b[?25l\u001b[?25hdone\n",
            "Collecting iopath (from pytorch3d==0.7.8)\n",
            "  Downloading iopath-0.1.10.tar.gz (42 kB)\n",
            "\u001b[2K     \u001b[90m━━━━━━━━━━━━━━━━━━━━━━━━━━━━━━━━━━━━━━━━\u001b[0m \u001b[32m42.2/42.2 kB\u001b[0m \u001b[31m3.2 MB/s\u001b[0m eta \u001b[36m0:00:00\u001b[0m\n",
            "\u001b[?25h  Preparing metadata (setup.py) ... \u001b[?25l\u001b[?25hdone\n",
            "Requirement already satisfied: tqdm in /usr/local/lib/python3.10/dist-packages (from iopath->pytorch3d==0.7.8) (4.67.1)\n",
            "Requirement already satisfied: typing_extensions in /usr/local/lib/python3.10/dist-packages (from iopath->pytorch3d==0.7.8) (4.12.2)\n",
            "Collecting portalocker (from iopath->pytorch3d==0.7.8)\n",
            "  Downloading portalocker-3.1.1-py3-none-any.whl.metadata (8.6 kB)\n",
            "Downloading portalocker-3.1.1-py3-none-any.whl (19 kB)\n",
            "Building wheels for collected packages: pytorch3d, iopath\n"
          ]
        }
      ]
    },
    {
      "cell_type": "code",
      "execution_count": null,
      "metadata": {
        "id": "H4rc3dvRovok"
      },
      "outputs": [],
      "source": [
        "# import libraries\n",
        "import numpy as np\n",
        "from IPython.display import Image as ipy_image\n",
        "from IPython.display import display\n",
        "from termcolor import colored, cprint\n",
        "\n",
        "import torch\n",
        "import torch.backends.cudnn as cudnn\n",
        "cudnn.benchmark = True\n",
        "import torchvision.utils as vutils\n",
        "\n",
        "from models.base_model import create_model\n",
        "from utils.util_3d import render_sdf, render_mesh, sdf_to_mesh, save_mesh_as_gif\n",
        "\n",
        "%load_ext autoreload\n",
        "%autoreload 2"
      ]
    },
    {
      "cell_type": "markdown",
      "source": [
        "# New section"
      ],
      "metadata": {
        "id": "hiAWSzGrym7E"
      }
    },
    {
      "cell_type": "code",
      "source": [
        "!pip install omegaconf"
      ],
      "metadata": {
        "id": "nnCrwizmJOFc"
      },
      "execution_count": null,
      "outputs": []
    },
    {
      "cell_type": "code",
      "execution_count": 9,
      "metadata": {
        "colab": {
          "base_uri": "https://localhost:8080/"
        },
        "id": "Q5F5K37covom",
        "outputId": "3b20d09a-db35-44ff-abc3-485cd98ddf46"
      },
      "outputs": [
        {
          "output_type": "stream",
          "name": "stdout",
          "text": [
            "[*] SDFusionText2ShapeOption initialized.\n"
          ]
        }
      ],
      "source": [
        "# options for the model. please check `utils/demo_util.py` for more details\n",
        "from utils.demo_util import SDFusionText2ShapeOpt\n",
        "\n",
        "seed = 2023\n",
        "opt = SDFusionText2ShapeOpt(gpu_ids=gpu_ids, seed=seed)\n",
        "device = opt.device"
      ]
    },
    {
      "cell_type": "code",
      "source": [
        "!mkdir saved_ckpt"
      ],
      "metadata": {
        "id": "FO-FyCz4J6mO"
      },
      "execution_count": 10,
      "outputs": []
    },
    {
      "cell_type": "code",
      "source": [
        "# SDFusion: text-guided shape generation (txt2shape)\n",
        "!wget https://uofi.box.com/shared/static/vyqs6aex3rwbgxweyl3qh21c8p6vu33f.pth -O saved_ckpt/sdfusion-txt2shape.pth"
      ],
      "metadata": {
        "colab": {
          "base_uri": "https://localhost:8080/"
        },
        "id": "RB_TIaXOJw7S",
        "outputId": "c4a6e369-4dd4-4bdc-b9fc-9a63385ad5ce"
      },
      "execution_count": 11,
      "outputs": [
        {
          "output_type": "stream",
          "name": "stdout",
          "text": [
            "--2025-01-05 23:23:38--  https://uofi.box.com/shared/static/vyqs6aex3rwbgxweyl3qh21c8p6vu33f.pth\n",
            "Resolving uofi.box.com (uofi.box.com)... 74.112.186.157\n",
            "Connecting to uofi.box.com (uofi.box.com)|74.112.186.157|:443... connected.\n",
            "HTTP request sent, awaiting response... 301 Moved Permanently\n",
            "Location: /public/static/vyqs6aex3rwbgxweyl3qh21c8p6vu33f.pth [following]\n",
            "--2025-01-05 23:23:38--  https://uofi.box.com/public/static/vyqs6aex3rwbgxweyl3qh21c8p6vu33f.pth\n",
            "Reusing existing connection to uofi.box.com:443.\n",
            "HTTP request sent, awaiting response... 301 Moved Permanently\n",
            "Location: https://uofi.app.box.com/public/static/vyqs6aex3rwbgxweyl3qh21c8p6vu33f.pth [following]\n",
            "--2025-01-05 23:23:39--  https://uofi.app.box.com/public/static/vyqs6aex3rwbgxweyl3qh21c8p6vu33f.pth\n",
            "Resolving uofi.app.box.com (uofi.app.box.com)... 74.112.186.157\n",
            "Connecting to uofi.app.box.com (uofi.app.box.com)|74.112.186.157|:443... connected.\n",
            "HTTP request sent, awaiting response... 302 Found\n",
            "Location: https://public.boxcloud.com/d/1/b1!VMyGMBU5vy60cfhAiIN0lpBfT_ulJlICk96sgS2Ou6vvLphOyFo61AD1TB60gMnYIJvdyPNEKn7fCEOEqvRTUZ9SIXPxs7lwfpDXfPVsJNfOUPzhrqEmPwlsf00JUMj-98DWyf5pu5G_dfDqHHXbBT2djDqo04PIpNUVczoQW08aIt6qWQ42AQJmOe-gKQHnjH33NpRqZfWqx8HAMAsfT1NLfAjJORDSPElAjmzxmd1x7BTzcvSUZyu-mYUN-jAdtDSy7iTH1sZboXrusniFGnCRJOwH8-sE5fMKZuAdmlDb6Cg1l2u2H1by3HhphVKTOlQZyJWnwKW-gcza_0SIExkNBecquwp1EU8RnTb9_D7saqzflwNUfoKVDlbJ5Fd9_FDWJpvfy38xMoWOlbBRrmAToPzExWy0WMO-Xfo0yEUaa92IjFqcn6Iapr3goAgoU-PYyyBL6NmI-YZi3NduJIvDKuOFCvORMMeeq0W2Y1ee2_sMDYygRmsskHeBUCoWaFRHDEXQvQe80v7pBPthBN-O5EGb2dZvDqFQIWcWQz4ai8wC_lPdfv0pZr4PzVjOX9HGH4wFsvKasglOtv0YlbG_9ZKeEuiPCo42nrqq6CPLeMZ3nJZR_vzRUusECIy0h3eY0_Vd8GeEnQYXtCXoQabFt2zJwpPfh648f1LLHzhQ3d8GPAqHrYg7lIAEYFaMaly0V1K4hyzR2x8_3USN9z8ulQrtukUKv0ADXHHPrPWtqgR8_0Qu0x7HhSOtJUJkcLKnLgp1EMSdeOJ3fIQP94uQLMBcBUPpiFWi6dJ_zC_79C9fvqivuLhQSDT1779uu7pNvxkKEiPA7AoXkULufK2pt8cMVThq48Mfo6XoEsYb5pP5fdRFWVjqGtEyu9ebhlQGMbAt8m-hqAgTIqcBR3YS8EoYCrgUW7L4IpDLMBmNckPwK2W1cfTLLwjOv1jw06KRSrWdAuM7I-JHZLwWnX7Ldqr2Sukc8SeF7WZu9uggWHvZ9lcqd5xNazn-zXmLAzC0kzZ1nT7YiUi2Q-AyEeMAB_ZGZXVIL-Ka7-hoQWGJSIjujFTw0M0KeADydpFTVWUKFcNKQoZtwm1ZTbupBEzVSKWOmM1ge8fQUkR0ZedQ-CRhkmZ0RWz8x8NPAwv5waaVNpLm9iKVJAwSYZidAAeSvPH3OmdGBvCfBQH0-bq_pRqdXZUMqVQs_NmF3LX1oyrCu1qk4n-pclG6PSVHQN1AhESXA4-fduP7S0Otim-gjgWA9O-tlWheWRVWhSq3ljGhoC-nR6qrKvLN5Ff77H4UHRTVlLr31Dwt3P4HMmsDsSXCdDN1ONYfPsUIghf2t8O17JAaUpRL1mrJcnnIG5PFGsrG8gahmQbKWXT-o2g5FReIKrupeKTNxOR_3OMddIHFmOK3ofM4gr2WnWkBe3a9PrKTMYt2k1TJRo-dFeeIK6yONYZNJJuhzkZUASJSoLRitzKdoN_NxzBMh7iFdX50Q9luq8B4x_RE0MTkP4rhclIODn8AehqKBLyYGwM./download [following]\n",
            "--2025-01-05 23:23:40--  https://public.boxcloud.com/d/1/b1!VMyGMBU5vy60cfhAiIN0lpBfT_ulJlICk96sgS2Ou6vvLphOyFo61AD1TB60gMnYIJvdyPNEKn7fCEOEqvRTUZ9SIXPxs7lwfpDXfPVsJNfOUPzhrqEmPwlsf00JUMj-98DWyf5pu5G_dfDqHHXbBT2djDqo04PIpNUVczoQW08aIt6qWQ42AQJmOe-gKQHnjH33NpRqZfWqx8HAMAsfT1NLfAjJORDSPElAjmzxmd1x7BTzcvSUZyu-mYUN-jAdtDSy7iTH1sZboXrusniFGnCRJOwH8-sE5fMKZuAdmlDb6Cg1l2u2H1by3HhphVKTOlQZyJWnwKW-gcza_0SIExkNBecquwp1EU8RnTb9_D7saqzflwNUfoKVDlbJ5Fd9_FDWJpvfy38xMoWOlbBRrmAToPzExWy0WMO-Xfo0yEUaa92IjFqcn6Iapr3goAgoU-PYyyBL6NmI-YZi3NduJIvDKuOFCvORMMeeq0W2Y1ee2_sMDYygRmsskHeBUCoWaFRHDEXQvQe80v7pBPthBN-O5EGb2dZvDqFQIWcWQz4ai8wC_lPdfv0pZr4PzVjOX9HGH4wFsvKasglOtv0YlbG_9ZKeEuiPCo42nrqq6CPLeMZ3nJZR_vzRUusECIy0h3eY0_Vd8GeEnQYXtCXoQabFt2zJwpPfh648f1LLHzhQ3d8GPAqHrYg7lIAEYFaMaly0V1K4hyzR2x8_3USN9z8ulQrtukUKv0ADXHHPrPWtqgR8_0Qu0x7HhSOtJUJkcLKnLgp1EMSdeOJ3fIQP94uQLMBcBUPpiFWi6dJ_zC_79C9fvqivuLhQSDT1779uu7pNvxkKEiPA7AoXkULufK2pt8cMVThq48Mfo6XoEsYb5pP5fdRFWVjqGtEyu9ebhlQGMbAt8m-hqAgTIqcBR3YS8EoYCrgUW7L4IpDLMBmNckPwK2W1cfTLLwjOv1jw06KRSrWdAuM7I-JHZLwWnX7Ldqr2Sukc8SeF7WZu9uggWHvZ9lcqd5xNazn-zXmLAzC0kzZ1nT7YiUi2Q-AyEeMAB_ZGZXVIL-Ka7-hoQWGJSIjujFTw0M0KeADydpFTVWUKFcNKQoZtwm1ZTbupBEzVSKWOmM1ge8fQUkR0ZedQ-CRhkmZ0RWz8x8NPAwv5waaVNpLm9iKVJAwSYZidAAeSvPH3OmdGBvCfBQH0-bq_pRqdXZUMqVQs_NmF3LX1oyrCu1qk4n-pclG6PSVHQN1AhESXA4-fduP7S0Otim-gjgWA9O-tlWheWRVWhSq3ljGhoC-nR6qrKvLN5Ff77H4UHRTVlLr31Dwt3P4HMmsDsSXCdDN1ONYfPsUIghf2t8O17JAaUpRL1mrJcnnIG5PFGsrG8gahmQbKWXT-o2g5FReIKrupeKTNxOR_3OMddIHFmOK3ofM4gr2WnWkBe3a9PrKTMYt2k1TJRo-dFeeIK6yONYZNJJuhzkZUASJSoLRitzKdoN_NxzBMh7iFdX50Q9luq8B4x_RE0MTkP4rhclIODn8AehqKBLyYGwM./download\n",
            "Resolving public.boxcloud.com (public.boxcloud.com)... 74.112.186.165, 2620:117:bff0:69::\n",
            "Connecting to public.boxcloud.com (public.boxcloud.com)|74.112.186.165|:443... connected.\n",
            "HTTP request sent, awaiting response... 200 OK\n",
            "Length: 4087970878 (3.8G) [application/octet-stream]\n",
            "Saving to: ‘saved_ckpt/sdfusion-txt2shape.pth’\n",
            "\n",
            "saved_ckpt/sdfusion 100%[===================>]   3.81G   124MB/s    in 42s     \n",
            "\n",
            "2025-01-05 23:24:22 (93.6 MB/s) - ‘saved_ckpt/sdfusion-txt2shape.pth’ saved [4087970878/4087970878]\n",
            "\n"
          ]
        }
      ]
    },
    {
      "cell_type": "code",
      "source": [
        "# VQVAE's checkpoint\n",
        "!wget https://uofi.box.com/shared/static/zdb9pm9wmxaupzclc7m8gzluj20ja0b6.pth -O saved_ckpt/vqvae-snet-all.pth"
      ],
      "metadata": {
        "colab": {
          "base_uri": "https://localhost:8080/"
        },
        "id": "4DRz_uKZKwi3",
        "outputId": "5d62e35c-12b5-4da2-8ee3-5804225b998d"
      },
      "execution_count": 12,
      "outputs": [
        {
          "output_type": "stream",
          "name": "stdout",
          "text": [
            "--2025-01-05 23:24:22--  https://uofi.box.com/shared/static/zdb9pm9wmxaupzclc7m8gzluj20ja0b6.pth\n",
            "Resolving uofi.box.com (uofi.box.com)... 74.112.186.157\n",
            "Connecting to uofi.box.com (uofi.box.com)|74.112.186.157|:443... connected.\n",
            "HTTP request sent, awaiting response... 301 Moved Permanently\n",
            "Location: /public/static/zdb9pm9wmxaupzclc7m8gzluj20ja0b6.pth [following]\n",
            "--2025-01-05 23:24:23--  https://uofi.box.com/public/static/zdb9pm9wmxaupzclc7m8gzluj20ja0b6.pth\n",
            "Reusing existing connection to uofi.box.com:443.\n",
            "HTTP request sent, awaiting response... 301 Moved Permanently\n",
            "Location: https://uofi.app.box.com/public/static/zdb9pm9wmxaupzclc7m8gzluj20ja0b6.pth [following]\n",
            "--2025-01-05 23:24:23--  https://uofi.app.box.com/public/static/zdb9pm9wmxaupzclc7m8gzluj20ja0b6.pth\n",
            "Resolving uofi.app.box.com (uofi.app.box.com)... 74.112.186.157\n",
            "Connecting to uofi.app.box.com (uofi.app.box.com)|74.112.186.157|:443... connected.\n",
            "HTTP request sent, awaiting response... 302 Found\n",
            "Location: https://public.boxcloud.com/d/1/b1!WAHuhWD8cSwchg7p0-IEABnv94KquCBnI0y9M8iFJ2SIS9joOinl8DUlR-Qfy1opZfuszpbTcBzHVqrZsne78QxAeDlVwaoDI6IhNqLhjxASxsvy1baHY6ytujfeRTyp7Goo4CvfXR90efIoW_J3IQcIE-oULy33yh8X2reimMlI3dp406ixAAX1HkkYf0Y8_OLinyLJpj6eQ3w-hyAESWrbSqpUNZs6mSG7bGIEECiBdhtI3grdkQcOVkGP450sIl6TUacN3HU_f8-aRQFlrrVmJuSCQgJL9c8_FXnRdiqDnNK5hU-o3LVqlh9UlpfOQowTazwlyFMQHN0wakn2bSo2GniKchOAi6K01-LajYxpovcPz3TxCsO1_XD4J0DNXg2JRtFrO_sq6PoyxOP8zWGkHvPrQ3_Vwv3XE_-j31K9AVH7NadMhpYfLrD4QR76xRSBeQc6kNG_2RMUeJrgpFPddrFJ0NSzGn9wHgJJpuo0xBD6NnKjMv_GRIW6MTYfaldxjYrQ7gOi4U-868SEP0lYWQc_E7FuQV87jphE5Ekzz1Pn1bkXIIw6s_naH70iqo6OwUYH0H1BJXGBoTlD-VuHhykgv0-Rez5rmIOG2LV3qZ9QkElP6cgMmIpMSbbCrOV2S2YkfZJ1DL63vCTnFs9u4RFc0XNdArVeEssJIfJH9xQXqKK4OQkxgT5Vuv5YsTcJMVjDWWInu_RG8QAQARKrVMcdwTcMF9kWlUSMRzBMzxEct5VFDUdWyfdftfX6PcbUVDxpYW7_uBCURZ2_AQmh8uubu7ugpwFz6TJ-XKy0qF38CuGJU6TE8pBDryeSSLw0l-ADxkCN0Bsvp4GKG-o58rYNxf7XcqoUyQmLt4hKnjVvV-Vqs0hXlh8J9YWDqyMBc8lo5Ul69wzsKjhAg1csjBaXEB1aSmC6iVLMYOk-jimFIgU6GoWSuY6Rcf9oAF3XRbBWziocrfvBGlf2XgJlkNTIPrGxX09bIgTW0OvOB3b869Rmsz_Y-qEJWzMZykI0lKqSn9vYpbJcKRsJKrNpCEun_IUbW3rYKxbRuFYoRwMwdCp4pbNLeuqV9NmqYXK8bL2xytDGigkdh3iI1Xkakbcp0PGGXNuVfyKPERylWwMrPAuLji5sbQJPl9oTDuxFJTa6uKiL2KOhsN7feUyJUZKC7ip2_AkqlwehsIS4M75uvq8S4ekE8eGxqw8yx9vQQjIGGhoMe0epZ0CEaxCoK7BANbQ2hrk8YUiK-HeLw_Gldi7jBUxSGZY2uqLYp5TtGv9NeF8xuZrEsHrzKD66Azy0HRvP_QV2hHW_QbTjTS7wd8XHIRpyE_AoUXQK7b1eHm6oSnzEVBNUWidvgyfQR6-5OVTt-nIS8E7mJXgHLJWIWV7VlZsjVFyVlUrEh8vl0c9whrtiOoZc8cvLUtCnmh6rDgJOw0I6Ca0QkMhajvgnRsAFyt13yQrULp25kp_wX63X2tnwMsoY1PLR1srYYt3LencbaYyhfgDEfl3W9EtkOXUjrhf7grr0HCr52Uk6ig83HJeLtFqTYOmROMdRSYe9cVO7KZcjUpcq/download [following]\n",
            "--2025-01-05 23:24:23--  https://public.boxcloud.com/d/1/b1!WAHuhWD8cSwchg7p0-IEABnv94KquCBnI0y9M8iFJ2SIS9joOinl8DUlR-Qfy1opZfuszpbTcBzHVqrZsne78QxAeDlVwaoDI6IhNqLhjxASxsvy1baHY6ytujfeRTyp7Goo4CvfXR90efIoW_J3IQcIE-oULy33yh8X2reimMlI3dp406ixAAX1HkkYf0Y8_OLinyLJpj6eQ3w-hyAESWrbSqpUNZs6mSG7bGIEECiBdhtI3grdkQcOVkGP450sIl6TUacN3HU_f8-aRQFlrrVmJuSCQgJL9c8_FXnRdiqDnNK5hU-o3LVqlh9UlpfOQowTazwlyFMQHN0wakn2bSo2GniKchOAi6K01-LajYxpovcPz3TxCsO1_XD4J0DNXg2JRtFrO_sq6PoyxOP8zWGkHvPrQ3_Vwv3XE_-j31K9AVH7NadMhpYfLrD4QR76xRSBeQc6kNG_2RMUeJrgpFPddrFJ0NSzGn9wHgJJpuo0xBD6NnKjMv_GRIW6MTYfaldxjYrQ7gOi4U-868SEP0lYWQc_E7FuQV87jphE5Ekzz1Pn1bkXIIw6s_naH70iqo6OwUYH0H1BJXGBoTlD-VuHhykgv0-Rez5rmIOG2LV3qZ9QkElP6cgMmIpMSbbCrOV2S2YkfZJ1DL63vCTnFs9u4RFc0XNdArVeEssJIfJH9xQXqKK4OQkxgT5Vuv5YsTcJMVjDWWInu_RG8QAQARKrVMcdwTcMF9kWlUSMRzBMzxEct5VFDUdWyfdftfX6PcbUVDxpYW7_uBCURZ2_AQmh8uubu7ugpwFz6TJ-XKy0qF38CuGJU6TE8pBDryeSSLw0l-ADxkCN0Bsvp4GKG-o58rYNxf7XcqoUyQmLt4hKnjVvV-Vqs0hXlh8J9YWDqyMBc8lo5Ul69wzsKjhAg1csjBaXEB1aSmC6iVLMYOk-jimFIgU6GoWSuY6Rcf9oAF3XRbBWziocrfvBGlf2XgJlkNTIPrGxX09bIgTW0OvOB3b869Rmsz_Y-qEJWzMZykI0lKqSn9vYpbJcKRsJKrNpCEun_IUbW3rYKxbRuFYoRwMwdCp4pbNLeuqV9NmqYXK8bL2xytDGigkdh3iI1Xkakbcp0PGGXNuVfyKPERylWwMrPAuLji5sbQJPl9oTDuxFJTa6uKiL2KOhsN7feUyJUZKC7ip2_AkqlwehsIS4M75uvq8S4ekE8eGxqw8yx9vQQjIGGhoMe0epZ0CEaxCoK7BANbQ2hrk8YUiK-HeLw_Gldi7jBUxSGZY2uqLYp5TtGv9NeF8xuZrEsHrzKD66Azy0HRvP_QV2hHW_QbTjTS7wd8XHIRpyE_AoUXQK7b1eHm6oSnzEVBNUWidvgyfQR6-5OVTt-nIS8E7mJXgHLJWIWV7VlZsjVFyVlUrEh8vl0c9whrtiOoZc8cvLUtCnmh6rDgJOw0I6Ca0QkMhajvgnRsAFyt13yQrULp25kp_wX63X2tnwMsoY1PLR1srYYt3LencbaYyhfgDEfl3W9EtkOXUjrhf7grr0HCr52Uk6ig83HJeLtFqTYOmROMdRSYe9cVO7KZcjUpcq/download\n",
            "Resolving public.boxcloud.com (public.boxcloud.com)... 74.112.186.165, 2620:117:bff0:69::\n",
            "Connecting to public.boxcloud.com (public.boxcloud.com)|74.112.186.165|:443... connected.\n",
            "HTTP request sent, awaiting response... 200 OK\n",
            "Length: 105444855 (101M) [application/octet-stream]\n",
            "Saving to: ‘saved_ckpt/vqvae-snet-all.pth’\n",
            "\n",
            "saved_ckpt/vqvae-sn 100%[===================>] 100.56M   103MB/s    in 1.0s    \n",
            "\n",
            "2025-01-05 23:24:25 (103 MB/s) - ‘saved_ckpt/vqvae-snet-all.pth’ saved [105444855/105444855]\n",
            "\n"
          ]
        }
      ]
    },
    {
      "cell_type": "code",
      "execution_count": 13,
      "metadata": {
        "colab": {
          "base_uri": "https://localhost:8080/",
          "height": 443,
          "referenced_widgets": [
            "69b5c056f82a469999241bbf11f42c6a",
            "ca3071e9deaa470ba79d8fa85452cdb3",
            "17b3adef4d7f46c593a695196dd8b9fe",
            "77d0a72787724e12adfacd935e569446",
            "76c2366b281e40cea066fb3ab58630ec",
            "2d2f5b36e6f24233aa60caba980a019b",
            "a5f0e97d856c4a1e8c27789134636581",
            "6fd4f607735742e5835e72650d37d7d5",
            "a59e76dcb313473cbaac96c00d65d8b7",
            "66b545e606a64382869747e538ed1519",
            "f41e552de1e04a87a62fb43ba43eaea7",
            "5f483f2d12e0451989af56f956206e6c",
            "512b7235565e48f1b193f2f413474947",
            "eaae70be002a496f8c41302e503ffdda",
            "1873799a39a949988739cc45db447787",
            "9cd3647a9f2a48c2a52b6c6661efda79",
            "b7082ef4d9a14374b7c1742e2890a0eb",
            "4477c0c708dd4b36b4f8b23e910f264d",
            "b663a8bf7e684413ab835ea0490be060",
            "b501c4afa7fd4fb4bf503d0ec96736f0",
            "b622c7d30fd142e5bc2cfa7b18f41252",
            "9cf7fd01356a4782b0cba98f874bf1a7",
            "e7857e068101494693d952386139f862",
            "c86285b49f644032a765c44e54804dba",
            "552b04a8901a499896a648b1fb448660",
            "379c1e6640d0413abf27c253fefab195",
            "69a46a4eeb3945a7ba8b072e09ee890a",
            "158ce4bf4b724f469d97cb142c07a673",
            "f174dc7673bf4c31919da88293d64ae0",
            "a984982612af4577ac261259eea3d323",
            "dcbcb413da3741c886c7ce4f5eb03b45",
            "d7038f4049ff49538eeb3d38753bcfef",
            "b98704f001e1475b881ba5941e856e85",
            "6ae1a332026d4ba594744d42a709769e",
            "2f877354cced49c5a91e3ca31219456e",
            "ac1d100cfeb44ea3be004155ebdda2d4",
            "d8cde8a2290944b2b7cce98002123e54",
            "c69fbd4e147e49999ddafd97ca114938",
            "df47729d32ea4380ac00e1410e1870d0",
            "b14dbd3448f44c41bd67726e54ff0f4c",
            "12c8b5cc38e147c7a8111d0cc39fe78b",
            "01ca6b85bbb34999914440627a06f997",
            "eecb9c554f2d42ebb83f4c444f848c29",
            "63da8a686f71412da09c0ebcba4ab6dd"
          ]
        },
        "id": "YE1vp0Owovon",
        "outputId": "0d86b527-1103-48b0-cae7-bef5531bf670"
      },
      "outputs": [
        {
          "output_type": "stream",
          "name": "stdout",
          "text": [
            "Working with z of shape (1, 3, 16, 16, 16) = 12288 dimensions.\n"
          ]
        },
        {
          "output_type": "stream",
          "name": "stderr",
          "text": [
            "/content/SDFusion/models/model_utils.py:21: FutureWarning: You are using `torch.load` with `weights_only=False` (the current default value), which uses the default pickle module implicitly. It is possible to construct malicious pickle data which will execute arbitrary code during unpickling (See https://github.com/pytorch/pytorch/blob/main/SECURITY.md#untrusted-models for more details). In a future release, the default value for `weights_only` will be flipped to `True`. This limits the functions that could be executed during unpickling. Arbitrary objects will no longer be allowed to be loaded via this mode unless they are explicitly allowlisted by the user via `torch.serialization.add_safe_globals`. We recommend you start setting `weights_only=True` for any use case where you don't have full control of the loaded file. Please open an issue on GitHub for any issues related to this experimental feature.\n",
            "  state_dict = torch.load(vq_ckpt, map_location=map_fn)\n"
          ]
        },
        {
          "output_type": "stream",
          "name": "stdout",
          "text": [
            "[*] VQVAE: weight successfully load from: saved_ckpt/vqvae-snet-all.pth\n"
          ]
        },
        {
          "output_type": "stream",
          "name": "stderr",
          "text": [
            "/usr/local/lib/python3.10/dist-packages/huggingface_hub/utils/_auth.py:94: UserWarning: \n",
            "The secret `HF_TOKEN` does not exist in your Colab secrets.\n",
            "To authenticate with the Hugging Face Hub, create a token in your settings tab (https://huggingface.co/settings/tokens), set it as secret in your Google Colab and restart your session.\n",
            "You will be able to reuse this secret in all of your notebooks.\n",
            "Please note that authentication is recommended but still optional to access public models or datasets.\n",
            "  warnings.warn(\n"
          ]
        },
        {
          "output_type": "display_data",
          "data": {
            "text/plain": [
              "tokenizer_config.json:   0%|          | 0.00/48.0 [00:00<?, ?B/s]"
            ],
            "application/vnd.jupyter.widget-view+json": {
              "version_major": 2,
              "version_minor": 0,
              "model_id": "69b5c056f82a469999241bbf11f42c6a"
            }
          },
          "metadata": {}
        },
        {
          "output_type": "display_data",
          "data": {
            "text/plain": [
              "vocab.txt:   0%|          | 0.00/232k [00:00<?, ?B/s]"
            ],
            "application/vnd.jupyter.widget-view+json": {
              "version_major": 2,
              "version_minor": 0,
              "model_id": "5f483f2d12e0451989af56f956206e6c"
            }
          },
          "metadata": {}
        },
        {
          "output_type": "display_data",
          "data": {
            "text/plain": [
              "tokenizer.json:   0%|          | 0.00/466k [00:00<?, ?B/s]"
            ],
            "application/vnd.jupyter.widget-view+json": {
              "version_major": 2,
              "version_minor": 0,
              "model_id": "e7857e068101494693d952386139f862"
            }
          },
          "metadata": {}
        },
        {
          "output_type": "display_data",
          "data": {
            "text/plain": [
              "config.json:   0%|          | 0.00/570 [00:00<?, ?B/s]"
            ],
            "application/vnd.jupyter.widget-view+json": {
              "version_major": 2,
              "version_minor": 0,
              "model_id": "6ae1a332026d4ba594744d42a709769e"
            }
          },
          "metadata": {}
        },
        {
          "output_type": "stream",
          "name": "stderr",
          "text": [
            "/content/SDFusion/models/sdfusion_txt2shape_model.py:567: FutureWarning: You are using `torch.load` with `weights_only=False` (the current default value), which uses the default pickle module implicitly. It is possible to construct malicious pickle data which will execute arbitrary code during unpickling (See https://github.com/pytorch/pytorch/blob/main/SECURITY.md#untrusted-models for more details). In a future release, the default value for `weights_only` will be flipped to `True`. This limits the functions that could be executed during unpickling. Arbitrary objects will no longer be allowed to be loaded via this mode unless they are explicitly allowlisted by the user via `torch.serialization.add_safe_globals`. We recommend you start setting `weights_only=True` for any use case where you don't have full control of the loaded file. Please open an issue on GitHub for any issues related to this experimental feature.\n",
            "  state_dict = torch.load(ckpt, map_location=map_fn)\n"
          ]
        },
        {
          "output_type": "stream",
          "name": "stdout",
          "text": [
            "[*] weight successfully load from: saved_ckpt/sdfusion-txt2shape.pth\n",
            "[*] setting ddim_steps=100\n",
            "[*] Model has been created: SDFusion-Text2Shape-Model\n",
            "[*] \"SDFusion-Text2Shape-Model\" loaded.\n"
          ]
        }
      ],
      "source": [
        "# initialize SDFusion model\n",
        "ckpt_path = 'saved_ckpt/sdfusion-txt2shape.pth'\n",
        "opt.init_model_args(ckpt_path=ckpt_path)\n",
        "\n",
        "SDFusion = create_model(opt)\n",
        "cprint(f'[*] \"{SDFusion.name()}\" loaded.', 'cyan')"
      ]
    },
    {
      "cell_type": "markdown",
      "metadata": {
        "id": "IeqFgJDoovon"
      },
      "source": [
        "## SDFusion: text-guided generation (txt2shape)"
      ]
    },
    {
      "cell_type": "code",
      "execution_count": 19,
      "metadata": {
        "colab": {
          "base_uri": "https://localhost:8080/",
          "height": 140
        },
        "id": "tGnRcZk0ovon",
        "outputId": "8e9f26ce-4535-4cc1-ad6a-10d6f2790460"
      },
      "outputs": [
        {
          "output_type": "stream",
          "name": "stdout",
          "text": [
            "Data shape for DDIM sampling is (1, 3, 16, 16, 16), eta 0.0\n",
            "Running DDIM Sampling with 100 timesteps\n"
          ]
        },
        {
          "output_type": "stream",
          "name": "stderr",
          "text": [
            "DDIM Sampler: 100%|██████████| 100/100 [00:37<00:00,  2.69it/s]\n"
          ]
        },
        {
          "output_type": "execute_result",
          "data": {
            "text/plain": [
              "'# Save meshes to .obj and/or .ply\\nfor i, mesh in enumerate(mesh_gen):\\n    verts, faces = mesh.verts_packed(), mesh.faces_packed()\\n    # Save to .obj format\\n    obj_path = f\"{out_dir}/shape_{i}_{input_txt.replace(\\' \\', \\'_\\')}.obj\"\\n    save_obj(obj_path, verts, faces)\\n    print(f\"Saved OBJ to {obj_path}\")'"
            ],
            "application/vnd.google.colaboratory.intrinsic+json": {
              "type": "string"
            }
          },
          "metadata": {},
          "execution_count": 19
        }
      ],
      "source": [
        "\n",
        "# txt2shape\n",
        "out_dir = 'demo_results'\n",
        "if not os.path.exists(out_dir): os.makedirs(out_dir)\n",
        "\n",
        "# change the input text here to generate different chairs/tables!\n",
        "input_txt = \"A round red color chair with four legs 0.5 meters in length each\"\n",
        "\n",
        "ngen = 1 # number of generated shapes\n",
        "ddim_steps = 100\n",
        "ddim_eta = 0.\n",
        "uc_scale = 3.\n",
        "\n",
        "sdf_gen = SDFusion.txt2shape(input_txt=input_txt, ngen=ngen, ddim_steps=ddim_steps, ddim_eta=ddim_eta, uc_scale=uc_scale)\n",
        "\n",
        "mesh_gen = sdf_to_mesh(sdf_gen)\n",
        "\n",
        "'''# Save meshes to .obj and/or .ply\n",
        "for i, mesh in enumerate(mesh_gen):\n",
        "    verts, faces = mesh.verts_packed(), mesh.faces_packed()\n",
        "    # Save to .obj format\n",
        "    obj_path = f\"{out_dir}/shape_{i}_{input_txt.replace(' ', '_')}.obj\"\n",
        "    save_obj(obj_path, verts, faces)\n",
        "    print(f\"Saved OBJ to {obj_path}\")'''\n",
        "\n",
        "# vis as gif\n",
        "#gen_name = f'{out_dir}/txt2shape-{input_txt}.gif'\n",
        "#save_mesh_as_gif(SDFusion.renderer, mesh_gen, nrow=3, out_name=gen_name)\n",
        "\n",
        "#print(f'Input: \"{input_txt}\"')\n",
        "#for name in [gen_name]:\n",
        "#    display(ipy_image(name))"
      ]
    },
    {
      "cell_type": "code",
      "source": [
        "#from pytorch3d.io import save_mesh\n",
        "from pathlib import Path\n",
        "\n",
        "mesh_path = Path(out_dir) / f\"NEWshape_{i}_{input_txt.replace(' ', '_')}.ply\"\n",
        "\n",
        "from pytorch3d.io import IO\n",
        "IO().save_mesh(mesh_gen, mesh_path,binary=False,colors_as_uint8=True)\n",
        "\n",
        "# Directory for saving meshes\n",
        "#out_dir = 'demo_results'\n",
        "#Path(out_dir).mkdir(parents=True, exist_ok=True)\n",
        "\n",
        "# Iterate through generated meshes and save each one\n",
        "'''for i, mesh in enumerate(mesh_gen):\n",
        "    # Ensure the mesh has only one element\n",
        "    #mesh = mesh.extend(1)  # Create a single-element Meshes object\n",
        "\n",
        "    # Define the output path\n",
        "\n",
        "\n",
        "    # Save the mesh with textures included\n",
        "    save_mesh(mesh, mesh_path, binary=True, include_textures=True)\n",
        "    print(f\"Saved mesh to {mesh_path}\")'''"
      ],
      "metadata": {
        "colab": {
          "base_uri": "https://localhost:8080/",
          "height": 105
        },
        "id": "LelV0_kc6dvB",
        "outputId": "1bbde83c-f6c9-4435-8bc9-2ee8db18770a"
      },
      "execution_count": 28,
      "outputs": [
        {
          "output_type": "execute_result",
          "data": {
            "text/plain": [
              "'for i, mesh in enumerate(mesh_gen):\\n    # Ensure the mesh has only one element\\n    #mesh = mesh.extend(1)  # Create a single-element Meshes object\\n\\n    # Define the output path\\n    \\n\\n    # Save the mesh with textures included\\n    save_mesh(mesh, mesh_path, binary=True, include_textures=True)\\n    print(f\"Saved mesh to {mesh_path}\")'"
            ],
            "application/vnd.google.colaboratory.intrinsic+json": {
              "type": "string"
            }
          },
          "metadata": {},
          "execution_count": 28
        }
      ]
    },
    {
      "cell_type": "code",
      "source": [
        "import os\n",
        "import torch\n",
        "import matplotlib.pyplot as plt\n",
        "\n",
        "# Util function for loading meshes\n",
        "from pytorch3d.io import load_objs_as_meshes, load_obj\n",
        "\n",
        "# Data structures and functions for rendering\n",
        "from pytorch3d.structures import Meshes\n",
        "from pytorch3d.vis.plotly_vis import AxisArgs, plot_batch_individually, plot_scene\n",
        "from pytorch3d.vis.texture_vis import texturesuv_image_matplotlib\n",
        "from pytorch3d.renderer import (\n",
        "    look_at_view_transform,\n",
        "    FoVPerspectiveCameras,\n",
        "    PointLights,\n",
        "    DirectionalLights,\n",
        "    Materials,\n",
        "    RasterizationSettings,\n",
        "    MeshRenderer,\n",
        "    MeshRasterizer,\n",
        "    SoftPhongShader,\n",
        "    TexturesUV,\n",
        "    TexturesVertex\n",
        ")\n",
        "\n"
      ],
      "metadata": {
        "id": "463EMJah__kC"
      },
      "execution_count": 29,
      "outputs": []
    },
    {
      "cell_type": "code",
      "source": [
        "!wget https://raw.githubusercontent.com/facebookresearch/pytorch3d/main/docs/tutorials/utils/plot_image_grid.py\n",
        "from plot_image_grid import image_grid"
      ],
      "metadata": {
        "id": "dqvQf26v_1lF",
        "outputId": "657fa8ea-427b-4964-d76b-766b47d54876",
        "colab": {
          "base_uri": "https://localhost:8080/"
        }
      },
      "execution_count": 30,
      "outputs": [
        {
          "output_type": "stream",
          "name": "stdout",
          "text": [
            "--2025-01-06 00:25:21--  https://raw.githubusercontent.com/facebookresearch/pytorch3d/main/docs/tutorials/utils/plot_image_grid.py\n",
            "Resolving raw.githubusercontent.com (raw.githubusercontent.com)... 185.199.108.133, 185.199.109.133, 185.199.110.133, ...\n",
            "Connecting to raw.githubusercontent.com (raw.githubusercontent.com)|185.199.108.133|:443... connected.\n",
            "HTTP request sent, awaiting response... 200 OK\n",
            "Length: 1608 (1.6K) [text/plain]\n",
            "Saving to: ‘plot_image_grid.py’\n",
            "\n",
            "plot_image_grid.py  100%[===================>]   1.57K  --.-KB/s    in 0s      \n",
            "\n",
            "2025-01-06 00:25:21 (29.3 MB/s) - ‘plot_image_grid.py’ saved [1608/1608]\n",
            "\n"
          ]
        }
      ]
    },
    {
      "cell_type": "code",
      "source": [
        "from pytorch3d.io import save_ply\n",
        "\n",
        "verts = mesh_gen.verts_packed()\n",
        "faces = mesh_gen.faces_packed()\n",
        "verts_rgb = mesh_gen.textures.verts_features_packed()\n",
        "\n",
        "# Save to PLY\n",
        "ply_path = Path(out_dir) / \"textured_mesh.ply\"\n",
        "save_ply(ply_path, verts, faces, verts_rgb=verts_rgb)\n",
        "print(f\"Saved PLY with vertex colors to {ply_path}\")"
      ],
      "metadata": {
        "id": "avmsiubDCwi1"
      },
      "execution_count": null,
      "outputs": []
    },
    {
      "cell_type": "markdown",
      "source": [
        "## TODO"
      ],
      "metadata": {
        "id": "sy1HD1-5HZdr"
      }
    },
    {
      "cell_type": "code",
      "source": [
        "#images = SDFusion.renderer(mesh)\n",
        "\n",
        "img_comb = render_mesh(SDFusion.renderer, mesh_gen, norm=False)\n",
        "plt.figure(figsize=(10, 10))\n",
        "plt.imshow(img_comb[0, ..., :3].cpu().numpy())\n",
        "plt.axis(\"off\");\n",
        "'''\n",
        "plt.figure(figsize=(7,7))\n",
        "texture_image=mesh_gen.textures.verts_features_packed()\n",
        "plt.imshow(texture_image.squeeze().cpu().numpy())\n",
        "plt.axis(\"off\");'''"
      ],
      "metadata": {
        "id": "MsWhUHpQ_sVd",
        "outputId": "feb8d727-2c67-4ee8-ef1f-7f4151a89ec6",
        "colab": {
          "base_uri": "https://localhost:8080/",
          "height": 211
        }
      },
      "execution_count": 32,
      "outputs": [
        {
          "output_type": "error",
          "ename": "AttributeError",
          "evalue": "'TexturesVertex' object has no attribute 'squeeze'",
          "traceback": [
            "\u001b[0;31m---------------------------------------------------------------------------\u001b[0m",
            "\u001b[0;31mAttributeError\u001b[0m                            Traceback (most recent call last)",
            "\u001b[0;32m<ipython-input-32-4a3799a6f1dd>\u001b[0m in \u001b[0;36m<cell line: 3>\u001b[0;34m()\u001b[0m\n\u001b[1;32m      1\u001b[0m \u001b[0mplt\u001b[0m\u001b[0;34m.\u001b[0m\u001b[0mfigure\u001b[0m\u001b[0;34m(\u001b[0m\u001b[0mfigsize\u001b[0m\u001b[0;34m=\u001b[0m\u001b[0;34m(\u001b[0m\u001b[0;36m7\u001b[0m\u001b[0;34m,\u001b[0m\u001b[0;36m7\u001b[0m\u001b[0;34m)\u001b[0m\u001b[0;34m)\u001b[0m\u001b[0;34m\u001b[0m\u001b[0;34m\u001b[0m\u001b[0m\n\u001b[1;32m      2\u001b[0m \u001b[0mtexture_image\u001b[0m\u001b[0;34m=\u001b[0m\u001b[0mmesh_gen\u001b[0m\u001b[0;34m.\u001b[0m\u001b[0mtextures\u001b[0m\u001b[0;34m\u001b[0m\u001b[0;34m\u001b[0m\u001b[0m\n\u001b[0;32m----> 3\u001b[0;31m \u001b[0mplt\u001b[0m\u001b[0;34m.\u001b[0m\u001b[0mimshow\u001b[0m\u001b[0;34m(\u001b[0m\u001b[0mtexture_image\u001b[0m\u001b[0;34m.\u001b[0m\u001b[0msqueeze\u001b[0m\u001b[0;34m(\u001b[0m\u001b[0;34m)\u001b[0m\u001b[0;34m.\u001b[0m\u001b[0mcpu\u001b[0m\u001b[0;34m(\u001b[0m\u001b[0;34m)\u001b[0m\u001b[0;34m.\u001b[0m\u001b[0mnumpy\u001b[0m\u001b[0;34m(\u001b[0m\u001b[0;34m)\u001b[0m\u001b[0;34m)\u001b[0m\u001b[0;34m\u001b[0m\u001b[0;34m\u001b[0m\u001b[0m\n\u001b[0m\u001b[1;32m      4\u001b[0m \u001b[0mplt\u001b[0m\u001b[0;34m.\u001b[0m\u001b[0maxis\u001b[0m\u001b[0;34m(\u001b[0m\u001b[0;34m\"off\"\u001b[0m\u001b[0;34m)\u001b[0m\u001b[0;34m;\u001b[0m\u001b[0;34m\u001b[0m\u001b[0;34m\u001b[0m\u001b[0m\n",
            "\u001b[0;31mAttributeError\u001b[0m: 'TexturesVertex' object has no attribute 'squeeze'"
          ]
        },
        {
          "output_type": "display_data",
          "data": {
            "text/plain": [
              "<Figure size 700x700 with 0 Axes>"
            ]
          },
          "metadata": {}
        }
      ]
    },
    {
      "cell_type": "code",
      "source": [
        "from pytorch3d.io import save_obj, save_ply\n",
        "\n",
        " # Assuming each mesh has a `textures` attribute with a Textures object\n",
        "for i, mesh in enumerate(mesh_gen):\n",
        "    verts, faces = mesh.verts_packed(), mesh.faces_packed()\n",
        "\n",
        "    # Save geometry and textures to .obj format\n",
        "    if hasattr(mesh, 'textures') and mesh.textures is not None:\n",
        "        vertex_colors = mesh.textures.verts_features_packed()  # Extract vertex colors\n",
        "\n",
        "        # Save to .obj without UVs but with vertex colors\n",
        "        obj_path = f\"{out_dir}/shape_{i}_{input_txt.replace(' ', '_')}_textured.obj\"\n",
        "        save_obj(obj_path, verts, faces)  # OBJ doesn't natively support vertex colors\n",
        "        print(f\"Saved OBJ to {obj_path} (vertex colors not directly supported in OBJ)\")\n",
        "\n",
        "        # Save to .ply with vertex colors\n",
        "        ply_path = f\"{out_dir}/shape_{i}_{input_txt.replace(' ', '_')}_textured.ply\"\n",
        "        save_ply(ply_path, verts, faces, verts_rgb=vertex_colors)\n",
        "        print(f\"Saved PLY to {ply_path} (with vertex colors)\")\n",
        "\n",
        "    else:\n",
        "        # Save without textures\n",
        "        obj_path = f\"{out_dir}/shape_{i}_{input_txt.replace(' ', '_')}.obj\"\n",
        "        save_obj(obj_path, verts, faces)\n",
        "        print(f\"Saved OBJ (no textures) to {obj_path}\")\n"
      ],
      "metadata": {
        "colab": {
          "base_uri": "https://localhost:8080/",
          "height": 265
        },
        "id": "hrStyMmu3zUU",
        "outputId": "63f33869-29b8-49bb-dfeb-fcc3db5b8a0f"
      },
      "execution_count": 21,
      "outputs": [
        {
          "output_type": "stream",
          "name": "stdout",
          "text": [
            "Saved OBJ to demo_results/shape_0_A_round_red_color_chair_with_four_legs_0.5_meters_in_length_each_textured.obj (vertex colors not directly supported in OBJ)\n"
          ]
        },
        {
          "output_type": "error",
          "ename": "TypeError",
          "evalue": "save_ply() got an unexpected keyword argument 'verts_rgb'",
          "traceback": [
            "\u001b[0;31m---------------------------------------------------------------------------\u001b[0m",
            "\u001b[0;31mTypeError\u001b[0m                                 Traceback (most recent call last)",
            "\u001b[0;32m<ipython-input-21-8adbce2a43ba>\u001b[0m in \u001b[0;36m<cell line: 4>\u001b[0;34m()\u001b[0m\n\u001b[1;32m     16\u001b[0m         \u001b[0;31m# Save to .ply with vertex colors\u001b[0m\u001b[0;34m\u001b[0m\u001b[0;34m\u001b[0m\u001b[0m\n\u001b[1;32m     17\u001b[0m         \u001b[0mply_path\u001b[0m \u001b[0;34m=\u001b[0m \u001b[0;34mf\"{out_dir}/shape_{i}_{input_txt.replace(' ', '_')}_textured.ply\"\u001b[0m\u001b[0;34m\u001b[0m\u001b[0;34m\u001b[0m\u001b[0m\n\u001b[0;32m---> 18\u001b[0;31m         \u001b[0msave_ply\u001b[0m\u001b[0;34m(\u001b[0m\u001b[0mply_path\u001b[0m\u001b[0;34m,\u001b[0m \u001b[0mverts\u001b[0m\u001b[0;34m,\u001b[0m \u001b[0mfaces\u001b[0m\u001b[0;34m,\u001b[0m \u001b[0mverts_rgb\u001b[0m\u001b[0;34m=\u001b[0m\u001b[0mvertex_colors\u001b[0m\u001b[0;34m)\u001b[0m\u001b[0;34m\u001b[0m\u001b[0;34m\u001b[0m\u001b[0m\n\u001b[0m\u001b[1;32m     19\u001b[0m         \u001b[0mprint\u001b[0m\u001b[0;34m(\u001b[0m\u001b[0;34mf\"Saved PLY to {ply_path} (with vertex colors)\"\u001b[0m\u001b[0;34m)\u001b[0m\u001b[0;34m\u001b[0m\u001b[0;34m\u001b[0m\u001b[0m\n\u001b[1;32m     20\u001b[0m \u001b[0;34m\u001b[0m\u001b[0m\n",
            "\u001b[0;31mTypeError\u001b[0m: save_ply() got an unexpected keyword argument 'verts_rgb'"
          ]
        }
      ]
    },
    {
      "cell_type": "code",
      "execution_count": null,
      "metadata": {
        "id": "J1ZQCHmXovoo"
      },
      "outputs": [],
      "source": []
    }
  ],
  "metadata": {
    "kernelspec": {
      "display_name": "Python 3",
      "name": "python3"
    },
    "language_info": {
      "codemirror_mode": {
        "name": "ipython",
        "version": 3
      },
      "file_extension": ".py",
      "mimetype": "text/x-python",
      "name": "python",
      "nbconvert_exporter": "python",
      "pygments_lexer": "ipython3",
      "version": "3.8.11"
    },
    "vscode": {
      "interpreter": {
        "hash": "c9bb85e944c303a90ba1b7f3901817f7bc3ecb5f736863b2299a6fa67a7b3c89"
      }
    },
    "colab": {
      "provenance": [],
      "gpuType": "T4"
    },
    "accelerator": "GPU",
    "widgets": {
      "application/vnd.jupyter.widget-state+json": {
        "69b5c056f82a469999241bbf11f42c6a": {
          "model_module": "@jupyter-widgets/controls",
          "model_name": "HBoxModel",
          "model_module_version": "1.5.0",
          "state": {
            "_dom_classes": [],
            "_model_module": "@jupyter-widgets/controls",
            "_model_module_version": "1.5.0",
            "_model_name": "HBoxModel",
            "_view_count": null,
            "_view_module": "@jupyter-widgets/controls",
            "_view_module_version": "1.5.0",
            "_view_name": "HBoxView",
            "box_style": "",
            "children": [
              "IPY_MODEL_ca3071e9deaa470ba79d8fa85452cdb3",
              "IPY_MODEL_17b3adef4d7f46c593a695196dd8b9fe",
              "IPY_MODEL_77d0a72787724e12adfacd935e569446"
            ],
            "layout": "IPY_MODEL_76c2366b281e40cea066fb3ab58630ec"
          }
        },
        "ca3071e9deaa470ba79d8fa85452cdb3": {
          "model_module": "@jupyter-widgets/controls",
          "model_name": "HTMLModel",
          "model_module_version": "1.5.0",
          "state": {
            "_dom_classes": [],
            "_model_module": "@jupyter-widgets/controls",
            "_model_module_version": "1.5.0",
            "_model_name": "HTMLModel",
            "_view_count": null,
            "_view_module": "@jupyter-widgets/controls",
            "_view_module_version": "1.5.0",
            "_view_name": "HTMLView",
            "description": "",
            "description_tooltip": null,
            "layout": "IPY_MODEL_2d2f5b36e6f24233aa60caba980a019b",
            "placeholder": "​",
            "style": "IPY_MODEL_a5f0e97d856c4a1e8c27789134636581",
            "value": "tokenizer_config.json: 100%"
          }
        },
        "17b3adef4d7f46c593a695196dd8b9fe": {
          "model_module": "@jupyter-widgets/controls",
          "model_name": "FloatProgressModel",
          "model_module_version": "1.5.0",
          "state": {
            "_dom_classes": [],
            "_model_module": "@jupyter-widgets/controls",
            "_model_module_version": "1.5.0",
            "_model_name": "FloatProgressModel",
            "_view_count": null,
            "_view_module": "@jupyter-widgets/controls",
            "_view_module_version": "1.5.0",
            "_view_name": "ProgressView",
            "bar_style": "success",
            "description": "",
            "description_tooltip": null,
            "layout": "IPY_MODEL_6fd4f607735742e5835e72650d37d7d5",
            "max": 48,
            "min": 0,
            "orientation": "horizontal",
            "style": "IPY_MODEL_a59e76dcb313473cbaac96c00d65d8b7",
            "value": 48
          }
        },
        "77d0a72787724e12adfacd935e569446": {
          "model_module": "@jupyter-widgets/controls",
          "model_name": "HTMLModel",
          "model_module_version": "1.5.0",
          "state": {
            "_dom_classes": [],
            "_model_module": "@jupyter-widgets/controls",
            "_model_module_version": "1.5.0",
            "_model_name": "HTMLModel",
            "_view_count": null,
            "_view_module": "@jupyter-widgets/controls",
            "_view_module_version": "1.5.0",
            "_view_name": "HTMLView",
            "description": "",
            "description_tooltip": null,
            "layout": "IPY_MODEL_66b545e606a64382869747e538ed1519",
            "placeholder": "​",
            "style": "IPY_MODEL_f41e552de1e04a87a62fb43ba43eaea7",
            "value": " 48.0/48.0 [00:00&lt;00:00, 2.36kB/s]"
          }
        },
        "76c2366b281e40cea066fb3ab58630ec": {
          "model_module": "@jupyter-widgets/base",
          "model_name": "LayoutModel",
          "model_module_version": "1.2.0",
          "state": {
            "_model_module": "@jupyter-widgets/base",
            "_model_module_version": "1.2.0",
            "_model_name": "LayoutModel",
            "_view_count": null,
            "_view_module": "@jupyter-widgets/base",
            "_view_module_version": "1.2.0",
            "_view_name": "LayoutView",
            "align_content": null,
            "align_items": null,
            "align_self": null,
            "border": null,
            "bottom": null,
            "display": null,
            "flex": null,
            "flex_flow": null,
            "grid_area": null,
            "grid_auto_columns": null,
            "grid_auto_flow": null,
            "grid_auto_rows": null,
            "grid_column": null,
            "grid_gap": null,
            "grid_row": null,
            "grid_template_areas": null,
            "grid_template_columns": null,
            "grid_template_rows": null,
            "height": null,
            "justify_content": null,
            "justify_items": null,
            "left": null,
            "margin": null,
            "max_height": null,
            "max_width": null,
            "min_height": null,
            "min_width": null,
            "object_fit": null,
            "object_position": null,
            "order": null,
            "overflow": null,
            "overflow_x": null,
            "overflow_y": null,
            "padding": null,
            "right": null,
            "top": null,
            "visibility": null,
            "width": null
          }
        },
        "2d2f5b36e6f24233aa60caba980a019b": {
          "model_module": "@jupyter-widgets/base",
          "model_name": "LayoutModel",
          "model_module_version": "1.2.0",
          "state": {
            "_model_module": "@jupyter-widgets/base",
            "_model_module_version": "1.2.0",
            "_model_name": "LayoutModel",
            "_view_count": null,
            "_view_module": "@jupyter-widgets/base",
            "_view_module_version": "1.2.0",
            "_view_name": "LayoutView",
            "align_content": null,
            "align_items": null,
            "align_self": null,
            "border": null,
            "bottom": null,
            "display": null,
            "flex": null,
            "flex_flow": null,
            "grid_area": null,
            "grid_auto_columns": null,
            "grid_auto_flow": null,
            "grid_auto_rows": null,
            "grid_column": null,
            "grid_gap": null,
            "grid_row": null,
            "grid_template_areas": null,
            "grid_template_columns": null,
            "grid_template_rows": null,
            "height": null,
            "justify_content": null,
            "justify_items": null,
            "left": null,
            "margin": null,
            "max_height": null,
            "max_width": null,
            "min_height": null,
            "min_width": null,
            "object_fit": null,
            "object_position": null,
            "order": null,
            "overflow": null,
            "overflow_x": null,
            "overflow_y": null,
            "padding": null,
            "right": null,
            "top": null,
            "visibility": null,
            "width": null
          }
        },
        "a5f0e97d856c4a1e8c27789134636581": {
          "model_module": "@jupyter-widgets/controls",
          "model_name": "DescriptionStyleModel",
          "model_module_version": "1.5.0",
          "state": {
            "_model_module": "@jupyter-widgets/controls",
            "_model_module_version": "1.5.0",
            "_model_name": "DescriptionStyleModel",
            "_view_count": null,
            "_view_module": "@jupyter-widgets/base",
            "_view_module_version": "1.2.0",
            "_view_name": "StyleView",
            "description_width": ""
          }
        },
        "6fd4f607735742e5835e72650d37d7d5": {
          "model_module": "@jupyter-widgets/base",
          "model_name": "LayoutModel",
          "model_module_version": "1.2.0",
          "state": {
            "_model_module": "@jupyter-widgets/base",
            "_model_module_version": "1.2.0",
            "_model_name": "LayoutModel",
            "_view_count": null,
            "_view_module": "@jupyter-widgets/base",
            "_view_module_version": "1.2.0",
            "_view_name": "LayoutView",
            "align_content": null,
            "align_items": null,
            "align_self": null,
            "border": null,
            "bottom": null,
            "display": null,
            "flex": null,
            "flex_flow": null,
            "grid_area": null,
            "grid_auto_columns": null,
            "grid_auto_flow": null,
            "grid_auto_rows": null,
            "grid_column": null,
            "grid_gap": null,
            "grid_row": null,
            "grid_template_areas": null,
            "grid_template_columns": null,
            "grid_template_rows": null,
            "height": null,
            "justify_content": null,
            "justify_items": null,
            "left": null,
            "margin": null,
            "max_height": null,
            "max_width": null,
            "min_height": null,
            "min_width": null,
            "object_fit": null,
            "object_position": null,
            "order": null,
            "overflow": null,
            "overflow_x": null,
            "overflow_y": null,
            "padding": null,
            "right": null,
            "top": null,
            "visibility": null,
            "width": null
          }
        },
        "a59e76dcb313473cbaac96c00d65d8b7": {
          "model_module": "@jupyter-widgets/controls",
          "model_name": "ProgressStyleModel",
          "model_module_version": "1.5.0",
          "state": {
            "_model_module": "@jupyter-widgets/controls",
            "_model_module_version": "1.5.0",
            "_model_name": "ProgressStyleModel",
            "_view_count": null,
            "_view_module": "@jupyter-widgets/base",
            "_view_module_version": "1.2.0",
            "_view_name": "StyleView",
            "bar_color": null,
            "description_width": ""
          }
        },
        "66b545e606a64382869747e538ed1519": {
          "model_module": "@jupyter-widgets/base",
          "model_name": "LayoutModel",
          "model_module_version": "1.2.0",
          "state": {
            "_model_module": "@jupyter-widgets/base",
            "_model_module_version": "1.2.0",
            "_model_name": "LayoutModel",
            "_view_count": null,
            "_view_module": "@jupyter-widgets/base",
            "_view_module_version": "1.2.0",
            "_view_name": "LayoutView",
            "align_content": null,
            "align_items": null,
            "align_self": null,
            "border": null,
            "bottom": null,
            "display": null,
            "flex": null,
            "flex_flow": null,
            "grid_area": null,
            "grid_auto_columns": null,
            "grid_auto_flow": null,
            "grid_auto_rows": null,
            "grid_column": null,
            "grid_gap": null,
            "grid_row": null,
            "grid_template_areas": null,
            "grid_template_columns": null,
            "grid_template_rows": null,
            "height": null,
            "justify_content": null,
            "justify_items": null,
            "left": null,
            "margin": null,
            "max_height": null,
            "max_width": null,
            "min_height": null,
            "min_width": null,
            "object_fit": null,
            "object_position": null,
            "order": null,
            "overflow": null,
            "overflow_x": null,
            "overflow_y": null,
            "padding": null,
            "right": null,
            "top": null,
            "visibility": null,
            "width": null
          }
        },
        "f41e552de1e04a87a62fb43ba43eaea7": {
          "model_module": "@jupyter-widgets/controls",
          "model_name": "DescriptionStyleModel",
          "model_module_version": "1.5.0",
          "state": {
            "_model_module": "@jupyter-widgets/controls",
            "_model_module_version": "1.5.0",
            "_model_name": "DescriptionStyleModel",
            "_view_count": null,
            "_view_module": "@jupyter-widgets/base",
            "_view_module_version": "1.2.0",
            "_view_name": "StyleView",
            "description_width": ""
          }
        },
        "5f483f2d12e0451989af56f956206e6c": {
          "model_module": "@jupyter-widgets/controls",
          "model_name": "HBoxModel",
          "model_module_version": "1.5.0",
          "state": {
            "_dom_classes": [],
            "_model_module": "@jupyter-widgets/controls",
            "_model_module_version": "1.5.0",
            "_model_name": "HBoxModel",
            "_view_count": null,
            "_view_module": "@jupyter-widgets/controls",
            "_view_module_version": "1.5.0",
            "_view_name": "HBoxView",
            "box_style": "",
            "children": [
              "IPY_MODEL_512b7235565e48f1b193f2f413474947",
              "IPY_MODEL_eaae70be002a496f8c41302e503ffdda",
              "IPY_MODEL_1873799a39a949988739cc45db447787"
            ],
            "layout": "IPY_MODEL_9cd3647a9f2a48c2a52b6c6661efda79"
          }
        },
        "512b7235565e48f1b193f2f413474947": {
          "model_module": "@jupyter-widgets/controls",
          "model_name": "HTMLModel",
          "model_module_version": "1.5.0",
          "state": {
            "_dom_classes": [],
            "_model_module": "@jupyter-widgets/controls",
            "_model_module_version": "1.5.0",
            "_model_name": "HTMLModel",
            "_view_count": null,
            "_view_module": "@jupyter-widgets/controls",
            "_view_module_version": "1.5.0",
            "_view_name": "HTMLView",
            "description": "",
            "description_tooltip": null,
            "layout": "IPY_MODEL_b7082ef4d9a14374b7c1742e2890a0eb",
            "placeholder": "​",
            "style": "IPY_MODEL_4477c0c708dd4b36b4f8b23e910f264d",
            "value": "vocab.txt: 100%"
          }
        },
        "eaae70be002a496f8c41302e503ffdda": {
          "model_module": "@jupyter-widgets/controls",
          "model_name": "FloatProgressModel",
          "model_module_version": "1.5.0",
          "state": {
            "_dom_classes": [],
            "_model_module": "@jupyter-widgets/controls",
            "_model_module_version": "1.5.0",
            "_model_name": "FloatProgressModel",
            "_view_count": null,
            "_view_module": "@jupyter-widgets/controls",
            "_view_module_version": "1.5.0",
            "_view_name": "ProgressView",
            "bar_style": "success",
            "description": "",
            "description_tooltip": null,
            "layout": "IPY_MODEL_b663a8bf7e684413ab835ea0490be060",
            "max": 231508,
            "min": 0,
            "orientation": "horizontal",
            "style": "IPY_MODEL_b501c4afa7fd4fb4bf503d0ec96736f0",
            "value": 231508
          }
        },
        "1873799a39a949988739cc45db447787": {
          "model_module": "@jupyter-widgets/controls",
          "model_name": "HTMLModel",
          "model_module_version": "1.5.0",
          "state": {
            "_dom_classes": [],
            "_model_module": "@jupyter-widgets/controls",
            "_model_module_version": "1.5.0",
            "_model_name": "HTMLModel",
            "_view_count": null,
            "_view_module": "@jupyter-widgets/controls",
            "_view_module_version": "1.5.0",
            "_view_name": "HTMLView",
            "description": "",
            "description_tooltip": null,
            "layout": "IPY_MODEL_b622c7d30fd142e5bc2cfa7b18f41252",
            "placeholder": "​",
            "style": "IPY_MODEL_9cf7fd01356a4782b0cba98f874bf1a7",
            "value": " 232k/232k [00:00&lt;00:00, 2.79MB/s]"
          }
        },
        "9cd3647a9f2a48c2a52b6c6661efda79": {
          "model_module": "@jupyter-widgets/base",
          "model_name": "LayoutModel",
          "model_module_version": "1.2.0",
          "state": {
            "_model_module": "@jupyter-widgets/base",
            "_model_module_version": "1.2.0",
            "_model_name": "LayoutModel",
            "_view_count": null,
            "_view_module": "@jupyter-widgets/base",
            "_view_module_version": "1.2.0",
            "_view_name": "LayoutView",
            "align_content": null,
            "align_items": null,
            "align_self": null,
            "border": null,
            "bottom": null,
            "display": null,
            "flex": null,
            "flex_flow": null,
            "grid_area": null,
            "grid_auto_columns": null,
            "grid_auto_flow": null,
            "grid_auto_rows": null,
            "grid_column": null,
            "grid_gap": null,
            "grid_row": null,
            "grid_template_areas": null,
            "grid_template_columns": null,
            "grid_template_rows": null,
            "height": null,
            "justify_content": null,
            "justify_items": null,
            "left": null,
            "margin": null,
            "max_height": null,
            "max_width": null,
            "min_height": null,
            "min_width": null,
            "object_fit": null,
            "object_position": null,
            "order": null,
            "overflow": null,
            "overflow_x": null,
            "overflow_y": null,
            "padding": null,
            "right": null,
            "top": null,
            "visibility": null,
            "width": null
          }
        },
        "b7082ef4d9a14374b7c1742e2890a0eb": {
          "model_module": "@jupyter-widgets/base",
          "model_name": "LayoutModel",
          "model_module_version": "1.2.0",
          "state": {
            "_model_module": "@jupyter-widgets/base",
            "_model_module_version": "1.2.0",
            "_model_name": "LayoutModel",
            "_view_count": null,
            "_view_module": "@jupyter-widgets/base",
            "_view_module_version": "1.2.0",
            "_view_name": "LayoutView",
            "align_content": null,
            "align_items": null,
            "align_self": null,
            "border": null,
            "bottom": null,
            "display": null,
            "flex": null,
            "flex_flow": null,
            "grid_area": null,
            "grid_auto_columns": null,
            "grid_auto_flow": null,
            "grid_auto_rows": null,
            "grid_column": null,
            "grid_gap": null,
            "grid_row": null,
            "grid_template_areas": null,
            "grid_template_columns": null,
            "grid_template_rows": null,
            "height": null,
            "justify_content": null,
            "justify_items": null,
            "left": null,
            "margin": null,
            "max_height": null,
            "max_width": null,
            "min_height": null,
            "min_width": null,
            "object_fit": null,
            "object_position": null,
            "order": null,
            "overflow": null,
            "overflow_x": null,
            "overflow_y": null,
            "padding": null,
            "right": null,
            "top": null,
            "visibility": null,
            "width": null
          }
        },
        "4477c0c708dd4b36b4f8b23e910f264d": {
          "model_module": "@jupyter-widgets/controls",
          "model_name": "DescriptionStyleModel",
          "model_module_version": "1.5.0",
          "state": {
            "_model_module": "@jupyter-widgets/controls",
            "_model_module_version": "1.5.0",
            "_model_name": "DescriptionStyleModel",
            "_view_count": null,
            "_view_module": "@jupyter-widgets/base",
            "_view_module_version": "1.2.0",
            "_view_name": "StyleView",
            "description_width": ""
          }
        },
        "b663a8bf7e684413ab835ea0490be060": {
          "model_module": "@jupyter-widgets/base",
          "model_name": "LayoutModel",
          "model_module_version": "1.2.0",
          "state": {
            "_model_module": "@jupyter-widgets/base",
            "_model_module_version": "1.2.0",
            "_model_name": "LayoutModel",
            "_view_count": null,
            "_view_module": "@jupyter-widgets/base",
            "_view_module_version": "1.2.0",
            "_view_name": "LayoutView",
            "align_content": null,
            "align_items": null,
            "align_self": null,
            "border": null,
            "bottom": null,
            "display": null,
            "flex": null,
            "flex_flow": null,
            "grid_area": null,
            "grid_auto_columns": null,
            "grid_auto_flow": null,
            "grid_auto_rows": null,
            "grid_column": null,
            "grid_gap": null,
            "grid_row": null,
            "grid_template_areas": null,
            "grid_template_columns": null,
            "grid_template_rows": null,
            "height": null,
            "justify_content": null,
            "justify_items": null,
            "left": null,
            "margin": null,
            "max_height": null,
            "max_width": null,
            "min_height": null,
            "min_width": null,
            "object_fit": null,
            "object_position": null,
            "order": null,
            "overflow": null,
            "overflow_x": null,
            "overflow_y": null,
            "padding": null,
            "right": null,
            "top": null,
            "visibility": null,
            "width": null
          }
        },
        "b501c4afa7fd4fb4bf503d0ec96736f0": {
          "model_module": "@jupyter-widgets/controls",
          "model_name": "ProgressStyleModel",
          "model_module_version": "1.5.0",
          "state": {
            "_model_module": "@jupyter-widgets/controls",
            "_model_module_version": "1.5.0",
            "_model_name": "ProgressStyleModel",
            "_view_count": null,
            "_view_module": "@jupyter-widgets/base",
            "_view_module_version": "1.2.0",
            "_view_name": "StyleView",
            "bar_color": null,
            "description_width": ""
          }
        },
        "b622c7d30fd142e5bc2cfa7b18f41252": {
          "model_module": "@jupyter-widgets/base",
          "model_name": "LayoutModel",
          "model_module_version": "1.2.0",
          "state": {
            "_model_module": "@jupyter-widgets/base",
            "_model_module_version": "1.2.0",
            "_model_name": "LayoutModel",
            "_view_count": null,
            "_view_module": "@jupyter-widgets/base",
            "_view_module_version": "1.2.0",
            "_view_name": "LayoutView",
            "align_content": null,
            "align_items": null,
            "align_self": null,
            "border": null,
            "bottom": null,
            "display": null,
            "flex": null,
            "flex_flow": null,
            "grid_area": null,
            "grid_auto_columns": null,
            "grid_auto_flow": null,
            "grid_auto_rows": null,
            "grid_column": null,
            "grid_gap": null,
            "grid_row": null,
            "grid_template_areas": null,
            "grid_template_columns": null,
            "grid_template_rows": null,
            "height": null,
            "justify_content": null,
            "justify_items": null,
            "left": null,
            "margin": null,
            "max_height": null,
            "max_width": null,
            "min_height": null,
            "min_width": null,
            "object_fit": null,
            "object_position": null,
            "order": null,
            "overflow": null,
            "overflow_x": null,
            "overflow_y": null,
            "padding": null,
            "right": null,
            "top": null,
            "visibility": null,
            "width": null
          }
        },
        "9cf7fd01356a4782b0cba98f874bf1a7": {
          "model_module": "@jupyter-widgets/controls",
          "model_name": "DescriptionStyleModel",
          "model_module_version": "1.5.0",
          "state": {
            "_model_module": "@jupyter-widgets/controls",
            "_model_module_version": "1.5.0",
            "_model_name": "DescriptionStyleModel",
            "_view_count": null,
            "_view_module": "@jupyter-widgets/base",
            "_view_module_version": "1.2.0",
            "_view_name": "StyleView",
            "description_width": ""
          }
        },
        "e7857e068101494693d952386139f862": {
          "model_module": "@jupyter-widgets/controls",
          "model_name": "HBoxModel",
          "model_module_version": "1.5.0",
          "state": {
            "_dom_classes": [],
            "_model_module": "@jupyter-widgets/controls",
            "_model_module_version": "1.5.0",
            "_model_name": "HBoxModel",
            "_view_count": null,
            "_view_module": "@jupyter-widgets/controls",
            "_view_module_version": "1.5.0",
            "_view_name": "HBoxView",
            "box_style": "",
            "children": [
              "IPY_MODEL_c86285b49f644032a765c44e54804dba",
              "IPY_MODEL_552b04a8901a499896a648b1fb448660",
              "IPY_MODEL_379c1e6640d0413abf27c253fefab195"
            ],
            "layout": "IPY_MODEL_69a46a4eeb3945a7ba8b072e09ee890a"
          }
        },
        "c86285b49f644032a765c44e54804dba": {
          "model_module": "@jupyter-widgets/controls",
          "model_name": "HTMLModel",
          "model_module_version": "1.5.0",
          "state": {
            "_dom_classes": [],
            "_model_module": "@jupyter-widgets/controls",
            "_model_module_version": "1.5.0",
            "_model_name": "HTMLModel",
            "_view_count": null,
            "_view_module": "@jupyter-widgets/controls",
            "_view_module_version": "1.5.0",
            "_view_name": "HTMLView",
            "description": "",
            "description_tooltip": null,
            "layout": "IPY_MODEL_158ce4bf4b724f469d97cb142c07a673",
            "placeholder": "​",
            "style": "IPY_MODEL_f174dc7673bf4c31919da88293d64ae0",
            "value": "tokenizer.json: 100%"
          }
        },
        "552b04a8901a499896a648b1fb448660": {
          "model_module": "@jupyter-widgets/controls",
          "model_name": "FloatProgressModel",
          "model_module_version": "1.5.0",
          "state": {
            "_dom_classes": [],
            "_model_module": "@jupyter-widgets/controls",
            "_model_module_version": "1.5.0",
            "_model_name": "FloatProgressModel",
            "_view_count": null,
            "_view_module": "@jupyter-widgets/controls",
            "_view_module_version": "1.5.0",
            "_view_name": "ProgressView",
            "bar_style": "success",
            "description": "",
            "description_tooltip": null,
            "layout": "IPY_MODEL_a984982612af4577ac261259eea3d323",
            "max": 466062,
            "min": 0,
            "orientation": "horizontal",
            "style": "IPY_MODEL_dcbcb413da3741c886c7ce4f5eb03b45",
            "value": 466062
          }
        },
        "379c1e6640d0413abf27c253fefab195": {
          "model_module": "@jupyter-widgets/controls",
          "model_name": "HTMLModel",
          "model_module_version": "1.5.0",
          "state": {
            "_dom_classes": [],
            "_model_module": "@jupyter-widgets/controls",
            "_model_module_version": "1.5.0",
            "_model_name": "HTMLModel",
            "_view_count": null,
            "_view_module": "@jupyter-widgets/controls",
            "_view_module_version": "1.5.0",
            "_view_name": "HTMLView",
            "description": "",
            "description_tooltip": null,
            "layout": "IPY_MODEL_d7038f4049ff49538eeb3d38753bcfef",
            "placeholder": "​",
            "style": "IPY_MODEL_b98704f001e1475b881ba5941e856e85",
            "value": " 466k/466k [00:00&lt;00:00, 16.7MB/s]"
          }
        },
        "69a46a4eeb3945a7ba8b072e09ee890a": {
          "model_module": "@jupyter-widgets/base",
          "model_name": "LayoutModel",
          "model_module_version": "1.2.0",
          "state": {
            "_model_module": "@jupyter-widgets/base",
            "_model_module_version": "1.2.0",
            "_model_name": "LayoutModel",
            "_view_count": null,
            "_view_module": "@jupyter-widgets/base",
            "_view_module_version": "1.2.0",
            "_view_name": "LayoutView",
            "align_content": null,
            "align_items": null,
            "align_self": null,
            "border": null,
            "bottom": null,
            "display": null,
            "flex": null,
            "flex_flow": null,
            "grid_area": null,
            "grid_auto_columns": null,
            "grid_auto_flow": null,
            "grid_auto_rows": null,
            "grid_column": null,
            "grid_gap": null,
            "grid_row": null,
            "grid_template_areas": null,
            "grid_template_columns": null,
            "grid_template_rows": null,
            "height": null,
            "justify_content": null,
            "justify_items": null,
            "left": null,
            "margin": null,
            "max_height": null,
            "max_width": null,
            "min_height": null,
            "min_width": null,
            "object_fit": null,
            "object_position": null,
            "order": null,
            "overflow": null,
            "overflow_x": null,
            "overflow_y": null,
            "padding": null,
            "right": null,
            "top": null,
            "visibility": null,
            "width": null
          }
        },
        "158ce4bf4b724f469d97cb142c07a673": {
          "model_module": "@jupyter-widgets/base",
          "model_name": "LayoutModel",
          "model_module_version": "1.2.0",
          "state": {
            "_model_module": "@jupyter-widgets/base",
            "_model_module_version": "1.2.0",
            "_model_name": "LayoutModel",
            "_view_count": null,
            "_view_module": "@jupyter-widgets/base",
            "_view_module_version": "1.2.0",
            "_view_name": "LayoutView",
            "align_content": null,
            "align_items": null,
            "align_self": null,
            "border": null,
            "bottom": null,
            "display": null,
            "flex": null,
            "flex_flow": null,
            "grid_area": null,
            "grid_auto_columns": null,
            "grid_auto_flow": null,
            "grid_auto_rows": null,
            "grid_column": null,
            "grid_gap": null,
            "grid_row": null,
            "grid_template_areas": null,
            "grid_template_columns": null,
            "grid_template_rows": null,
            "height": null,
            "justify_content": null,
            "justify_items": null,
            "left": null,
            "margin": null,
            "max_height": null,
            "max_width": null,
            "min_height": null,
            "min_width": null,
            "object_fit": null,
            "object_position": null,
            "order": null,
            "overflow": null,
            "overflow_x": null,
            "overflow_y": null,
            "padding": null,
            "right": null,
            "top": null,
            "visibility": null,
            "width": null
          }
        },
        "f174dc7673bf4c31919da88293d64ae0": {
          "model_module": "@jupyter-widgets/controls",
          "model_name": "DescriptionStyleModel",
          "model_module_version": "1.5.0",
          "state": {
            "_model_module": "@jupyter-widgets/controls",
            "_model_module_version": "1.5.0",
            "_model_name": "DescriptionStyleModel",
            "_view_count": null,
            "_view_module": "@jupyter-widgets/base",
            "_view_module_version": "1.2.0",
            "_view_name": "StyleView",
            "description_width": ""
          }
        },
        "a984982612af4577ac261259eea3d323": {
          "model_module": "@jupyter-widgets/base",
          "model_name": "LayoutModel",
          "model_module_version": "1.2.0",
          "state": {
            "_model_module": "@jupyter-widgets/base",
            "_model_module_version": "1.2.0",
            "_model_name": "LayoutModel",
            "_view_count": null,
            "_view_module": "@jupyter-widgets/base",
            "_view_module_version": "1.2.0",
            "_view_name": "LayoutView",
            "align_content": null,
            "align_items": null,
            "align_self": null,
            "border": null,
            "bottom": null,
            "display": null,
            "flex": null,
            "flex_flow": null,
            "grid_area": null,
            "grid_auto_columns": null,
            "grid_auto_flow": null,
            "grid_auto_rows": null,
            "grid_column": null,
            "grid_gap": null,
            "grid_row": null,
            "grid_template_areas": null,
            "grid_template_columns": null,
            "grid_template_rows": null,
            "height": null,
            "justify_content": null,
            "justify_items": null,
            "left": null,
            "margin": null,
            "max_height": null,
            "max_width": null,
            "min_height": null,
            "min_width": null,
            "object_fit": null,
            "object_position": null,
            "order": null,
            "overflow": null,
            "overflow_x": null,
            "overflow_y": null,
            "padding": null,
            "right": null,
            "top": null,
            "visibility": null,
            "width": null
          }
        },
        "dcbcb413da3741c886c7ce4f5eb03b45": {
          "model_module": "@jupyter-widgets/controls",
          "model_name": "ProgressStyleModel",
          "model_module_version": "1.5.0",
          "state": {
            "_model_module": "@jupyter-widgets/controls",
            "_model_module_version": "1.5.0",
            "_model_name": "ProgressStyleModel",
            "_view_count": null,
            "_view_module": "@jupyter-widgets/base",
            "_view_module_version": "1.2.0",
            "_view_name": "StyleView",
            "bar_color": null,
            "description_width": ""
          }
        },
        "d7038f4049ff49538eeb3d38753bcfef": {
          "model_module": "@jupyter-widgets/base",
          "model_name": "LayoutModel",
          "model_module_version": "1.2.0",
          "state": {
            "_model_module": "@jupyter-widgets/base",
            "_model_module_version": "1.2.0",
            "_model_name": "LayoutModel",
            "_view_count": null,
            "_view_module": "@jupyter-widgets/base",
            "_view_module_version": "1.2.0",
            "_view_name": "LayoutView",
            "align_content": null,
            "align_items": null,
            "align_self": null,
            "border": null,
            "bottom": null,
            "display": null,
            "flex": null,
            "flex_flow": null,
            "grid_area": null,
            "grid_auto_columns": null,
            "grid_auto_flow": null,
            "grid_auto_rows": null,
            "grid_column": null,
            "grid_gap": null,
            "grid_row": null,
            "grid_template_areas": null,
            "grid_template_columns": null,
            "grid_template_rows": null,
            "height": null,
            "justify_content": null,
            "justify_items": null,
            "left": null,
            "margin": null,
            "max_height": null,
            "max_width": null,
            "min_height": null,
            "min_width": null,
            "object_fit": null,
            "object_position": null,
            "order": null,
            "overflow": null,
            "overflow_x": null,
            "overflow_y": null,
            "padding": null,
            "right": null,
            "top": null,
            "visibility": null,
            "width": null
          }
        },
        "b98704f001e1475b881ba5941e856e85": {
          "model_module": "@jupyter-widgets/controls",
          "model_name": "DescriptionStyleModel",
          "model_module_version": "1.5.0",
          "state": {
            "_model_module": "@jupyter-widgets/controls",
            "_model_module_version": "1.5.0",
            "_model_name": "DescriptionStyleModel",
            "_view_count": null,
            "_view_module": "@jupyter-widgets/base",
            "_view_module_version": "1.2.0",
            "_view_name": "StyleView",
            "description_width": ""
          }
        },
        "6ae1a332026d4ba594744d42a709769e": {
          "model_module": "@jupyter-widgets/controls",
          "model_name": "HBoxModel",
          "model_module_version": "1.5.0",
          "state": {
            "_dom_classes": [],
            "_model_module": "@jupyter-widgets/controls",
            "_model_module_version": "1.5.0",
            "_model_name": "HBoxModel",
            "_view_count": null,
            "_view_module": "@jupyter-widgets/controls",
            "_view_module_version": "1.5.0",
            "_view_name": "HBoxView",
            "box_style": "",
            "children": [
              "IPY_MODEL_2f877354cced49c5a91e3ca31219456e",
              "IPY_MODEL_ac1d100cfeb44ea3be004155ebdda2d4",
              "IPY_MODEL_d8cde8a2290944b2b7cce98002123e54"
            ],
            "layout": "IPY_MODEL_c69fbd4e147e49999ddafd97ca114938"
          }
        },
        "2f877354cced49c5a91e3ca31219456e": {
          "model_module": "@jupyter-widgets/controls",
          "model_name": "HTMLModel",
          "model_module_version": "1.5.0",
          "state": {
            "_dom_classes": [],
            "_model_module": "@jupyter-widgets/controls",
            "_model_module_version": "1.5.0",
            "_model_name": "HTMLModel",
            "_view_count": null,
            "_view_module": "@jupyter-widgets/controls",
            "_view_module_version": "1.5.0",
            "_view_name": "HTMLView",
            "description": "",
            "description_tooltip": null,
            "layout": "IPY_MODEL_df47729d32ea4380ac00e1410e1870d0",
            "placeholder": "​",
            "style": "IPY_MODEL_b14dbd3448f44c41bd67726e54ff0f4c",
            "value": "config.json: 100%"
          }
        },
        "ac1d100cfeb44ea3be004155ebdda2d4": {
          "model_module": "@jupyter-widgets/controls",
          "model_name": "FloatProgressModel",
          "model_module_version": "1.5.0",
          "state": {
            "_dom_classes": [],
            "_model_module": "@jupyter-widgets/controls",
            "_model_module_version": "1.5.0",
            "_model_name": "FloatProgressModel",
            "_view_count": null,
            "_view_module": "@jupyter-widgets/controls",
            "_view_module_version": "1.5.0",
            "_view_name": "ProgressView",
            "bar_style": "success",
            "description": "",
            "description_tooltip": null,
            "layout": "IPY_MODEL_12c8b5cc38e147c7a8111d0cc39fe78b",
            "max": 570,
            "min": 0,
            "orientation": "horizontal",
            "style": "IPY_MODEL_01ca6b85bbb34999914440627a06f997",
            "value": 570
          }
        },
        "d8cde8a2290944b2b7cce98002123e54": {
          "model_module": "@jupyter-widgets/controls",
          "model_name": "HTMLModel",
          "model_module_version": "1.5.0",
          "state": {
            "_dom_classes": [],
            "_model_module": "@jupyter-widgets/controls",
            "_model_module_version": "1.5.0",
            "_model_name": "HTMLModel",
            "_view_count": null,
            "_view_module": "@jupyter-widgets/controls",
            "_view_module_version": "1.5.0",
            "_view_name": "HTMLView",
            "description": "",
            "description_tooltip": null,
            "layout": "IPY_MODEL_eecb9c554f2d42ebb83f4c444f848c29",
            "placeholder": "​",
            "style": "IPY_MODEL_63da8a686f71412da09c0ebcba4ab6dd",
            "value": " 570/570 [00:00&lt;00:00, 32.6kB/s]"
          }
        },
        "c69fbd4e147e49999ddafd97ca114938": {
          "model_module": "@jupyter-widgets/base",
          "model_name": "LayoutModel",
          "model_module_version": "1.2.0",
          "state": {
            "_model_module": "@jupyter-widgets/base",
            "_model_module_version": "1.2.0",
            "_model_name": "LayoutModel",
            "_view_count": null,
            "_view_module": "@jupyter-widgets/base",
            "_view_module_version": "1.2.0",
            "_view_name": "LayoutView",
            "align_content": null,
            "align_items": null,
            "align_self": null,
            "border": null,
            "bottom": null,
            "display": null,
            "flex": null,
            "flex_flow": null,
            "grid_area": null,
            "grid_auto_columns": null,
            "grid_auto_flow": null,
            "grid_auto_rows": null,
            "grid_column": null,
            "grid_gap": null,
            "grid_row": null,
            "grid_template_areas": null,
            "grid_template_columns": null,
            "grid_template_rows": null,
            "height": null,
            "justify_content": null,
            "justify_items": null,
            "left": null,
            "margin": null,
            "max_height": null,
            "max_width": null,
            "min_height": null,
            "min_width": null,
            "object_fit": null,
            "object_position": null,
            "order": null,
            "overflow": null,
            "overflow_x": null,
            "overflow_y": null,
            "padding": null,
            "right": null,
            "top": null,
            "visibility": null,
            "width": null
          }
        },
        "df47729d32ea4380ac00e1410e1870d0": {
          "model_module": "@jupyter-widgets/base",
          "model_name": "LayoutModel",
          "model_module_version": "1.2.0",
          "state": {
            "_model_module": "@jupyter-widgets/base",
            "_model_module_version": "1.2.0",
            "_model_name": "LayoutModel",
            "_view_count": null,
            "_view_module": "@jupyter-widgets/base",
            "_view_module_version": "1.2.0",
            "_view_name": "LayoutView",
            "align_content": null,
            "align_items": null,
            "align_self": null,
            "border": null,
            "bottom": null,
            "display": null,
            "flex": null,
            "flex_flow": null,
            "grid_area": null,
            "grid_auto_columns": null,
            "grid_auto_flow": null,
            "grid_auto_rows": null,
            "grid_column": null,
            "grid_gap": null,
            "grid_row": null,
            "grid_template_areas": null,
            "grid_template_columns": null,
            "grid_template_rows": null,
            "height": null,
            "justify_content": null,
            "justify_items": null,
            "left": null,
            "margin": null,
            "max_height": null,
            "max_width": null,
            "min_height": null,
            "min_width": null,
            "object_fit": null,
            "object_position": null,
            "order": null,
            "overflow": null,
            "overflow_x": null,
            "overflow_y": null,
            "padding": null,
            "right": null,
            "top": null,
            "visibility": null,
            "width": null
          }
        },
        "b14dbd3448f44c41bd67726e54ff0f4c": {
          "model_module": "@jupyter-widgets/controls",
          "model_name": "DescriptionStyleModel",
          "model_module_version": "1.5.0",
          "state": {
            "_model_module": "@jupyter-widgets/controls",
            "_model_module_version": "1.5.0",
            "_model_name": "DescriptionStyleModel",
            "_view_count": null,
            "_view_module": "@jupyter-widgets/base",
            "_view_module_version": "1.2.0",
            "_view_name": "StyleView",
            "description_width": ""
          }
        },
        "12c8b5cc38e147c7a8111d0cc39fe78b": {
          "model_module": "@jupyter-widgets/base",
          "model_name": "LayoutModel",
          "model_module_version": "1.2.0",
          "state": {
            "_model_module": "@jupyter-widgets/base",
            "_model_module_version": "1.2.0",
            "_model_name": "LayoutModel",
            "_view_count": null,
            "_view_module": "@jupyter-widgets/base",
            "_view_module_version": "1.2.0",
            "_view_name": "LayoutView",
            "align_content": null,
            "align_items": null,
            "align_self": null,
            "border": null,
            "bottom": null,
            "display": null,
            "flex": null,
            "flex_flow": null,
            "grid_area": null,
            "grid_auto_columns": null,
            "grid_auto_flow": null,
            "grid_auto_rows": null,
            "grid_column": null,
            "grid_gap": null,
            "grid_row": null,
            "grid_template_areas": null,
            "grid_template_columns": null,
            "grid_template_rows": null,
            "height": null,
            "justify_content": null,
            "justify_items": null,
            "left": null,
            "margin": null,
            "max_height": null,
            "max_width": null,
            "min_height": null,
            "min_width": null,
            "object_fit": null,
            "object_position": null,
            "order": null,
            "overflow": null,
            "overflow_x": null,
            "overflow_y": null,
            "padding": null,
            "right": null,
            "top": null,
            "visibility": null,
            "width": null
          }
        },
        "01ca6b85bbb34999914440627a06f997": {
          "model_module": "@jupyter-widgets/controls",
          "model_name": "ProgressStyleModel",
          "model_module_version": "1.5.0",
          "state": {
            "_model_module": "@jupyter-widgets/controls",
            "_model_module_version": "1.5.0",
            "_model_name": "ProgressStyleModel",
            "_view_count": null,
            "_view_module": "@jupyter-widgets/base",
            "_view_module_version": "1.2.0",
            "_view_name": "StyleView",
            "bar_color": null,
            "description_width": ""
          }
        },
        "eecb9c554f2d42ebb83f4c444f848c29": {
          "model_module": "@jupyter-widgets/base",
          "model_name": "LayoutModel",
          "model_module_version": "1.2.0",
          "state": {
            "_model_module": "@jupyter-widgets/base",
            "_model_module_version": "1.2.0",
            "_model_name": "LayoutModel",
            "_view_count": null,
            "_view_module": "@jupyter-widgets/base",
            "_view_module_version": "1.2.0",
            "_view_name": "LayoutView",
            "align_content": null,
            "align_items": null,
            "align_self": null,
            "border": null,
            "bottom": null,
            "display": null,
            "flex": null,
            "flex_flow": null,
            "grid_area": null,
            "grid_auto_columns": null,
            "grid_auto_flow": null,
            "grid_auto_rows": null,
            "grid_column": null,
            "grid_gap": null,
            "grid_row": null,
            "grid_template_areas": null,
            "grid_template_columns": null,
            "grid_template_rows": null,
            "height": null,
            "justify_content": null,
            "justify_items": null,
            "left": null,
            "margin": null,
            "max_height": null,
            "max_width": null,
            "min_height": null,
            "min_width": null,
            "object_fit": null,
            "object_position": null,
            "order": null,
            "overflow": null,
            "overflow_x": null,
            "overflow_y": null,
            "padding": null,
            "right": null,
            "top": null,
            "visibility": null,
            "width": null
          }
        },
        "63da8a686f71412da09c0ebcba4ab6dd": {
          "model_module": "@jupyter-widgets/controls",
          "model_name": "DescriptionStyleModel",
          "model_module_version": "1.5.0",
          "state": {
            "_model_module": "@jupyter-widgets/controls",
            "_model_module_version": "1.5.0",
            "_model_name": "DescriptionStyleModel",
            "_view_count": null,
            "_view_module": "@jupyter-widgets/base",
            "_view_module_version": "1.2.0",
            "_view_name": "StyleView",
            "description_width": ""
          }
        }
      }
    }
  },
  "nbformat": 4,
  "nbformat_minor": 0
}