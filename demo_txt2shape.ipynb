{
  "cells": [
    {
      "cell_type": "markdown",
      "metadata": {
        "id": "a46PIolBovog"
      },
      "source": [
        "# SDFusion: Text-guided Generation (txt2shape)\n",
        "\n",
        "### TODO: add sample results or teaser images"
      ]
    },
    {
      "cell_type": "code",
      "source": [
        "!git clone https://github.com/ScheznikL/SDFusion.git\n",
        "%cd SDFusion\n",
        "!ls"
      ],
      "metadata": {
        "colab": {
          "base_uri": "https://localhost:8080/"
        },
        "id": "YML3ilOsqZZO",
        "outputId": "11b4d746-1603-4743-ae5a-61cbe18c40c8"
      },
      "execution_count": 1,
      "outputs": [
        {
          "output_type": "stream",
          "name": "stdout",
          "text": [
            "Cloning into 'SDFusion'...\n",
            "remote: Enumerating objects: 1994, done.\u001b[K\n",
            "remote: Counting objects: 100% (52/52), done.\u001b[K\n",
            "remote: Compressing objects: 100% (16/16), done.\u001b[K\n",
            "remote: Total 1994 (delta 42), reused 36 (delta 36), pack-reused 1942 (from 2)\u001b[K\n",
            "Receiving objects: 100% (1994/1994), 36.01 MiB | 9.16 MiB/s, done.\n",
            "Resolving deltas: 100% (826/826), done.\n",
            "Updating files: 100% (2464/2464), done.\n",
            "/content/SDFusion\n",
            "configs\t\t    demo_img2shape.ipynb\t  external   options\t   train.py\n",
            "dataset_info_files  demo_mm2shape.ipynb\t\t  launchers  preprocess    utils\n",
            "datasets\t    demo_txt2shape.ipynb\t  LICENSE    README.md\n",
            "demo_data\t    demo_uncond_shape_comp.ipynb  models     setup_env.sh\n"
          ]
        }
      ]
    },
    {
      "cell_type": "code",
      "execution_count": 2,
      "metadata": {
        "id": "ngTOHKKoovoj"
      },
      "outputs": [],
      "source": [
        "# first set up which gpu to use\n",
        "import os\n",
        "gpu_ids = 0\n",
        "os.environ[\"CUDA_VISIBLE_DEVICES\"] = f\"{gpu_ids}\""
      ]
    },
    {
      "cell_type": "code",
      "source": [
        "#exit()\n",
        "#How to run a Python script in a '.py' file from a Google Colab notebook?\n",
        "from models.base_model import create_model"
      ],
      "metadata": {
        "id": "RH49NE8R1det"
      },
      "execution_count": 4,
      "outputs": []
    },
    {
      "cell_type": "code",
      "source": [
        "!pip install h5py joblib trimesh scipy PyMCubes\n",
        "#pip install --upgrade PyMCubes"
      ],
      "metadata": {
        "colab": {
          "base_uri": "https://localhost:8080/"
        },
        "id": "Whf2UAAO4Ic7",
        "outputId": "a66bae55-7d9e-40c7-9750-5f3a3466e186"
      },
      "execution_count": 3,
      "outputs": [
        {
          "output_type": "stream",
          "name": "stdout",
          "text": [
            "Requirement already satisfied: h5py in /usr/local/lib/python3.11/dist-packages (3.12.1)\n",
            "Requirement already satisfied: joblib in /usr/local/lib/python3.11/dist-packages (1.4.2)\n",
            "Collecting trimesh\n",
            "  Downloading trimesh-4.6.0-py3-none-any.whl.metadata (18 kB)\n",
            "Requirement already satisfied: scipy in /usr/local/lib/python3.11/dist-packages (1.13.1)\n",
            "Collecting PyMCubes\n",
            "  Downloading PyMCubes-0.1.6-cp311-cp311-manylinux_2_17_x86_64.manylinux2014_x86_64.whl.metadata (868 bytes)\n",
            "Requirement already satisfied: numpy>=1.19.3 in /usr/local/lib/python3.11/dist-packages (from h5py) (1.26.4)\n",
            "Downloading trimesh-4.6.0-py3-none-any.whl (706 kB)\n",
            "\u001b[2K   \u001b[90m━━━━━━━━━━━━━━━━━━━━━━━━━━━━━━━━━━━━━━━━\u001b[0m \u001b[32m707.0/707.0 kB\u001b[0m \u001b[31m20.5 MB/s\u001b[0m eta \u001b[36m0:00:00\u001b[0m\n",
            "\u001b[?25hDownloading PyMCubes-0.1.6-cp311-cp311-manylinux_2_17_x86_64.manylinux2014_x86_64.whl (336 kB)\n",
            "\u001b[2K   \u001b[90m━━━━━━━━━━━━━━━━━━━━━━━━━━━━━━━━━━━━━━━━\u001b[0m \u001b[32m336.8/336.8 kB\u001b[0m \u001b[31m27.5 MB/s\u001b[0m eta \u001b[36m0:00:00\u001b[0m\n",
            "\u001b[?25hInstalling collected packages: trimesh, PyMCubes\n",
            "Successfully installed PyMCubes-0.1.6 trimesh-4.6.0\n"
          ]
        }
      ]
    },
    {
      "cell_type": "code",
      "source": [
        "import os\n",
        "import sys\n",
        "import torch\n",
        "need_pytorch3d=False\n",
        "try:\n",
        "    import pytorch3d\n",
        "except ModuleNotFoundError:\n",
        "    need_pytorch3d=True\n",
        "if need_pytorch3d:\n",
        "    if torch.__version__.startswith(\"2.1.\") and sys.platform.startswith(\"linux\"):\n",
        "        # We try to install PyTorch3D via a released wheel.\n",
        "        pyt_version_str=torch.__version__.split(\"+\")[0].replace(\".\", \"\")\n",
        "        version_str=\"\".join([\n",
        "            f\"py3{sys.version_info.minor}_cu\",\n",
        "            torch.version.cuda.replace(\".\",\"\"),\n",
        "            f\"_pyt{pyt_version_str}\"\n",
        "        ])\n",
        "        !pip install fvcore iopath\n",
        "        !pip install --no-index --no-cache-dir pytorch3d -f https://dl.fbaipublicfiles.com/pytorch3d/packaging/wheels/{version_str}/download.html\n",
        "    else:\n",
        "        # We try to install PyTorch3D from source.\n",
        "        !pip install 'git+https://github.com/facebookresearch/pytorch3d.git@stable'"
      ],
      "metadata": {
        "colab": {
          "base_uri": "https://localhost:8080/"
        },
        "id": "RiMDwTPe5ajn",
        "outputId": "19ecd049-6580-41c3-886c-41aff80e0451"
      },
      "execution_count": 5,
      "outputs": [
        {
          "output_type": "stream",
          "name": "stdout",
          "text": [
            "Collecting git+https://github.com/facebookresearch/pytorch3d.git@stable\n",
            "  Cloning https://github.com/facebookresearch/pytorch3d.git (to revision stable) to /tmp/pip-req-build-iztrbv6m\n",
            "  Running command git clone --filter=blob:none --quiet https://github.com/facebookresearch/pytorch3d.git /tmp/pip-req-build-iztrbv6m\n",
            "  Running command git checkout -q 75ebeeaea0908c5527e7b1e305fbc7681382db47\n",
            "  Resolved https://github.com/facebookresearch/pytorch3d.git to commit 75ebeeaea0908c5527e7b1e305fbc7681382db47\n",
            "  Preparing metadata (setup.py) ... \u001b[?25l\u001b[?25hdone\n",
            "Collecting iopath (from pytorch3d==0.7.8)\n",
            "  Downloading iopath-0.1.10.tar.gz (42 kB)\n",
            "\u001b[2K     \u001b[90m━━━━━━━━━━━━━━━━━━━━━━━━━━━━━━━━━━━━━━━━\u001b[0m \u001b[32m42.2/42.2 kB\u001b[0m \u001b[31m4.1 MB/s\u001b[0m eta \u001b[36m0:00:00\u001b[0m\n",
            "\u001b[?25h  Preparing metadata (setup.py) ... \u001b[?25l\u001b[?25hdone\n",
            "Requirement already satisfied: tqdm in /usr/local/lib/python3.11/dist-packages (from iopath->pytorch3d==0.7.8) (4.67.1)\n",
            "Requirement already satisfied: typing_extensions in /usr/local/lib/python3.11/dist-packages (from iopath->pytorch3d==0.7.8) (4.12.2)\n",
            "Collecting portalocker (from iopath->pytorch3d==0.7.8)\n",
            "  Downloading portalocker-3.1.1-py3-none-any.whl.metadata (8.6 kB)\n",
            "Downloading portalocker-3.1.1-py3-none-any.whl (19 kB)\n",
            "Building wheels for collected packages: pytorch3d, iopath\n",
            "  Building wheel for pytorch3d (setup.py) ... \u001b[?25l\u001b[?25hdone\n",
            "  Created wheel for pytorch3d: filename=pytorch3d-0.7.8-cp311-cp311-linux_x86_64.whl size=59891200 sha256=be578a3d81e387ce6363d73c8a7158582cad61cdba7849eb768cdeb9e894a1ff\n",
            "  Stored in directory: /tmp/pip-ephem-wheel-cache-5yi6c056/wheels/08/90/1b/df18c3e3634f86278e793b87f37ea4c58d0c36731196122518\n",
            "  Building wheel for iopath (setup.py) ... \u001b[?25l\u001b[?25hdone\n",
            "  Created wheel for iopath: filename=iopath-0.1.10-py3-none-any.whl size=31528 sha256=59a4da79322644b27d6a38169635fc4311241ecc2322ba93d3d20b1df85fbaec\n",
            "  Stored in directory: /root/.cache/pip/wheels/ba/5e/16/6117f8fe7e9c0c161a795e10d94645ebcf301ccbd01f66d8ec\n",
            "Successfully built pytorch3d iopath\n",
            "Installing collected packages: portalocker, iopath, pytorch3d\n",
            "Successfully installed iopath-0.1.10 portalocker-3.1.1 pytorch3d-0.7.8\n"
          ]
        }
      ]
    },
    {
      "cell_type": "code",
      "execution_count": 6,
      "metadata": {
        "id": "H4rc3dvRovok"
      },
      "outputs": [],
      "source": [
        "# import libraries\n",
        "import numpy as np\n",
        "from IPython.display import Image as ipy_image\n",
        "from IPython.display import display\n",
        "from termcolor import colored, cprint\n",
        "\n",
        "import torch\n",
        "import torch.backends.cudnn as cudnn\n",
        "cudnn.benchmark = True\n",
        "import torchvision.utils as vutils\n",
        "\n",
        "from models.base_model import create_model\n",
        "from utils.util_3d import render_sdf, render_mesh, sdf_to_mesh, save_mesh_as_gif\n",
        "\n",
        "%load_ext autoreload\n",
        "%autoreload 2"
      ]
    },
    {
      "cell_type": "markdown",
      "source": [
        "# New section"
      ],
      "metadata": {
        "id": "hiAWSzGrym7E"
      }
    },
    {
      "cell_type": "code",
      "source": [
        "!pip install omegaconf"
      ],
      "metadata": {
        "colab": {
          "base_uri": "https://localhost:8080/",
          "height": 411
        },
        "id": "nnCrwizmJOFc",
        "outputId": "d8cfa02a-4ed1-4a80-d0fa-8fa9835325e5"
      },
      "execution_count": 7,
      "outputs": [
        {
          "output_type": "stream",
          "name": "stdout",
          "text": [
            "Collecting omegaconf\n",
            "  Downloading omegaconf-2.3.0-py3-none-any.whl.metadata (3.9 kB)\n",
            "Collecting antlr4-python3-runtime==4.9.* (from omegaconf)\n",
            "  Downloading antlr4-python3-runtime-4.9.3.tar.gz (117 kB)\n",
            "\u001b[2K     \u001b[90m━━━━━━━━━━━━━━━━━━━━━━━━━━━━━━━━━━━━━━━━\u001b[0m \u001b[32m117.0/117.0 kB\u001b[0m \u001b[31m7.6 MB/s\u001b[0m eta \u001b[36m0:00:00\u001b[0m\n",
            "\u001b[?25h  Preparing metadata (setup.py) ... \u001b[?25l\u001b[?25hdone\n",
            "Requirement already satisfied: PyYAML>=5.1.0 in /usr/local/lib/python3.11/dist-packages (from omegaconf) (6.0.2)\n",
            "Downloading omegaconf-2.3.0-py3-none-any.whl (79 kB)\n",
            "\u001b[2K   \u001b[90m━━━━━━━━━━━━━━━━━━━━━━━━━━━━━━━━━━━━━━━━\u001b[0m \u001b[32m79.5/79.5 kB\u001b[0m \u001b[31m4.9 MB/s\u001b[0m eta \u001b[36m0:00:00\u001b[0m\n",
            "\u001b[?25hBuilding wheels for collected packages: antlr4-python3-runtime\n",
            "  Building wheel for antlr4-python3-runtime (setup.py) ... \u001b[?25l\u001b[?25hdone\n",
            "  Created wheel for antlr4-python3-runtime: filename=antlr4_python3_runtime-4.9.3-py3-none-any.whl size=144555 sha256=ce32a26f0f296f43584c4c45a3b652959152b79bb7516a2ebe9ad6d8639a8693\n",
            "  Stored in directory: /root/.cache/pip/wheels/1a/97/32/461f837398029ad76911109f07047fde1d7b661a147c7c56d1\n",
            "Successfully built antlr4-python3-runtime\n",
            "Installing collected packages: antlr4-python3-runtime, omegaconf\n",
            "Successfully installed antlr4-python3-runtime-4.9.3 omegaconf-2.3.0\n"
          ]
        },
        {
          "output_type": "display_data",
          "data": {
            "application/vnd.colab-display-data+json": {
              "pip_warning": {
                "packages": [
                  "pydevd_plugins"
                ]
              },
              "id": "a2899473d73043dea4536495e9f4688b"
            }
          },
          "metadata": {}
        }
      ]
    },
    {
      "cell_type": "code",
      "execution_count": 16,
      "metadata": {
        "colab": {
          "base_uri": "https://localhost:8080/"
        },
        "id": "Q5F5K37covom",
        "outputId": "ab164d8e-0fc9-4f71-fa86-e28c1b3db1ba"
      },
      "outputs": [
        {
          "output_type": "stream",
          "name": "stdout",
          "text": [
            "[*] SDFusionText2ShapeOption initialized.\n"
          ]
        }
      ],
      "source": [
        "# @title Seed 2024\n",
        "# options for the model. please check `utils/demo_util.py` for more details\n",
        "from utils.demo_util import SDFusionText2ShapeOpt\n",
        "\n",
        "seed = 2024\n",
        "opt = SDFusionText2ShapeOpt(gpu_ids=gpu_ids, seed=seed)\n",
        "device = opt.device"
      ]
    },
    {
      "cell_type": "code",
      "source": [
        "!mkdir saved_ckpt"
      ],
      "metadata": {
        "id": "FO-FyCz4J6mO"
      },
      "execution_count": 9,
      "outputs": []
    },
    {
      "cell_type": "code",
      "source": [
        "# SDFusion: text-guided shape generation (txt2shape)\n",
        "!wget https://uofi.box.com/shared/static/vyqs6aex3rwbgxweyl3qh21c8p6vu33f.pth -O saved_ckpt/sdfusion-txt2shape.pth\n",
        "# VQVAE's checkpoint\n",
        "!wget https://uofi.box.com/shared/static/zdb9pm9wmxaupzclc7m8gzluj20ja0b6.pth -O saved_ckpt/vqvae-snet-all.pth"
      ],
      "metadata": {
        "colab": {
          "base_uri": "https://localhost:8080/"
        },
        "id": "RB_TIaXOJw7S",
        "outputId": "b1fe23ab-4e6c-4d23-fe65-b922953e26e4"
      },
      "execution_count": 10,
      "outputs": [
        {
          "output_type": "stream",
          "name": "stdout",
          "text": [
            "--2025-01-29 01:10:28--  https://uofi.box.com/shared/static/vyqs6aex3rwbgxweyl3qh21c8p6vu33f.pth\n",
            "Resolving uofi.box.com (uofi.box.com)... 74.112.186.157, 2620:117:bff0:12d::\n",
            "Connecting to uofi.box.com (uofi.box.com)|74.112.186.157|:443... connected.\n",
            "HTTP request sent, awaiting response... 301 Moved Permanently\n",
            "Location: /public/static/vyqs6aex3rwbgxweyl3qh21c8p6vu33f.pth [following]\n",
            "--2025-01-29 01:10:28--  https://uofi.box.com/public/static/vyqs6aex3rwbgxweyl3qh21c8p6vu33f.pth\n",
            "Reusing existing connection to uofi.box.com:443.\n",
            "HTTP request sent, awaiting response... 301 Moved Permanently\n",
            "Location: https://uofi.app.box.com/public/static/vyqs6aex3rwbgxweyl3qh21c8p6vu33f.pth [following]\n",
            "--2025-01-29 01:10:29--  https://uofi.app.box.com/public/static/vyqs6aex3rwbgxweyl3qh21c8p6vu33f.pth\n",
            "Resolving uofi.app.box.com (uofi.app.box.com)... 74.112.186.157, 2620:117:bff0:12d::\n",
            "Connecting to uofi.app.box.com (uofi.app.box.com)|74.112.186.157|:443... connected.\n",
            "HTTP request sent, awaiting response... 302 Found\n",
            "Location: https://public.boxcloud.com/d/1/b1!cf_W5F8iCJtDxBswHfcqDjU7K1LUiWSFJ5RivVbWykyhjCpNlt8A26zqigKNbiCKLj_fsDq667xrfR5wuJewZDpBMXTw1fBqQ6BXjQU0Ih5KAnMGDSbUO2LKT1u5uTydbBX2uGXEoDkFE8ngn69YKAzfyIxN6uCiypR5vD3BlXzObawFrnPun2lMHn4yPlfqGa9fn6mOt3jnhrnU51Mgtg_RiUc8DZN2oVJrQLDcMTfsOrT67gTjzD7bUjc3g_OuTcYrx3sRdUxWd7bMUD3L7Qk4hAbtVNDKBn-RICdNbEb9hJuFPJVuMPtSoIa0isLo7Gn6LACQVvLf5GhZCQUn3kDV7L-cmpRm8FKIABSZ2pp9STUkLZPgfBRkCQdsJ1qsJsm9i7NEb3tth04g_23MEfQzqgtqZ5XDGcJy455GG7Veo9D5aVgiZsfiXnLjBGVCvhJEp7mGWKijBH-mFb_agtDfO2C1i-xnfUxxqo1HFtGMVM432lojJMQj3Uuddo9rlDp_sM6o2kewhFUm0SOmjF80ial1B4exceGzvi-EGuPt2OkAzblZzs1l4N2YefJrAK_VjCaPj9H5b1otIIBNj97VMdt5M-7a1HnyvMbcdBnzy3tBOkuKXUie-SshiNB46i316JMCuMWC20ol4RGPvVQUpT0MFk-4WkESU4JQ9QDYtNy3BLctdXm2--7PDTqQ2pN5wiLF0a1Snh4n6atSewUZhDLkhTqvTFp_XOzzPp2dOnYsljLumPHoHn1tJp3Nv9Lcw58QLDdJbsk2gwa8t20Vw5hQxER-tadwwCL6y82bGyQytvqLn8dM2s3xKoBkXU7jfiCTAxK3phKXnGSI4fKA0ODOrmyMHap6SKPP4p19zYDMNEt-Mu3COgNSMTlnwbgaQfWcF12CW3iYtOZXKifQYrpfPXS2XVTHBaITmhXkOBcIVoH5RCOh80x0x9T0wqv4yjcJ9WKfiDaGifKUIEfNfpwAE3cotWe9RPBB0tLpEWro6jSMqFfioiz38r5_KUKwT0smqQHIe-obF3TA5fzI3ecNgnXxpc7cbqvEdkoqJJ9qbjhyai0W2mS26X-SIE9Uoy8_UB6qSFH1NOk9VQMYtuLmsuf5ZD9yvOSBnRIULlMQAtimkInsVuMTmvSBKzg9UR1REKD-mtZPC-q00linLd5RWdv7OpL2Y08DCzLvV8ZCdREy9wrFU5whpQa-gNu2CXrFhrB_1MQOKXQQW19BI-pysmGPEBN9kqCD18jjYlE06BieNFL99qzJdGYPSNoRy7LA10dEsY3LfpgN9-2oCpRI0qQ0RCkxFEt5gy8xjx74IbHF4sCTn8jNx21sE7d2ggE-7n1rgfgra3YYSSHLb4pqfmz9V-RvTgaGE38HjAQPf0tju8dIvtcCIS9YYlBclocA1cFipoVfhnqJhg1HnDpKGFlqLtrRoFhXAnqkzMW3PxIF539_v6vYd6-v-qX7kb_xLXEAe2hBkazMA4oCaW1z5SEDMdeghTuo-PDjL6cvWjt1IAjU9yGkWL-NfKQ./download [following]\n",
            "--2025-01-29 01:10:31--  https://public.boxcloud.com/d/1/b1!cf_W5F8iCJtDxBswHfcqDjU7K1LUiWSFJ5RivVbWykyhjCpNlt8A26zqigKNbiCKLj_fsDq667xrfR5wuJewZDpBMXTw1fBqQ6BXjQU0Ih5KAnMGDSbUO2LKT1u5uTydbBX2uGXEoDkFE8ngn69YKAzfyIxN6uCiypR5vD3BlXzObawFrnPun2lMHn4yPlfqGa9fn6mOt3jnhrnU51Mgtg_RiUc8DZN2oVJrQLDcMTfsOrT67gTjzD7bUjc3g_OuTcYrx3sRdUxWd7bMUD3L7Qk4hAbtVNDKBn-RICdNbEb9hJuFPJVuMPtSoIa0isLo7Gn6LACQVvLf5GhZCQUn3kDV7L-cmpRm8FKIABSZ2pp9STUkLZPgfBRkCQdsJ1qsJsm9i7NEb3tth04g_23MEfQzqgtqZ5XDGcJy455GG7Veo9D5aVgiZsfiXnLjBGVCvhJEp7mGWKijBH-mFb_agtDfO2C1i-xnfUxxqo1HFtGMVM432lojJMQj3Uuddo9rlDp_sM6o2kewhFUm0SOmjF80ial1B4exceGzvi-EGuPt2OkAzblZzs1l4N2YefJrAK_VjCaPj9H5b1otIIBNj97VMdt5M-7a1HnyvMbcdBnzy3tBOkuKXUie-SshiNB46i316JMCuMWC20ol4RGPvVQUpT0MFk-4WkESU4JQ9QDYtNy3BLctdXm2--7PDTqQ2pN5wiLF0a1Snh4n6atSewUZhDLkhTqvTFp_XOzzPp2dOnYsljLumPHoHn1tJp3Nv9Lcw58QLDdJbsk2gwa8t20Vw5hQxER-tadwwCL6y82bGyQytvqLn8dM2s3xKoBkXU7jfiCTAxK3phKXnGSI4fKA0ODOrmyMHap6SKPP4p19zYDMNEt-Mu3COgNSMTlnwbgaQfWcF12CW3iYtOZXKifQYrpfPXS2XVTHBaITmhXkOBcIVoH5RCOh80x0x9T0wqv4yjcJ9WKfiDaGifKUIEfNfpwAE3cotWe9RPBB0tLpEWro6jSMqFfioiz38r5_KUKwT0smqQHIe-obF3TA5fzI3ecNgnXxpc7cbqvEdkoqJJ9qbjhyai0W2mS26X-SIE9Uoy8_UB6qSFH1NOk9VQMYtuLmsuf5ZD9yvOSBnRIULlMQAtimkInsVuMTmvSBKzg9UR1REKD-mtZPC-q00linLd5RWdv7OpL2Y08DCzLvV8ZCdREy9wrFU5whpQa-gNu2CXrFhrB_1MQOKXQQW19BI-pysmGPEBN9kqCD18jjYlE06BieNFL99qzJdGYPSNoRy7LA10dEsY3LfpgN9-2oCpRI0qQ0RCkxFEt5gy8xjx74IbHF4sCTn8jNx21sE7d2ggE-7n1rgfgra3YYSSHLb4pqfmz9V-RvTgaGE38HjAQPf0tju8dIvtcCIS9YYlBclocA1cFipoVfhnqJhg1HnDpKGFlqLtrRoFhXAnqkzMW3PxIF539_v6vYd6-v-qX7kb_xLXEAe2hBkazMA4oCaW1z5SEDMdeghTuo-PDjL6cvWjt1IAjU9yGkWL-NfKQ./download\n",
            "Resolving public.boxcloud.com (public.boxcloud.com)... 74.112.186.164, 2620:117:bff0:e2::\n",
            "Connecting to public.boxcloud.com (public.boxcloud.com)|74.112.186.164|:443... connected.\n",
            "HTTP request sent, awaiting response... 200 OK\n",
            "Length: 4087970878 (3.8G) [application/octet-stream]\n",
            "Saving to: ‘saved_ckpt/sdfusion-txt2shape.pth’\n",
            "\n",
            "saved_ckpt/sdfusion 100%[===================>]   3.81G  25.2MB/s    in 2m 38s  \n",
            "\n",
            "2025-01-29 01:13:09 (24.7 MB/s) - ‘saved_ckpt/sdfusion-txt2shape.pth’ saved [4087970878/4087970878]\n",
            "\n",
            "--2025-01-29 01:13:10--  https://uofi.box.com/shared/static/zdb9pm9wmxaupzclc7m8gzluj20ja0b6.pth\n",
            "Resolving uofi.box.com (uofi.box.com)... 74.112.186.157, 2620:117:bff0:12d::\n",
            "Connecting to uofi.box.com (uofi.box.com)|74.112.186.157|:443... connected.\n",
            "HTTP request sent, awaiting response... 301 Moved Permanently\n",
            "Location: /public/static/zdb9pm9wmxaupzclc7m8gzluj20ja0b6.pth [following]\n",
            "--2025-01-29 01:13:10--  https://uofi.box.com/public/static/zdb9pm9wmxaupzclc7m8gzluj20ja0b6.pth\n",
            "Reusing existing connection to uofi.box.com:443.\n",
            "HTTP request sent, awaiting response... 301 Moved Permanently\n",
            "Location: https://uofi.app.box.com/public/static/zdb9pm9wmxaupzclc7m8gzluj20ja0b6.pth [following]\n",
            "--2025-01-29 01:13:11--  https://uofi.app.box.com/public/static/zdb9pm9wmxaupzclc7m8gzluj20ja0b6.pth\n",
            "Resolving uofi.app.box.com (uofi.app.box.com)... 74.112.186.157, 2620:117:bff0:12d::\n",
            "Connecting to uofi.app.box.com (uofi.app.box.com)|74.112.186.157|:443... connected.\n",
            "HTTP request sent, awaiting response... 302 Found\n",
            "Location: https://public.boxcloud.com/d/1/b1!c5W84lJri4eqt9M93KlKsh2-7s_lurWQEb2x7NSSiMeUJEOP8otQPtMhivJu5g7Gm6Jam18tpwJFxZ4tG4ccZrZZz7SxqG-C9FyS-M_hXY3vxx3WRK_4il8KnYsQi9aqPnsu1PsYCUjboC8mrrYd_rHyWGoboCCQRB4fXm2uG_p3o7jUV0_P2LigzxD7H6P5ZY9LSM5b6Ns_ORJuZMZ-deUSTXXfdnlNebe6YqOlsCud0jGQvuSaoeEZQi6JXfBklfoY8O6GEtW4-BGoQDwc8JLE4k6W2INKg1o25YqJrOy-zTz3X1J3YGXZaNIyqBJkmqgQOa7gGbfYw5jxPxrprdDG43Ob0bMV_H0M4WdkE8m1TTV0ywF-A36cePbfJy9L5i3kk53caPysUlbf3ah2LMMuvnUL-V7ZtgfFfEXDL9xADZJOocJtOlrSh1RQ-kn5LRiPvJZ6EIIfmNy6rSlrjRpJsQoDjen_0kEqC4TIIHNXnTLvC_V3F2EYXNXfwt0wIQPCjqypeiw15Jaz4Dc8RwxJqRvk1Xl_8rXufQn6Quohvg76qAdPGncFtOINHb3M-9nSm_6wPwUYUWelhTuvmIfoV7Z6nYngjOqBtFwY__ztd_uZz0hYeD2q3bR_KhWeIDhlLUWMQ1mfxqGzTVpzVFl52rGT-nzLBHzFKDr5O6KwWHn0BMz8_m_53xWQJR0VeRj_hjdvDQ4Siah4L_-3Ny-hGkVFlScxgUxZ_TcEwm6gCf8xuU7URWnyRsfAIraEcBAfO3uXe6ehv7LhEgWm13csDjksuVEW9npxOmrxVGwvEvCgcHKP3VH_uV5_UDf5mCE2lhcgxDw-GS8YDW6B4O7GwQy3-7zjkcgjIPgsttgiTqtT1vSFfGM-tdv2ZAdHFZdaOHmzHJMmg2ksjQoDxkE53VDuTREZrkj4JbAdRokquAub3szldtCasKTBwPDfuUynrophRvRMTLPGNVGoURXM-uSaKfRsmYwD5mfzjr6Bi79eboufF4b_IBfJq0t9DY8FEdboBvl2LX1hkF4LmjfXaXIkimf9G5G8HAq8JFIdxn00gubjJhdtTjysqm8M546LpgUvCyk-NYmy2MLhf2SH-_zxchfkBvPhdDMXo-MWICNV8d8kFq5wew_FRTLuk51i69U3vNQYvMWEoqMNI6KO9Qv-gPEyyiEOPfjthnoxCH9dvSWsCxNp6OL0NFpYyMocRGK79TNPlKEhdxo3l47E39azexvfJSrCV6qfay_Jm6-71s5CFq2wQdybV4a6Z7D1KakjcXJwh9ZXwuHs_XcMpeN7NgvGfuSYLrVc1J1BrsuQyNAzbezN66kjWqSm3BYf5XTqtOJOkgIzwbAT2Ligj_2nmtB7EjBuu-kH1OzNtf0tInPicnaJlmeLSru39YYym-MjfdhUa8aXW8T-oO5qay1WdMNT0BDJ8e-w25S_y2q31K2JeRH93VUvp9IhBCSunvAUM1_1GH06Ko53cmQvAswYmQ_UUXWV2dXbMsLsx5soShVMBIiX14sijx0Er7rrR1w0g7yOgcpoNs3bes7pDfIlBC_1p-RM-4ds5jsk/download [following]\n",
            "--2025-01-29 01:13:12--  https://public.boxcloud.com/d/1/b1!c5W84lJri4eqt9M93KlKsh2-7s_lurWQEb2x7NSSiMeUJEOP8otQPtMhivJu5g7Gm6Jam18tpwJFxZ4tG4ccZrZZz7SxqG-C9FyS-M_hXY3vxx3WRK_4il8KnYsQi9aqPnsu1PsYCUjboC8mrrYd_rHyWGoboCCQRB4fXm2uG_p3o7jUV0_P2LigzxD7H6P5ZY9LSM5b6Ns_ORJuZMZ-deUSTXXfdnlNebe6YqOlsCud0jGQvuSaoeEZQi6JXfBklfoY8O6GEtW4-BGoQDwc8JLE4k6W2INKg1o25YqJrOy-zTz3X1J3YGXZaNIyqBJkmqgQOa7gGbfYw5jxPxrprdDG43Ob0bMV_H0M4WdkE8m1TTV0ywF-A36cePbfJy9L5i3kk53caPysUlbf3ah2LMMuvnUL-V7ZtgfFfEXDL9xADZJOocJtOlrSh1RQ-kn5LRiPvJZ6EIIfmNy6rSlrjRpJsQoDjen_0kEqC4TIIHNXnTLvC_V3F2EYXNXfwt0wIQPCjqypeiw15Jaz4Dc8RwxJqRvk1Xl_8rXufQn6Quohvg76qAdPGncFtOINHb3M-9nSm_6wPwUYUWelhTuvmIfoV7Z6nYngjOqBtFwY__ztd_uZz0hYeD2q3bR_KhWeIDhlLUWMQ1mfxqGzTVpzVFl52rGT-nzLBHzFKDr5O6KwWHn0BMz8_m_53xWQJR0VeRj_hjdvDQ4Siah4L_-3Ny-hGkVFlScxgUxZ_TcEwm6gCf8xuU7URWnyRsfAIraEcBAfO3uXe6ehv7LhEgWm13csDjksuVEW9npxOmrxVGwvEvCgcHKP3VH_uV5_UDf5mCE2lhcgxDw-GS8YDW6B4O7GwQy3-7zjkcgjIPgsttgiTqtT1vSFfGM-tdv2ZAdHFZdaOHmzHJMmg2ksjQoDxkE53VDuTREZrkj4JbAdRokquAub3szldtCasKTBwPDfuUynrophRvRMTLPGNVGoURXM-uSaKfRsmYwD5mfzjr6Bi79eboufF4b_IBfJq0t9DY8FEdboBvl2LX1hkF4LmjfXaXIkimf9G5G8HAq8JFIdxn00gubjJhdtTjysqm8M546LpgUvCyk-NYmy2MLhf2SH-_zxchfkBvPhdDMXo-MWICNV8d8kFq5wew_FRTLuk51i69U3vNQYvMWEoqMNI6KO9Qv-gPEyyiEOPfjthnoxCH9dvSWsCxNp6OL0NFpYyMocRGK79TNPlKEhdxo3l47E39azexvfJSrCV6qfay_Jm6-71s5CFq2wQdybV4a6Z7D1KakjcXJwh9ZXwuHs_XcMpeN7NgvGfuSYLrVc1J1BrsuQyNAzbezN66kjWqSm3BYf5XTqtOJOkgIzwbAT2Ligj_2nmtB7EjBuu-kH1OzNtf0tInPicnaJlmeLSru39YYym-MjfdhUa8aXW8T-oO5qay1WdMNT0BDJ8e-w25S_y2q31K2JeRH93VUvp9IhBCSunvAUM1_1GH06Ko53cmQvAswYmQ_UUXWV2dXbMsLsx5soShVMBIiX14sijx0Er7rrR1w0g7yOgcpoNs3bes7pDfIlBC_1p-RM-4ds5jsk/download\n",
            "Resolving public.boxcloud.com (public.boxcloud.com)... 74.112.186.164, 2620:117:bff0:e2::\n",
            "Connecting to public.boxcloud.com (public.boxcloud.com)|74.112.186.164|:443... connected.\n",
            "HTTP request sent, awaiting response... 200 OK\n",
            "Length: 105444855 (101M) [application/octet-stream]\n",
            "Saving to: ‘saved_ckpt/vqvae-snet-all.pth’\n",
            "\n",
            "saved_ckpt/vqvae-sn 100%[===================>] 100.56M  24.4MB/s    in 4.9s    \n",
            "\n",
            "2025-01-29 01:13:18 (20.7 MB/s) - ‘saved_ckpt/vqvae-snet-all.pth’ saved [105444855/105444855]\n",
            "\n"
          ]
        }
      ]
    },
    {
      "cell_type": "code",
      "execution_count": null,
      "metadata": {
        "colab": {
          "base_uri": "https://localhost:8080/"
        },
        "id": "YE1vp0Owovon",
        "outputId": "761e3f3c-683a-45a5-bb19-b70e99474f8c"
      },
      "outputs": [
        {
          "output_type": "stream",
          "name": "stdout",
          "text": [
            "Working with z of shape (1, 3, 16, 16, 16) = 12288 dimensions.\n"
          ]
        },
        {
          "output_type": "stream",
          "name": "stderr",
          "text": [
            "/content/SDFusion/models/model_utils.py:21: FutureWarning: You are using `torch.load` with `weights_only=False` (the current default value), which uses the default pickle module implicitly. It is possible to construct malicious pickle data which will execute arbitrary code during unpickling (See https://github.com/pytorch/pytorch/blob/main/SECURITY.md#untrusted-models for more details). In a future release, the default value for `weights_only` will be flipped to `True`. This limits the functions that could be executed during unpickling. Arbitrary objects will no longer be allowed to be loaded via this mode unless they are explicitly allowlisted by the user via `torch.serialization.add_safe_globals`. We recommend you start setting `weights_only=True` for any use case where you don't have full control of the loaded file. Please open an issue on GitHub for any issues related to this experimental feature.\n",
            "  state_dict = torch.load(vq_ckpt, map_location=map_fn)\n"
          ]
        },
        {
          "output_type": "stream",
          "name": "stdout",
          "text": [
            "[*] VQVAE: weight successfully load from: saved_ckpt/vqvae-snet-all.pth\n"
          ]
        },
        {
          "output_type": "stream",
          "name": "stderr",
          "text": [
            "/content/SDFusion/models/sdfusion_txt2shape_model.py:567: FutureWarning: You are using `torch.load` with `weights_only=False` (the current default value), which uses the default pickle module implicitly. It is possible to construct malicious pickle data which will execute arbitrary code during unpickling (See https://github.com/pytorch/pytorch/blob/main/SECURITY.md#untrusted-models for more details). In a future release, the default value for `weights_only` will be flipped to `True`. This limits the functions that could be executed during unpickling. Arbitrary objects will no longer be allowed to be loaded via this mode unless they are explicitly allowlisted by the user via `torch.serialization.add_safe_globals`. We recommend you start setting `weights_only=True` for any use case where you don't have full control of the loaded file. Please open an issue on GitHub for any issues related to this experimental feature.\n",
            "  state_dict = torch.load(ckpt, map_location=map_fn)\n"
          ]
        }
      ],
      "source": [
        "#@title initialize SDFusion model\n",
        "ckpt_path = 'saved_ckpt/sdfusion-txt2shape.pth'\n",
        "opt.init_model_args(ckpt_path=ckpt_path)\n",
        "\n",
        "SDFusion = create_model(opt)\n",
        "cprint(f'[*] \"{SDFusion.name()}\" loaded.', 'cyan')"
      ]
    },
    {
      "cell_type": "markdown",
      "metadata": {
        "id": "IeqFgJDoovon"
      },
      "source": [
        "## SDFusion: text-guided generation (txt2shape)"
      ]
    },
    {
      "cell_type": "code",
      "execution_count": 13,
      "metadata": {
        "colab": {
          "base_uri": "https://localhost:8080/",
          "height": 157
        },
        "id": "tGnRcZk0ovon",
        "outputId": "412536e9-ce1b-4431-b7a3-2fedbfbf2866"
      },
      "outputs": [
        {
          "output_type": "stream",
          "name": "stdout",
          "text": [
            "2025-01-29 01:17:03.736793: Starting txt2shape generation\n",
            "Data shape for DDIM sampling is (1, 3, 16, 16, 16), eta 0.0\n",
            "Running DDIM Sampling with 100 timesteps\n"
          ]
        },
        {
          "output_type": "stream",
          "name": "stderr",
          "text": [
            "DDIM Sampler: 100%|██████████| 100/100 [01:09<00:00,  1.43it/s]\n"
          ]
        },
        {
          "output_type": "stream",
          "name": "stdout",
          "text": [
            "2025-01-29 01:18:29.216799: Completed sdf_to_mesh\n"
          ]
        },
        {
          "output_type": "execute_result",
          "data": {
            "text/plain": [
              "'# Save meshes to .obj and/or .ply\\nfor i, mesh in enumerate(mesh_gen):\\n    verts, faces = mesh.verts_packed(), mesh.faces_packed()\\n    # Save to .obj format\\n    obj_path = f\"{out_dir}/shape_{i}_{input_txt.replace(\\' \\', \\'_\\')}.obj\"\\n    save_obj(obj_path, verts, faces)\\n    print(f\"Saved OBJ to {obj_path}\")'"
            ],
            "application/vnd.google.colaboratory.intrinsic+json": {
              "type": "string"
            }
          },
          "metadata": {},
          "execution_count": 13
        }
      ],
      "source": [
        "import os\n",
        "from datetime import datetime\n",
        "\n",
        "# txt2shape\n",
        "out_dir = 'demo_results'\n",
        "if not os.path.exists(out_dir): os.makedirs(out_dir)\n",
        "\n",
        "# change the input text here to generate different chairs/tables!\n",
        "input_txt_old = \"A round red color chair with four legs 0.5 meters in length each\"\n",
        "input_txt = \"Generate a chair with four legs of 0.53 meters in length, a round seat cushion with a radius of 1/2 of leg length, and a slat back with gaps of 0.11 meters.\"\n",
        "\n",
        "ngen = 1 # number of generated shapes\n",
        "ddim_steps = 100\n",
        "ddim_eta = 0.\n",
        "uc_scale = 3.\n",
        "# Log start time\n",
        "start_time = datetime.now()\n",
        "print(f\"{start_time}: Starting txt2shape generation\")\n",
        "\n",
        "sdf_gen = SDFusion.txt2shape(input_txt=input_txt, ngen=ngen, ddim_steps=ddim_steps, ddim_eta=ddim_eta, uc_scale=uc_scale)\n",
        "\n",
        "# Log after sdf_to_mesh generation\n",
        "end_time = datetime.now()\n",
        "print(f\"{end_time}: Completed sdf_to_mesh\")\n",
        "\n",
        "mesh_gen = sdf_to_mesh(sdf_gen)\n",
        "\n",
        "'''# Save meshes to .obj and/or .ply\n",
        "for i, mesh in enumerate(mesh_gen):\n",
        "    verts, faces = mesh.verts_packed(), mesh.faces_packed()\n",
        "    # Save to .obj format\n",
        "    obj_path = f\"{out_dir}/shape_{i}_{input_txt.replace(' ', '_')}.obj\"\n",
        "    save_obj(obj_path, verts, faces)\n",
        "    print(f\"Saved OBJ to {obj_path}\")'''\n",
        "\n",
        "# vis as gif\n",
        "#gen_name = f'{out_dir}/txt2shape-{input_txt}.gif'\n",
        "#save_mesh_as_gif(SDFusion.renderer, mesh_gen, nrow=3, out_name=gen_name)\n",
        "\n",
        "#print(f'Input: \"{input_txt}\"')\n",
        "#for name in [gen_name]:\n",
        "#    display(ipy_image(name))"
      ]
    },
    {
      "cell_type": "code",
      "source": [
        "#@title save Mesh\n",
        "#from pytorch3d.io import save_mesh\n",
        "from pathlib import Path\n",
        "from pytorch3d.io import IO\n",
        "\n",
        "out_dir = 'demo_results'\n",
        "\n",
        "for i, mesh in enumerate(mesh_gen):\n",
        "  #mesh.textures.faces_verts_textures_packed()\n",
        "\n",
        "    mesh_path = Path(out_dir) / f\"NEWshape_{i}_{input_txt.split(maxsplit=1)[0]}.ply\"\n",
        "    IO().save_mesh(mesh, mesh_path,include_textures=True) #binary=False, colors_as_uint8=True\n",
        "\n",
        "# Directory for saving meshes\n",
        "#out_dir = 'demo_results'\n",
        "#Path(out_dir).mkdir(parents=True, exist_ok=True)\n",
        "\n",
        "# Iterate through generated meshes and save each one\n",
        "'''for i, mesh in enumerate(mesh_gen):\n",
        "    # Ensure the mesh has only one element\n",
        "    #mesh = mesh.extend(1)  # Create a single-element Meshes object\n",
        "\n",
        "    # Define the output path\n",
        "\n",
        "\n",
        "    # Save the mesh with textures included\n",
        "    save_mesh(mesh, mesh_path, binary=True, include_textures=True)\n",
        "    print(f\"Saved mesh to {mesh_path}\")'''"
      ],
      "metadata": {
        "colab": {
          "base_uri": "https://localhost:8080/",
          "height": 70
        },
        "id": "LelV0_kc6dvB",
        "outputId": "4cbe5e3a-9002-469b-86dc-9303398e3b2f"
      },
      "execution_count": 15,
      "outputs": [
        {
          "output_type": "execute_result",
          "data": {
            "text/plain": [
              "'for i, mesh in enumerate(mesh_gen):\\n    # Ensure the mesh has only one element\\n    #mesh = mesh.extend(1)  # Create a single-element Meshes object\\n\\n    # Define the output path\\n\\n\\n    # Save the mesh with textures included\\n    save_mesh(mesh, mesh_path, binary=True, include_textures=True)\\n    print(f\"Saved mesh to {mesh_path}\")'"
            ],
            "application/vnd.google.colaboratory.intrinsic+json": {
              "type": "string"
            }
          },
          "metadata": {},
          "execution_count": 15
        }
      ]
    },
    {
      "cell_type": "code",
      "source": [
        "import os\n",
        "import torch\n",
        "import matplotlib.pyplot as plt\n",
        "'''\n",
        "# Util function for loading meshes\n",
        "from pytorch3d.io import load_objs_as_meshes, load_obj\n",
        "\n",
        "# Data structures and functions for rendering\n",
        "from pytorch3d.structures import Meshes\n",
        "from pytorch3d.vis.plotly_vis import AxisArgs, plot_batch_individually, plot_scene\n",
        "from pytorch3d.vis.texture_vis import texturesuv_image_matplotlib\n",
        "from pytorch3d.renderer import (\n",
        "    look_at_view_transform,\n",
        "    FoVPerspectiveCameras,\n",
        "    PointLights,\n",
        "    DirectionalLights,\n",
        "    Materials,\n",
        "    RasterizationSettings,\n",
        "    MeshRenderer,\n",
        "    MeshRasterizer,\n",
        "    SoftPhongShader,\n",
        "    TexturesUV,\n",
        "    TexturesVertex\n",
        ")\n",
        "'''\n"
      ],
      "metadata": {
        "colab": {
          "base_uri": "https://localhost:8080/",
          "height": 105
        },
        "id": "463EMJah__kC",
        "outputId": "3ef0216a-2bea-498b-bae4-8e974af1a664"
      },
      "execution_count": null,
      "outputs": [
        {
          "output_type": "execute_result",
          "data": {
            "text/plain": [
              "'\\n# Util function for loading meshes\\nfrom pytorch3d.io import load_objs_as_meshes, load_obj\\n\\n# Data structures and functions for rendering\\nfrom pytorch3d.structures import Meshes\\nfrom pytorch3d.vis.plotly_vis import AxisArgs, plot_batch_individually, plot_scene\\nfrom pytorch3d.vis.texture_vis import texturesuv_image_matplotlib\\nfrom pytorch3d.renderer import (\\n    look_at_view_transform,\\n    FoVPerspectiveCameras, \\n    PointLights, \\n    DirectionalLights, \\n    Materials, \\n    RasterizationSettings, \\n    MeshRenderer, \\n    MeshRasterizer,  \\n    SoftPhongShader,\\n    TexturesUV,\\n    TexturesVertex\\n)\\n'"
            ],
            "application/vnd.google.colaboratory.intrinsic+json": {
              "type": "string"
            }
          },
          "metadata": {},
          "execution_count": 16
        }
      ]
    },
    {
      "cell_type": "code",
      "source": [
        "'''!wget https://raw.githubusercontent.com/facebookresearch/pytorch3d/main/docs/tutorials/utils/plot_image_grid.py\n",
        "from plot_image_grid import image_grid'''"
      ],
      "metadata": {
        "colab": {
          "base_uri": "https://localhost:8080/"
        },
        "id": "dqvQf26v_1lF",
        "outputId": "657fa8ea-427b-4964-d76b-766b47d54876"
      },
      "execution_count": null,
      "outputs": [
        {
          "output_type": "stream",
          "name": "stdout",
          "text": [
            "--2025-01-06 00:25:21--  https://raw.githubusercontent.com/facebookresearch/pytorch3d/main/docs/tutorials/utils/plot_image_grid.py\n",
            "Resolving raw.githubusercontent.com (raw.githubusercontent.com)... 185.199.108.133, 185.199.109.133, 185.199.110.133, ...\n",
            "Connecting to raw.githubusercontent.com (raw.githubusercontent.com)|185.199.108.133|:443... connected.\n",
            "HTTP request sent, awaiting response... 200 OK\n",
            "Length: 1608 (1.6K) [text/plain]\n",
            "Saving to: ‘plot_image_grid.py’\n",
            "\n",
            "plot_image_grid.py  100%[===================>]   1.57K  --.-KB/s    in 0s      \n",
            "\n",
            "2025-01-06 00:25:21 (29.3 MB/s) - ‘plot_image_grid.py’ saved [1608/1608]\n",
            "\n"
          ]
        }
      ]
    },
    {
      "cell_type": "code",
      "source": [
        "'''from pytorch3d.io import save_ply\n",
        "\n",
        "verts = mesh_gen.verts_packed()\n",
        "faces = mesh_gen.faces_packed()\n",
        "verts_rgb = mesh_gen.textures.verts_features_packed()\n",
        "\n",
        "# Save to PLY\n",
        "ply_path = Path(out_dir) / \"textured_mesh.ply\"\n",
        "save_ply(ply_path, verts, faces)\n",
        "print(f\"Saved PLY with vertex colors to {ply_path}\")'''"
      ],
      "metadata": {
        "colab": {
          "base_uri": "https://localhost:8080/",
          "height": 211
        },
        "id": "avmsiubDCwi1",
        "outputId": "e2a95a6e-a3c0-4a76-85da-700060ec5063"
      },
      "execution_count": null,
      "outputs": [
        {
          "output_type": "error",
          "ename": "NameError",
          "evalue": "name 'Path' is not defined",
          "traceback": [
            "\u001b[0;31m---------------------------------------------------------------------------\u001b[0m",
            "\u001b[0;31mNameError\u001b[0m                                 Traceback (most recent call last)",
            "\u001b[0;32m<ipython-input-17-b642a432e0e7>\u001b[0m in \u001b[0;36m<cell line: 8>\u001b[0;34m()\u001b[0m\n\u001b[1;32m      6\u001b[0m \u001b[0;34m\u001b[0m\u001b[0m\n\u001b[1;32m      7\u001b[0m \u001b[0;31m# Save to PLY\u001b[0m\u001b[0;34m\u001b[0m\u001b[0;34m\u001b[0m\u001b[0m\n\u001b[0;32m----> 8\u001b[0;31m \u001b[0mply_path\u001b[0m \u001b[0;34m=\u001b[0m \u001b[0mPath\u001b[0m\u001b[0;34m(\u001b[0m\u001b[0mout_dir\u001b[0m\u001b[0;34m)\u001b[0m \u001b[0;34m/\u001b[0m \u001b[0;34m\"textured_mesh.ply\"\u001b[0m\u001b[0;34m\u001b[0m\u001b[0;34m\u001b[0m\u001b[0m\n\u001b[0m\u001b[1;32m      9\u001b[0m \u001b[0msave_ply\u001b[0m\u001b[0;34m(\u001b[0m\u001b[0mply_path\u001b[0m\u001b[0;34m,\u001b[0m \u001b[0mverts\u001b[0m\u001b[0;34m,\u001b[0m \u001b[0mfaces\u001b[0m\u001b[0;34m)\u001b[0m\u001b[0;34m\u001b[0m\u001b[0;34m\u001b[0m\u001b[0m\n\u001b[1;32m     10\u001b[0m \u001b[0mprint\u001b[0m\u001b[0;34m(\u001b[0m\u001b[0;34mf\"Saved PLY with vertex colors to {ply_path}\"\u001b[0m\u001b[0;34m)\u001b[0m\u001b[0;34m\u001b[0m\u001b[0;34m\u001b[0m\u001b[0m\n",
            "\u001b[0;31mNameError\u001b[0m: name 'Path' is not defined"
          ]
        }
      ]
    },
    {
      "cell_type": "markdown",
      "source": [
        "## display render"
      ],
      "metadata": {
        "id": "sy1HD1-5HZdr"
      }
    },
    {
      "cell_type": "code",
      "source": [
        "#images = SDFusion.renderer(mesh)\n",
        "#mesh.textures.faces_verts_textures_packed()\n",
        "from pytorch3d.renderer import PointLights\n",
        "\n",
        "lights = PointLights(device=device, location=[[0.0, 0.0, -3.0]])\n",
        "lights.location = torch.tensor([0.2, 0.0, 0.0], device=device)[None]\n",
        "\n",
        "for i, mesh in enumerate(mesh_gen):\n",
        "    texture_image = mesh.textures.verts_features_padded().squeeze().cpu().numpy()\n",
        "    img_comb = SDFusion.renderer(mesh, lights=lights)\n",
        "    print(f\"TEXTURES ---- {mesh.textures}---\")\n",
        "    #img_comb = render_mesh(SDFusion.renderer, mesh, norm=False)\n",
        "    plt.figure(figsize=(10, 10))\n",
        "    plt.imshow(img_comb[0, ..., :3].cpu().numpy())\n",
        "   # plt.imshow(img_comb.cpu().numpy())\n",
        "    plt.axis(\"off\")"
      ],
      "metadata": {
        "colab": {
          "base_uri": "https://localhost:8080/",
          "height": 824
        },
        "id": "MsWhUHpQ_sVd",
        "outputId": "8b357055-f20b-4254-8436-a5d449ac80a7"
      },
      "execution_count": null,
      "outputs": [
        {
          "output_type": "stream",
          "name": "stdout",
          "text": [
            "TEXTURES ---- <pytorch3d.renderer.mesh.textures.TexturesVertex object at 0x7a033c7674f0>---\n"
          ]
        },
        {
          "output_type": "display_data",
          "data": {
            "text/plain": [
              "<Figure size 1000x1000 with 1 Axes>"
            ],
            "image/png": "[encoded data removed]"
          },
          "metadata": {}
        }
      ]
    },
    {
      "cell_type": "code",
      "source": [
        "'''for i, mesh in enumerate(mesh_gen):\n",
        "  plt.figure(figsize=(7,7))\n",
        "  texture_image=mesh.textures.verts_features_padded()\n",
        "  plt.imshow(texture_image.squeeze().cpu().numpy())\n",
        "  plt.axis(\"off\");'''\n",
        "for i, mesh in enumerate(mesh_gen):\n",
        "    plt.figure(figsize=(7, 7))\n",
        "\n",
        "    # Get vertex features (e.g., RGB values)\n",
        "    texture_image = mesh.textures.verts_features_padded()  # Shape: (1, N, 3)\n",
        "\n",
        "    # Check the shape of the texture\n",
        "    print(f\"Texture shape: {texture_image.shape}\")\n",
        "\n",
        "    # Visualize the texture as an array (flattening may be needed)\n",
        "    texture_image_np = texture_image.squeeze().cpu().numpy()  # Shape: (N, 3)\n",
        "    plt.imshow(texture_image_np, aspect='auto')  # Display as a continuous line\n",
        "    plt.axis(\"off\")"
      ],
      "metadata": {
        "id": "Yqh-o5PDX-uS",
        "outputId": "938d414c-6dcf-4de6-b4f9-51632f54f0fe",
        "colab": {
          "base_uri": "https://localhost:8080/",
          "height": 593
        }
      },
      "execution_count": null,
      "outputs": [
        {
          "output_type": "stream",
          "name": "stdout",
          "text": [
            "Texture shape: torch.Size([1, 8086, 3])\n"
          ]
        },
        {
          "output_type": "display_data",
          "data": {
            "text/plain": [
              "<Figure size 700x700 with 1 Axes>"
            ],
            "image/png": "[encoded data removed]"
          },
          "metadata": {}
        }
      ]
    },
    {
      "cell_type": "code",
      "source": [
        "import trimesh\n",
        "import numpy as np\n",
        "\n",
        "# Extract vertex positions, faces, and vertex colors\n",
        "verts = mesh.verts_packed().cpu().numpy()  # (N, 3)\n",
        "faces = mesh.faces_packed().cpu().numpy()  # (F, 3)\n",
        "verts_rgb = mesh.textures.verts_features_packed().cpu().numpy()  # (N, 3)\n",
        "\n",
        "# Create a Trimesh object with vertex colors\n",
        "trimesh_mesh = trimesh.Trimesh(vertices=verts, faces=faces, vertex_colors=verts_rgb)#vertex_colors=(verts_rgb * 255).astype(np.uint8)\n",
        "\n",
        "# Save to .ply\n",
        "ply_path = Path(out_dir) / f\"newshape_{i}_{input_txt.replace(' ', '_')}.ply\"\n",
        "trimesh_mesh.export(ply_path)\n",
        "print(f\"Saved mesh with vertex colors to {ply_path}\")\n"
      ],
      "metadata": {
        "id": "H47SNXyvaArx",
        "outputId": "b79351be-c1a7-4ba9-be06-a4a8cf6f6459",
        "colab": {
          "base_uri": "https://localhost:8080/"
        }
      },
      "execution_count": null,
      "outputs": [
        {
          "output_type": "stream",
          "name": "stdout",
          "text": [
            "Saved mesh with vertex colors to demo_results/newshape_0_A_round_red_color_chair_with_four_legs_0.5_meters_in_length_each.ply\n"
          ]
        }
      ]
    },
    {
      "cell_type": "code",
      "source": [
        "from pytorch3d.io import save_obj, save_ply\n",
        "\n",
        " # Assuming each mesh has a `textures` attribute with a Textures object\n",
        "for i, mesh in enumerate(mesh_gen):\n",
        "    verts, faces = mesh.verts_packed(), mesh.faces_packed()\n",
        "\n",
        "    # Save geometry and textures to .obj format\n",
        "    if hasattr(mesh, 'textures') and mesh.textures is not None:\n",
        "        vertex_colors = mesh.textures.verts_features_packed()  # Extract vertex colors\n",
        "\n",
        "        # Save to .obj without UVs but with vertex colors\n",
        "        obj_path = f\"{out_dir}/shape_{i}_{input_txt.replace(' ', '_')}_textured.obj\"\n",
        "        save_obj(obj_path, verts, faces)  # OBJ doesn't natively support vertex colors\n",
        "        print(f\"Saved OBJ to {obj_path} (vertex colors not directly supported in OBJ)\")\n",
        "\n",
        "        # Save to .ply with vertex colors\n",
        "        ply_path = f\"{out_dir}/shape_{i}_{input_txt.replace(' ', '_')}_textured.ply\"\n",
        "        save_ply(ply_path, verts, faces, verts_rgb=vertex_colors)\n",
        "        print(f\"Saved PLY to {ply_path} (with vertex colors)\")\n",
        "\n",
        "    else:\n",
        "        # Save without textures\n",
        "        obj_path = f\"{out_dir}/shape_{i}_{input_txt.replace(' ', '_')}.obj\"\n",
        "        save_obj(obj_path, verts, faces)\n",
        "        print(f\"Saved OBJ (no textures) to {obj_path}\")\n"
      ],
      "metadata": {
        "colab": {
          "base_uri": "https://localhost:8080/",
          "height": 248
        },
        "id": "hrStyMmu3zUU",
        "outputId": "63f33869-29b8-49bb-dfeb-fcc3db5b8a0f"
      },
      "execution_count": null,
      "outputs": [
        {
          "output_type": "stream",
          "name": "stdout",
          "text": [
            "Saved OBJ to demo_results/shape_0_A_round_red_color_chair_with_four_legs_0.5_meters_in_length_each_textured.obj (vertex colors not directly supported in OBJ)\n"
          ]
        },
        {
          "output_type": "error",
          "ename": "TypeError",
          "evalue": "save_ply() got an unexpected keyword argument 'verts_rgb'",
          "traceback": [
            "\u001b[0;31m---------------------------------------------------------------------------\u001b[0m",
            "\u001b[0;31mTypeError\u001b[0m                                 Traceback (most recent call last)",
            "\u001b[0;32m<ipython-input-21-8adbce2a43ba>\u001b[0m in \u001b[0;36m<cell line: 4>\u001b[0;34m()\u001b[0m\n\u001b[1;32m     16\u001b[0m         \u001b[0;31m# Save to .ply with vertex colors\u001b[0m\u001b[0;34m\u001b[0m\u001b[0;34m\u001b[0m\u001b[0m\n\u001b[1;32m     17\u001b[0m         \u001b[0mply_path\u001b[0m \u001b[0;34m=\u001b[0m \u001b[0;34mf\"{out_dir}/shape_{i}_{input_txt.replace(' ', '_')}_textured.ply\"\u001b[0m\u001b[0;34m\u001b[0m\u001b[0;34m\u001b[0m\u001b[0m\n\u001b[0;32m---> 18\u001b[0;31m         \u001b[0msave_ply\u001b[0m\u001b[0;34m(\u001b[0m\u001b[0mply_path\u001b[0m\u001b[0;34m,\u001b[0m \u001b[0mverts\u001b[0m\u001b[0;34m,\u001b[0m \u001b[0mfaces\u001b[0m\u001b[0;34m,\u001b[0m \u001b[0mverts_rgb\u001b[0m\u001b[0;34m=\u001b[0m\u001b[0mvertex_colors\u001b[0m\u001b[0;34m)\u001b[0m\u001b[0;34m\u001b[0m\u001b[0;34m\u001b[0m\u001b[0m\n\u001b[0m\u001b[1;32m     19\u001b[0m         \u001b[0mprint\u001b[0m\u001b[0;34m(\u001b[0m\u001b[0;34mf\"Saved PLY to {ply_path} (with vertex colors)\"\u001b[0m\u001b[0;34m)\u001b[0m\u001b[0;34m\u001b[0m\u001b[0;34m\u001b[0m\u001b[0m\n\u001b[1;32m     20\u001b[0m \u001b[0;34m\u001b[0m\u001b[0m\n",
            "\u001b[0;31mTypeError\u001b[0m: save_ply() got an unexpected keyword argument 'verts_rgb'"
          ]
        }
      ]
    },
    {
      "cell_type": "code",
      "execution_count": null,
      "metadata": {
        "id": "J1ZQCHmXovoo"
      },
      "outputs": [],
      "source": []
    }
  ],
  "metadata": {
    "kernelspec": {
      "display_name": "Python 3",
      "name": "python3"
    },
    "language_info": {
      "codemirror_mode": {
        "name": "ipython",
        "version": 3
      },
      "file_extension": ".py",
      "mimetype": "text/x-python",
      "name": "python",
      "nbconvert_exporter": "python",
      "pygments_lexer": "ipython3",
      "version": "3.8.11"
    },
    "vscode": {
      "interpreter": {
        "hash": "c9bb85e944c303a90ba1b7f3901817f7bc3ecb5f736863b2299a6fa67a7b3c89"
      }
    },
    "colab": {
      "provenance": [],
      "gpuType": "T4"
    },
    "accelerator": "GPU"
  },
  "nbformat": 4,
  "nbformat_minor": 0
}